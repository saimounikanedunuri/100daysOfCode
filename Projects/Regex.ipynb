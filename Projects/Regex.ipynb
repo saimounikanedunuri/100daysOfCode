{
 "cells": [
  {
   "cell_type": "code",
   "execution_count": null,
   "id": "64529a46",
   "metadata": {},
   "outputs": [],
   "source": [
    "#Regular Expressions are used to match string patterns.\n",
    "-They are very powerful\n",
    "\n",
    "-If you want to pull out a string pattern RE can do it\n"
   ]
  },
  {
   "cell_type": "markdown",
   "id": "c96623cd",
   "metadata": {},
   "source": [
    "# Things to note"
   ]
  },
  {
   "cell_type": "code",
   "execution_count": null,
   "id": "a18cafdf",
   "metadata": {},
   "outputs": [],
   "source": [
    "#Python uses back slash to indicate special characters \n",
    "\n",
    "\n",
    "'\\n'  Backslash followed by n denotes a newline\n",
    "'\\t'  denotes a tab"
   ]
  },
  {
   "cell_type": "code",
   "execution_count": null,
   "id": "299ebc7d",
   "metadata": {},
   "outputs": [],
   "source": [
    " 'r' expression, that voids the Python's special characters\n",
    "\n",
    " r'\\n' means it's a raw string with two characters 'n' and '\\' as \n",
    "opposed to just one special character'  "
   ]
  },
  {
   "cell_type": "code",
   "execution_count": null,
   "id": "75cf3481",
   "metadata": {},
   "outputs": [],
   "source": [
    "import re\n",
    "re.search('n', '\\n')  #first item is pattern, second item is string"
   ]
  },
  {
   "cell_type": "code",
   "execution_count": 2,
   "id": "5491f477",
   "metadata": {},
   "outputs": [],
   "source": [
    "import re\n",
    "re.search('n','\\n')"
   ]
  },
  {
   "cell_type": "code",
   "execution_count": 4,
   "id": "28197262",
   "metadata": {},
   "outputs": [
    {
     "data": {
      "text/plain": [
       "<re.Match object; span=(1, 2), match='n'>"
      ]
     },
     "execution_count": 4,
     "metadata": {},
     "output_type": "execute_result"
    }
   ],
   "source": [
    "#two ways to handle this one way is to use \\ for every backslash\n",
    "\n",
    "import re\n",
    "re.search('n', '\\\\n')   "
   ]
  },
  {
   "cell_type": "code",
   "execution_count": 5,
   "id": "c583ff5a",
   "metadata": {},
   "outputs": [],
   "source": [
    "re.search('n',  '\\n\\n\\n\\n\\n\\n\\n\\n\\n\\n\\n\\n\\n\\n\\n')  #not the best way if we\n",
    "                                                   #have too many \\s"
   ]
  },
  {
   "cell_type": "code",
   "execution_count": 6,
   "id": "d7278638",
   "metadata": {},
   "outputs": [
    {
     "data": {
      "text/plain": [
       "<re.Match object; span=(1, 2), match='n'>"
      ]
     },
     "execution_count": 6,
     "metadata": {},
     "output_type": "execute_result"
    }
   ],
   "source": [
    "re.search('n',  r'\\n\\n\\n\\n\\n\\n\\n\\n\\n\\n\\n\\n\\n\\n\\n')    #r converts to raw string"
   ]
  },
  {
   "cell_type": "code",
   "execution_count": 7,
   "id": "4aa8982f",
   "metadata": {},
   "outputs": [
    {
     "data": {
      "text/plain": [
       "<re.Match object; span=(0, 1), match='\\n'>"
      ]
     },
     "execution_count": 7,
     "metadata": {},
     "output_type": "execute_result"
    }
   ],
   "source": [
    "\n",
    "#regular expressions has its own special characters as well\n",
    "# regex with '\\n' and r'\\n' both look for newline\n",
    "\n",
    "re.search('\\n',  '\\n\\n\\n\\n\\n\\n\\n\\n\\n\\n\\n\\n\\n\\n\\n')   "
   ]
  },
  {
   "cell_type": "code",
   "execution_count": 8,
   "id": "6a2b5914",
   "metadata": {},
   "outputs": [
    {
     "data": {
      "text/plain": [
       "<re.Match object; span=(0, 1), match='\\n'>"
      ]
     },
     "execution_count": 8,
     "metadata": {},
     "output_type": "execute_result"
    }
   ],
   "source": [
    "re.search(r'\\n',  '\\n\\n')     #this works as well because r'\\n' also looks\n",
    "                                #for new line"
   ]
  },
  {
   "cell_type": "code",
   "execution_count": 10,
   "id": "3f1d77a6",
   "metadata": {},
   "outputs": [],
   "source": [
    "#doesn't work because sting doesn't use newline and r'\\n' looks for newline\n",
    "\n",
    "re.search(r'\\n',  r'\\n\\n')    #r"
   ]
  },
  {
   "cell_type": "code",
   "execution_count": null,
   "id": "7061b933",
   "metadata": {},
   "outputs": [],
   "source": []
  }
 ],
 "metadata": {
  "kernelspec": {
   "display_name": "Python 3 (ipykernel)",
   "language": "python",
   "name": "python3"
  },
  "language_info": {
   "codemirror_mode": {
    "name": "ipython",
    "version": 3
   },
   "file_extension": ".py",
   "mimetype": "text/x-python",
   "name": "python",
   "nbconvert_exporter": "python",
   "pygments_lexer": "ipython3",
   "version": "3.9.7"
  }
 },
 "nbformat": 4,
 "nbformat_minor": 5
}
