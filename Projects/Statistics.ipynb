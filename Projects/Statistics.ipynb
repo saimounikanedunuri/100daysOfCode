{
 "cells": [
  {
   "cell_type": "code",
   "execution_count": 1,
   "id": "c91cb1a7",
   "metadata": {},
   "outputs": [],
   "source": [
    "import pandas as pd"
   ]
  },
  {
   "cell_type": "code",
   "execution_count": 2,
   "id": "a0a5ddd2",
   "metadata": {},
   "outputs": [],
   "source": [
    "data=pd.read_csv('C:/Users/nedun/Documents/Mona/ML/Titanic_data/train.csv')"
   ]
  },
  {
   "cell_type": "code",
   "execution_count": 3,
   "id": "dc9dd08b",
   "metadata": {},
   "outputs": [
    {
     "data": {
      "text/html": [
       "<div>\n",
       "<style scoped>\n",
       "    .dataframe tbody tr th:only-of-type {\n",
       "        vertical-align: middle;\n",
       "    }\n",
       "\n",
       "    .dataframe tbody tr th {\n",
       "        vertical-align: top;\n",
       "    }\n",
       "\n",
       "    .dataframe thead th {\n",
       "        text-align: right;\n",
       "    }\n",
       "</style>\n",
       "<table border=\"1\" class=\"dataframe\">\n",
       "  <thead>\n",
       "    <tr style=\"text-align: right;\">\n",
       "      <th></th>\n",
       "      <th>PassengerId</th>\n",
       "      <th>Survived</th>\n",
       "      <th>Pclass</th>\n",
       "      <th>Name</th>\n",
       "      <th>Sex</th>\n",
       "      <th>Age</th>\n",
       "      <th>SibSp</th>\n",
       "      <th>Parch</th>\n",
       "      <th>Ticket</th>\n",
       "      <th>Fare</th>\n",
       "      <th>Cabin</th>\n",
       "      <th>Embarked</th>\n",
       "    </tr>\n",
       "  </thead>\n",
       "  <tbody>\n",
       "    <tr>\n",
       "      <th>0</th>\n",
       "      <td>1</td>\n",
       "      <td>0</td>\n",
       "      <td>3</td>\n",
       "      <td>Braund, Mr. Owen Harris</td>\n",
       "      <td>male</td>\n",
       "      <td>22.0</td>\n",
       "      <td>1</td>\n",
       "      <td>0</td>\n",
       "      <td>A/5 21171</td>\n",
       "      <td>7.2500</td>\n",
       "      <td>NaN</td>\n",
       "      <td>S</td>\n",
       "    </tr>\n",
       "    <tr>\n",
       "      <th>1</th>\n",
       "      <td>2</td>\n",
       "      <td>1</td>\n",
       "      <td>1</td>\n",
       "      <td>Cumings, Mrs. John Bradley (Florence Briggs Th...</td>\n",
       "      <td>female</td>\n",
       "      <td>38.0</td>\n",
       "      <td>1</td>\n",
       "      <td>0</td>\n",
       "      <td>PC 17599</td>\n",
       "      <td>71.2833</td>\n",
       "      <td>C85</td>\n",
       "      <td>C</td>\n",
       "    </tr>\n",
       "    <tr>\n",
       "      <th>2</th>\n",
       "      <td>3</td>\n",
       "      <td>1</td>\n",
       "      <td>3</td>\n",
       "      <td>Heikkinen, Miss. Laina</td>\n",
       "      <td>female</td>\n",
       "      <td>26.0</td>\n",
       "      <td>0</td>\n",
       "      <td>0</td>\n",
       "      <td>STON/O2. 3101282</td>\n",
       "      <td>7.9250</td>\n",
       "      <td>NaN</td>\n",
       "      <td>S</td>\n",
       "    </tr>\n",
       "    <tr>\n",
       "      <th>3</th>\n",
       "      <td>4</td>\n",
       "      <td>1</td>\n",
       "      <td>1</td>\n",
       "      <td>Futrelle, Mrs. Jacques Heath (Lily May Peel)</td>\n",
       "      <td>female</td>\n",
       "      <td>35.0</td>\n",
       "      <td>1</td>\n",
       "      <td>0</td>\n",
       "      <td>113803</td>\n",
       "      <td>53.1000</td>\n",
       "      <td>C123</td>\n",
       "      <td>S</td>\n",
       "    </tr>\n",
       "    <tr>\n",
       "      <th>4</th>\n",
       "      <td>5</td>\n",
       "      <td>0</td>\n",
       "      <td>3</td>\n",
       "      <td>Allen, Mr. William Henry</td>\n",
       "      <td>male</td>\n",
       "      <td>35.0</td>\n",
       "      <td>0</td>\n",
       "      <td>0</td>\n",
       "      <td>373450</td>\n",
       "      <td>8.0500</td>\n",
       "      <td>NaN</td>\n",
       "      <td>S</td>\n",
       "    </tr>\n",
       "  </tbody>\n",
       "</table>\n",
       "</div>"
      ],
      "text/plain": [
       "   PassengerId  Survived  Pclass  \\\n",
       "0            1         0       3   \n",
       "1            2         1       1   \n",
       "2            3         1       3   \n",
       "3            4         1       1   \n",
       "4            5         0       3   \n",
       "\n",
       "                                                Name     Sex   Age  SibSp  \\\n",
       "0                            Braund, Mr. Owen Harris    male  22.0      1   \n",
       "1  Cumings, Mrs. John Bradley (Florence Briggs Th...  female  38.0      1   \n",
       "2                             Heikkinen, Miss. Laina  female  26.0      0   \n",
       "3       Futrelle, Mrs. Jacques Heath (Lily May Peel)  female  35.0      1   \n",
       "4                           Allen, Mr. William Henry    male  35.0      0   \n",
       "\n",
       "   Parch            Ticket     Fare Cabin Embarked  \n",
       "0      0         A/5 21171   7.2500   NaN        S  \n",
       "1      0          PC 17599  71.2833   C85        C  \n",
       "2      0  STON/O2. 3101282   7.9250   NaN        S  \n",
       "3      0            113803  53.1000  C123        S  \n",
       "4      0            373450   8.0500   NaN        S  "
      ]
     },
     "execution_count": 3,
     "metadata": {},
     "output_type": "execute_result"
    }
   ],
   "source": [
    "data.head()"
   ]
  },
  {
   "cell_type": "code",
   "execution_count": 4,
   "id": "73646a5a",
   "metadata": {},
   "outputs": [
    {
     "data": {
      "text/plain": [
       "Index(['PassengerId', 'Survived', 'Pclass', 'Name', 'Sex', 'Age', 'SibSp',\n",
       "       'Parch', 'Ticket', 'Fare', 'Cabin', 'Embarked'],\n",
       "      dtype='object')"
      ]
     },
     "execution_count": 4,
     "metadata": {},
     "output_type": "execute_result"
    }
   ],
   "source": [
    "data.columns"
   ]
  },
  {
   "cell_type": "code",
   "execution_count": 5,
   "id": "63abb874",
   "metadata": {},
   "outputs": [
    {
     "data": {
      "text/plain": [
       "Pclass\n",
       "3    491\n",
       "1    216\n",
       "2    184\n",
       "Name: count, dtype: int64"
      ]
     },
     "execution_count": 5,
     "metadata": {},
     "output_type": "execute_result"
    }
   ],
   "source": [
    "data['Pclass'].value_counts()"
   ]
  },
  {
   "cell_type": "raw",
   "id": "816688d5",
   "metadata": {},
   "source": [
    "data['Pclass'].value_counts().plot(kind='bar')"
   ]
  },
  {
   "cell_type": "raw",
   "id": "a403301d-5f20-4657-89c3-e13b734d3d9b",
   "metadata": {},
   "source": [
    "Pie chart"
   ]
  },
  {
   "cell_type": "code",
   "execution_count": 6,
   "id": "31fcde50",
   "metadata": {},
   "outputs": [
    {
     "data": {
      "text/plain": [
       "<Axes: ylabel='count'>"
      ]
     },
     "execution_count": 6,
     "metadata": {},
     "output_type": "execute_result"
    },
    {
     "data": {
      "image/png": "[encoded data removed]",
      "text/plain": [
       "<Figure size 640x480 with 1 Axes>"
      ]
     },
     "metadata": {},
     "output_type": "display_data"
    }
   ],
   "source": [
    "data['Pclass'].value_counts().plot(kind='pie',autopct='%0.2f')"
   ]
  },
  {
   "cell_type": "raw",
   "id": "d2f96dee-d7a7-4bc5-89c6-4294ca24da93",
   "metadata": {},
   "source": [
    "Cumulative frequency"
   ]
  },
  {
   "cell_type": "code",
   "execution_count": 8,
   "id": "eaca921e",
   "metadata": {},
   "outputs": [],
   "source": [
    "a=data['Pclass'].value_counts()"
   ]
  },
  {
   "cell_type": "code",
   "execution_count": 9,
   "id": "2888ca2a-87bb-4ee9-b16a-f6398ef477e5",
   "metadata": {},
   "outputs": [
    {
     "data": {
      "text/plain": [
       "Pclass\n",
       "3    491\n",
       "1    216\n",
       "2    184\n",
       "Name: count, dtype: int64"
      ]
     },
     "execution_count": 9,
     "metadata": {},
     "output_type": "execute_result"
    }
   ],
   "source": [
    "a"
   ]
  },
  {
   "cell_type": "code",
   "execution_count": 11,
   "id": "04700f80-4b1a-47ab-9727-ebea5f5c0a3d",
   "metadata": {},
   "outputs": [],
   "source": [
    "b=((a/a.sum())*100).values"
   ]
  },
  {
   "cell_type": "code",
   "execution_count": 12,
   "id": "8e6b2acd-8bfb-47de-a03f-b0a3a2364f63",
   "metadata": {},
   "outputs": [
    {
     "data": {
      "text/plain": [
       "array([55.10662177, 24.24242424, 20.65095398])"
      ]
     },
     "execution_count": 12,
     "metadata": {},
     "output_type": "execute_result"
    }
   ],
   "source": [
    "b"
   ]
  },
  {
   "cell_type": "code",
   "execution_count": 13,
   "id": "e298bc40-a302-451a-9a71-4e81a976a465",
   "metadata": {},
   "outputs": [],
   "source": [
    "c=[]\n",
    "cf=0\n",
    "for i in b:\n",
    "    cf=cf+i\n",
    "    c.append(cf)"
   ]
  },
  {
   "cell_type": "code",
   "execution_count": 14,
   "id": "d5e098d1-2d87-4262-b241-0dcab5ea1f06",
   "metadata": {},
   "outputs": [
    {
     "data": {
      "text/plain": [
       "[55.106621773288445, 79.34904601571269, 100.0]"
      ]
     },
     "execution_count": 14,
     "metadata": {},
     "output_type": "execute_result"
    }
   ],
   "source": [
    "c"
   ]
  },
  {
   "cell_type": "code",
   "execution_count": 19,
   "id": "714081a2-b5e5-4a7b-a7ad-9b7340c587c3",
   "metadata": {},
   "outputs": [],
   "source": [
    "import matplotlib.pyplot as plt"
   ]
  },
  {
   "cell_type": "code",
   "execution_count": 20,
   "id": "f2f7da59-d8fd-4e34-be57-570c25c57e82",
   "metadata": {},
   "outputs": [
    {
     "data": {
      "text/plain": [
       "[<matplotlib.lines.Line2D at 0x26659720490>]"
      ]
     },
     "execution_count": 20,
     "metadata": {},
     "output_type": "execute_result"
    },
    {
     "data": {
      "image/png": "[encoded data removed]",
      "text/plain": [
       "<Figure size 640x480 with 1 Axes>"
      ]
     },
     "metadata": {},
     "output_type": "display_data"
    }
   ],
   "source": [
    "plt.plot(c,marker='D')"
   ]
  },
  {
   "cell_type": "raw",
   "id": "cf260aeb-40ed-4f4d-9c3e-2eeff1170619",
   "metadata": {},
   "source": [
    "Working with Quantitative/numerical data"
   ]
  },
  {
   "cell_type": "raw",
   "id": "0b962c6d-6ec6-45a8-8c73-e45800b29101",
   "metadata": {},
   "source": [
    "a. histograms"
   ]
  },
  {
   "cell_type": "code",
   "execution_count": 21,
   "id": "74862ea6-7004-4904-aa08-ab2dc319b06d",
   "metadata": {},
   "outputs": [
    {
     "data": {
      "text/plain": [
       "Age\n",
       "24.00    30\n",
       "22.00    27\n",
       "18.00    26\n",
       "19.00    25\n",
       "28.00    25\n",
       "         ..\n",
       "36.50     1\n",
       "55.50     1\n",
       "0.92      1\n",
       "23.50     1\n",
       "74.00     1\n",
       "Name: count, Length: 88, dtype: int64"
      ]
     },
     "execution_count": 21,
     "metadata": {},
     "output_type": "execute_result"
    }
   ],
   "source": [
    "data['Age'].value_counts()"
   ]
  },
  {
   "cell_type": "code",
   "execution_count": 24,
   "id": "5f3ffe84-1dea-4e4a-9024-f119e4367f2d",
   "metadata": {},
   "outputs": [],
   "source": [
    "d=data['Age'].values"
   ]
  },
  {
   "cell_type": "code",
   "execution_count": 25,
   "id": "565f9227-6f08-4ef8-bba3-420d1f17a35b",
   "metadata": {},
   "outputs": [
    {
     "data": {
      "text/plain": [
       "(array([ 54.,  46., 177., 169., 118.,  70.,  45.,  24.,   9.,   2.]),\n",
       " array([ 0.42 ,  8.378, 16.336, 24.294, 32.252, 40.21 , 48.168, 56.126,\n",
       "        64.084, 72.042, 80.   ]),\n",
       " <BarContainer object of 10 artists>)"
      ]
     },
     "execution_count": 25,
     "metadata": {},
     "output_type": "execute_result"
    },
    {
     "data": {
      "image/png": "[encoded data removed]",
      "text/plain": [
       "<Figure size 640x480 with 1 Axes>"
      ]
     },
     "metadata": {},
     "output_type": "display_data"
    }
   ],
   "source": [
    "plt.hist(d)"
   ]
  },
  {
   "cell_type": "raw",
   "id": "10d8bb58-b1ec-4f70-a3bf-95989eed4bc3",
   "metadata": {},
   "source": [
    "b. boxplots"
   ]
  },
  {
   "cell_type": "code",
   "execution_count": 31,
   "id": "2be3c6c6-452f-48f1-9fd9-b8bb54943b98",
   "metadata": {},
   "outputs": [],
   "source": [
    "a=data.dropna(subset=['Age'])"
   ]
  },
  {
   "cell_type": "code",
   "execution_count": 32,
   "id": "e524f851-1b82-41d1-bb72-a5c9696113f0",
   "metadata": {},
   "outputs": [],
   "source": [
    "a=a['Age'].values"
   ]
  },
  {
   "cell_type": "code",
   "execution_count": 35,
   "id": "72b1d93d-db86-4ddd-a869-f52d6d1b5810",
   "metadata": {},
   "outputs": [],
   "source": [
    "import numpy as np"
   ]
  },
  {
   "cell_type": "code",
   "execution_count": 36,
   "id": "d60b00bb-500d-45f5-a7ff-2daea1ae7aff",
   "metadata": {},
   "outputs": [
    {
     "data": {
      "text/plain": [
       "28.0"
      ]
     },
     "execution_count": 36,
     "metadata": {},
     "output_type": "execute_result"
    }
   ],
   "source": [
    "np.median(a)"
   ]
  },
  {
   "cell_type": "raw",
   "id": "ba7bb16c-fffd-42d3-8dc7-c755915933ee",
   "metadata": {},
   "source": [
    "c. kdeplot"
   ]
  },
  {
   "cell_type": "code",
   "execution_count": 38,
   "id": "27565fed-7d64-41a6-ace8-1c4418c00397",
   "metadata": {},
   "outputs": [
    {
     "name": "stderr",
     "output_type": "stream",
     "text": [
      "C:\\Users\\nedun\\anaconda\\Lib\\site-packages\\seaborn\\_oldcore.py:1119: FutureWarning: use_inf_as_na option is deprecated and will be removed in a future version. Convert inf values to NaN before operating instead.\n",
      "  with pd.option_context('mode.use_inf_as_na', True):\n"
     ]
    },
    {
     "data": {
      "text/plain": [
       "<Axes: xlabel='Age', ylabel='Density'>"
      ]
     },
     "execution_count": 38,
     "metadata": {},
     "output_type": "execute_result"
    },
    {
     "data": {
      "image/png": "[encoded data removed]",
      "text/plain": [
       "<Figure size 640x480 with 1 Axes>"
      ]
     },
     "metadata": {},
     "output_type": "display_data"
    }
   ],
   "source": [
    "sns.kdeplot(data['Age'])"
   ]
  },
  {
   "cell_type": "raw",
   "id": "1031e7ee-efb9-47ee-be16-1c0e8926e4d4",
   "metadata": {},
   "source": [
    "working with 2 variables/data (bivariate analysis) "
   ]
  },
  {
   "cell_type": "raw",
   "id": "24dc44c5-38a3-45f3-a5ad-554e1700dde7",
   "metadata": {},
   "source": [
    "a. box plot"
   ]
  },
  {
   "cell_type": "code",
   "execution_count": 39,
   "id": "3ba129b3-12e9-48e5-be08-4bfb3e06741f",
   "metadata": {},
   "outputs": [
    {
     "data": {
      "text/plain": [
       "<Axes: xlabel='Pclass', ylabel='Age'>"
      ]
     },
     "execution_count": 39,
     "metadata": {},
     "output_type": "execute_result"
    },
    {
     "data": {
      "image/png": "[encoded data removed]",
      "text/plain": [
       "<Figure size 640x480 with 1 Axes>"
      ]
     },
     "metadata": {},
     "output_type": "display_data"
    }
   ],
   "source": [
    "sns.boxplot(x='Pclass',y='Age',data=data)"
   ]
  },
  {
   "cell_type": "raw",
   "id": "df33c8ff-8452-4129-a7fd-24f651a13620",
   "metadata": {},
   "source": [
    "b. bar plot"
   ]
  },
  {
   "cell_type": "code",
   "execution_count": 40,
   "id": "a3e3311f-72c6-4cee-889b-a640163255c2",
   "metadata": {},
   "outputs": [
    {
     "data": {
      "text/plain": [
       "<Axes: xlabel='Pclass', ylabel='Age'>"
      ]
     },
     "execution_count": 40,
     "metadata": {},
     "output_type": "execute_result"
    },
    {
     "data": {
      "image/png": "[encoded data removed]",
      "text/plain": [
       "<Figure size 640x480 with 1 Axes>"
      ]
     },
     "metadata": {},
     "output_type": "display_data"
    }
   ],
   "source": [
    "sns.barplot(x='Pclass',y='Age',data=data)"
   ]
  },
  {
   "cell_type": "raw",
   "id": "1860fb74-2e70-42d5-8378-9a3d8da2d45e",
   "metadata": {},
   "source": [
    "2. numerical vs numerical"
   ]
  },
  {
   "cell_type": "raw",
   "id": "fa76a2bd-3dc0-42ac-9f5d-0f7a51662663",
   "metadata": {},
   "source": [
    "a. scatter plot"
   ]
  },
  {
   "cell_type": "code",
   "execution_count": 41,
   "id": "3033414a-2fb8-4fc0-b760-c98efc15721c",
   "metadata": {},
   "outputs": [
    {
     "data": {
      "text/plain": [
       "Index(['PassengerId', 'Survived', 'Pclass', 'Name', 'Sex', 'Age', 'SibSp',\n",
       "       'Parch', 'Ticket', 'Fare', 'Cabin', 'Embarked'],\n",
       "      dtype='object')"
      ]
     },
     "execution_count": 41,
     "metadata": {},
     "output_type": "execute_result"
    }
   ],
   "source": [
    "data.columns"
   ]
  },
  {
   "cell_type": "code",
   "execution_count": 43,
   "id": "5aeba28c-281d-4dd2-9b84-0d1fcff014c4",
   "metadata": {},
   "outputs": [],
   "source": [
    "m=data['Age'].values\n",
    "n=data['Fare'].values"
   ]
  },
  {
   "cell_type": "code",
   "execution_count": 44,
   "id": "7dd2c205-5ab4-4b9b-a19d-af5e08d6c725",
   "metadata": {},
   "outputs": [
    {
     "data": {
      "text/plain": [
       "<matplotlib.collections.PathCollection at 0x266608b1750>"
      ]
     },
     "execution_count": 44,
     "metadata": {},
     "output_type": "execute_result"
    },
    {
     "data": {
      "image/png": "[encoded data removed]",
      "text/plain": [
       "<Figure size 640x480 with 1 Axes>"
      ]
     },
     "metadata": {},
     "output_type": "display_data"
    }
   ],
   "source": [
    "plt.scatter(m,n)"
   ]
  },
  {
   "cell_type": "raw",
   "id": "9b75550b-b3a5-4ac7-ac66-cdf13bfb4214",
   "metadata": {},
   "source": [
    "3. categorical vs categorical"
   ]
  },
  {
   "cell_type": "raw",
   "id": "6589db0b-0f21-414b-8dfd-cc3dc18388c8",
   "metadata": {},
   "source": [
    "a. cross tables/contingency table"
   ]
  },
  {
   "cell_type": "code",
   "execution_count": 47,
   "id": "b9cdafc4-9fc6-4f8d-be70-10fdd7cefb18",
   "metadata": {},
   "outputs": [],
   "source": [
    "ct=pd.crosstab(data['Pclass'],data['Sex'])"
   ]
  },
  {
   "cell_type": "code",
   "execution_count": 48,
   "id": "fba194c6-ff05-44e8-933d-e5d3da8a2757",
   "metadata": {},
   "outputs": [
    {
     "data": {
      "text/plain": [
       "<Axes: xlabel='Pclass'>"
      ]
     },
     "execution_count": 48,
     "metadata": {},
     "output_type": "execute_result"
    },
    {
     "data": {
      "image/png": "[encoded data removed]",
      "text/plain": [
       "<Figure size 640x480 with 1 Axes>"
      ]
     },
     "metadata": {},
     "output_type": "display_data"
    }
   ],
   "source": [
    "ct.plot(kind='bar')"
   ]
  },
  {
   "cell_type": "raw",
   "id": "fb63894d-2125-4778-9fa2-7a2623a913f4",
   "metadata": {},
   "source": [
    "c. heatmap"
   ]
  },
  {
   "cell_type": "code",
   "execution_count": 49,
   "id": "4554ca76-2fac-4d05-9c2a-75a1fbc6e37f",
   "metadata": {},
   "outputs": [
    {
     "data": {
      "text/plain": [
       "<Axes: xlabel='Sex', ylabel='Pclass'>"
      ]
     },
     "execution_count": 49,
     "metadata": {},
     "output_type": "execute_result"
    },
    {
     "data": {
      "image/png": "[encoded data removed]",
      "text/plain": [
       "<Figure size 640x480 with 2 Axes>"
      ]
     },
     "metadata": {},
     "output_type": "display_data"
    }
   ],
   "source": [
    "sns.heatmap(ct)"
   ]
  },
  {
   "cell_type": "markdown",
   "id": "93da1aea-0540-4398-b70b-2b1cc7cbe89e",
   "metadata": {},
   "source": [
    "descriptive stats"
   ]
  },
  {
   "cell_type": "code",
   "execution_count": 53,
   "id": "0c854fa7-76ec-4cff-b500-cf0dda8e7b4e",
   "metadata": {},
   "outputs": [],
   "source": [
    "data=pd.read_csv('C:/Users/nedun/Documents/Mona/ML/Titanic_data/iris.csv')"
   ]
  },
  {
   "cell_type": "code",
   "execution_count": 54,
   "id": "f862d306-2a1b-41c9-ad34-55c2af8cf047",
   "metadata": {},
   "outputs": [
    {
     "data": {
      "text/html": [
       "<div>\n",
       "<style scoped>\n",
       "    .dataframe tbody tr th:only-of-type {\n",
       "        vertical-align: middle;\n",
       "    }\n",
       "\n",
       "    .dataframe tbody tr th {\n",
       "        vertical-align: top;\n",
       "    }\n",
       "\n",
       "    .dataframe thead th {\n",
       "        text-align: right;\n",
       "    }\n",
       "</style>\n",
       "<table border=\"1\" class=\"dataframe\">\n",
       "  <thead>\n",
       "    <tr style=\"text-align: right;\">\n",
       "      <th></th>\n",
       "      <th>SepalLengthCm</th>\n",
       "      <th>SepalWidthCm</th>\n",
       "      <th>PetalLengthCm</th>\n",
       "      <th>PetalWidthCm</th>\n",
       "      <th>Species</th>\n",
       "    </tr>\n",
       "  </thead>\n",
       "  <tbody>\n",
       "    <tr>\n",
       "      <th>0</th>\n",
       "      <td>5.1</td>\n",
       "      <td>3.5</td>\n",
       "      <td>1.4</td>\n",
       "      <td>0.2</td>\n",
       "      <td>Iris-setosa</td>\n",
       "    </tr>\n",
       "    <tr>\n",
       "      <th>1</th>\n",
       "      <td>4.9</td>\n",
       "      <td>3.0</td>\n",
       "      <td>1.4</td>\n",
       "      <td>0.2</td>\n",
       "      <td>Iris-setosa</td>\n",
       "    </tr>\n",
       "    <tr>\n",
       "      <th>2</th>\n",
       "      <td>4.7</td>\n",
       "      <td>3.2</td>\n",
       "      <td>1.3</td>\n",
       "      <td>0.2</td>\n",
       "      <td>Iris-setosa</td>\n",
       "    </tr>\n",
       "    <tr>\n",
       "      <th>3</th>\n",
       "      <td>4.6</td>\n",
       "      <td>3.1</td>\n",
       "      <td>1.5</td>\n",
       "      <td>0.2</td>\n",
       "      <td>Iris-setosa</td>\n",
       "    </tr>\n",
       "    <tr>\n",
       "      <th>4</th>\n",
       "      <td>5.0</td>\n",
       "      <td>3.6</td>\n",
       "      <td>1.4</td>\n",
       "      <td>0.2</td>\n",
       "      <td>Iris-setosa</td>\n",
       "    </tr>\n",
       "  </tbody>\n",
       "</table>\n",
       "</div>"
      ],
      "text/plain": [
       "   SepalLengthCm  SepalWidthCm  PetalLengthCm  PetalWidthCm      Species\n",
       "0            5.1           3.5            1.4           0.2  Iris-setosa\n",
       "1            4.9           3.0            1.4           0.2  Iris-setosa\n",
       "2            4.7           3.2            1.3           0.2  Iris-setosa\n",
       "3            4.6           3.1            1.5           0.2  Iris-setosa\n",
       "4            5.0           3.6            1.4           0.2  Iris-setosa"
      ]
     },
     "execution_count": 54,
     "metadata": {},
     "output_type": "execute_result"
    }
   ],
   "source": [
    "data.head()"
   ]
  },
  {
   "cell_type": "code",
   "execution_count": 55,
   "id": "e9f6a63f-4464-48bf-87bb-51b9045b699d",
   "metadata": {},
   "outputs": [],
   "source": [
    "data.rename(columns={'SepalLengthCm':'SL','SepalWidthCm':'SW','PetalLengthCm':'PL','PetalWidthCm':'PW'},inplace=True)"
   ]
  },
  {
   "cell_type": "code",
   "execution_count": 56,
   "id": "eae5b765-8e68-473b-9c40-7e36f5e7325a",
   "metadata": {},
   "outputs": [
    {
     "data": {
      "text/html": [
       "<div>\n",
       "<style scoped>\n",
       "    .dataframe tbody tr th:only-of-type {\n",
       "        vertical-align: middle;\n",
       "    }\n",
       "\n",
       "    .dataframe tbody tr th {\n",
       "        vertical-align: top;\n",
       "    }\n",
       "\n",
       "    .dataframe thead th {\n",
       "        text-align: right;\n",
       "    }\n",
       "</style>\n",
       "<table border=\"1\" class=\"dataframe\">\n",
       "  <thead>\n",
       "    <tr style=\"text-align: right;\">\n",
       "      <th></th>\n",
       "      <th>SL</th>\n",
       "      <th>SW</th>\n",
       "      <th>PL</th>\n",
       "      <th>PW</th>\n",
       "      <th>Species</th>\n",
       "    </tr>\n",
       "  </thead>\n",
       "  <tbody>\n",
       "    <tr>\n",
       "      <th>0</th>\n",
       "      <td>5.1</td>\n",
       "      <td>3.5</td>\n",
       "      <td>1.4</td>\n",
       "      <td>0.2</td>\n",
       "      <td>Iris-setosa</td>\n",
       "    </tr>\n",
       "    <tr>\n",
       "      <th>1</th>\n",
       "      <td>4.9</td>\n",
       "      <td>3.0</td>\n",
       "      <td>1.4</td>\n",
       "      <td>0.2</td>\n",
       "      <td>Iris-setosa</td>\n",
       "    </tr>\n",
       "    <tr>\n",
       "      <th>2</th>\n",
       "      <td>4.7</td>\n",
       "      <td>3.2</td>\n",
       "      <td>1.3</td>\n",
       "      <td>0.2</td>\n",
       "      <td>Iris-setosa</td>\n",
       "    </tr>\n",
       "    <tr>\n",
       "      <th>3</th>\n",
       "      <td>4.6</td>\n",
       "      <td>3.1</td>\n",
       "      <td>1.5</td>\n",
       "      <td>0.2</td>\n",
       "      <td>Iris-setosa</td>\n",
       "    </tr>\n",
       "    <tr>\n",
       "      <th>4</th>\n",
       "      <td>5.0</td>\n",
       "      <td>3.6</td>\n",
       "      <td>1.4</td>\n",
       "      <td>0.2</td>\n",
       "      <td>Iris-setosa</td>\n",
       "    </tr>\n",
       "  </tbody>\n",
       "</table>\n",
       "</div>"
      ],
      "text/plain": [
       "    SL   SW   PL   PW      Species\n",
       "0  5.1  3.5  1.4  0.2  Iris-setosa\n",
       "1  4.9  3.0  1.4  0.2  Iris-setosa\n",
       "2  4.7  3.2  1.3  0.2  Iris-setosa\n",
       "3  4.6  3.1  1.5  0.2  Iris-setosa\n",
       "4  5.0  3.6  1.4  0.2  Iris-setosa"
      ]
     },
     "execution_count": 56,
     "metadata": {},
     "output_type": "execute_result"
    }
   ],
   "source": [
    "data.head()"
   ]
  },
  {
   "cell_type": "code",
   "execution_count": 57,
   "id": "674df81c-e589-4d2b-a8f9-760b787242fb",
   "metadata": {},
   "outputs": [
    {
     "data": {
      "text/html": [
       "<div>\n",
       "<style scoped>\n",
       "    .dataframe tbody tr th:only-of-type {\n",
       "        vertical-align: middle;\n",
       "    }\n",
       "\n",
       "    .dataframe tbody tr th {\n",
       "        vertical-align: top;\n",
       "    }\n",
       "\n",
       "    .dataframe thead th {\n",
       "        text-align: right;\n",
       "    }\n",
       "</style>\n",
       "<table border=\"1\" class=\"dataframe\">\n",
       "  <thead>\n",
       "    <tr style=\"text-align: right;\">\n",
       "      <th></th>\n",
       "      <th>SL</th>\n",
       "      <th>SW</th>\n",
       "      <th>PL</th>\n",
       "      <th>PW</th>\n",
       "      <th>Species</th>\n",
       "    </tr>\n",
       "  </thead>\n",
       "  <tbody>\n",
       "    <tr>\n",
       "      <th>145</th>\n",
       "      <td>6.7</td>\n",
       "      <td>3.0</td>\n",
       "      <td>5.2</td>\n",
       "      <td>2.3</td>\n",
       "      <td>Iris-virginica</td>\n",
       "    </tr>\n",
       "    <tr>\n",
       "      <th>146</th>\n",
       "      <td>6.3</td>\n",
       "      <td>2.5</td>\n",
       "      <td>5.0</td>\n",
       "      <td>1.9</td>\n",
       "      <td>Iris-virginica</td>\n",
       "    </tr>\n",
       "    <tr>\n",
       "      <th>147</th>\n",
       "      <td>6.5</td>\n",
       "      <td>3.0</td>\n",
       "      <td>5.2</td>\n",
       "      <td>2.0</td>\n",
       "      <td>Iris-virginica</td>\n",
       "    </tr>\n",
       "    <tr>\n",
       "      <th>148</th>\n",
       "      <td>6.2</td>\n",
       "      <td>3.4</td>\n",
       "      <td>5.4</td>\n",
       "      <td>2.3</td>\n",
       "      <td>Iris-virginica</td>\n",
       "    </tr>\n",
       "    <tr>\n",
       "      <th>149</th>\n",
       "      <td>5.9</td>\n",
       "      <td>3.0</td>\n",
       "      <td>5.1</td>\n",
       "      <td>1.8</td>\n",
       "      <td>Iris-virginica</td>\n",
       "    </tr>\n",
       "  </tbody>\n",
       "</table>\n",
       "</div>"
      ],
      "text/plain": [
       "      SL   SW   PL   PW         Species\n",
       "145  6.7  3.0  5.2  2.3  Iris-virginica\n",
       "146  6.3  2.5  5.0  1.9  Iris-virginica\n",
       "147  6.5  3.0  5.2  2.0  Iris-virginica\n",
       "148  6.2  3.4  5.4  2.3  Iris-virginica\n",
       "149  5.9  3.0  5.1  1.8  Iris-virginica"
      ]
     },
     "execution_count": 57,
     "metadata": {},
     "output_type": "execute_result"
    }
   ],
   "source": [
    "data.tail()"
   ]
  },
  {
   "cell_type": "code",
   "execution_count": 58,
   "id": "0bd0b347-38b3-45bd-8ff5-3a9ee5a96571",
   "metadata": {},
   "outputs": [
    {
     "data": {
      "text/plain": [
       "Species\n",
       "Iris-setosa        50\n",
       "Iris-versicolor    50\n",
       "Iris-virginica     50\n",
       "Name: count, dtype: int64"
      ]
     },
     "execution_count": 58,
     "metadata": {},
     "output_type": "execute_result"
    }
   ],
   "source": [
    "data['Species'].value_counts()"
   ]
  },
  {
   "cell_type": "code",
   "execution_count": 59,
   "id": "da78b9b9-d056-4917-a603-eabd7e7e0bee",
   "metadata": {},
   "outputs": [],
   "source": [
    "iris_setosa=data[data['Species']=='Iris-setosa']\n",
    "iris_versicolor=data[data['Species']=='Iris-versicolor']\n",
    "iris_virginca=data[data['Species']=='Iris-virginica']"
   ]
  },
  {
   "cell_type": "raw",
   "id": "9d203159-e5b3-4e68-9c1d-c1fb2627b6fd",
   "metadata": {},
   "source": [
    "1. mean"
   ]
  },
  {
   "cell_type": "code",
   "execution_count": 61,
   "id": "3c2e281d-fc3c-48af-9749-3b8cc14ca00d",
   "metadata": {},
   "outputs": [
    {
     "name": "stdout",
     "output_type": "stream",
     "text": [
      "3.418\n",
      "2.7700000000000005\n",
      "2.974\n"
     ]
    }
   ],
   "source": [
    "#sepal width\n",
    "print(np.mean(iris_setosa['SW']))\n",
    "print(np.mean(iris_versicolor['SW']))\n",
    "print(np.mean(iris_virginca['SW']))"
   ]
  },
  {
   "cell_type": "code",
   "execution_count": 62,
   "id": "0456929f-cab2-44f8-9849-c825bde2258d",
   "metadata": {},
   "outputs": [
    {
     "name": "stdout",
     "output_type": "stream",
     "text": [
      "5.006\n",
      "5.936\n",
      "6.587999999999998\n"
     ]
    }
   ],
   "source": [
    "#sepal length\n",
    "print(np.mean(iris_setosa['SL']))\n",
    "print(np.mean(iris_versicolor['SL']))\n",
    "print(np.mean(iris_virginca['SL']))"
   ]
  },
  {
   "cell_type": "code",
   "execution_count": 63,
   "id": "795f3246-b4c6-4f93-8813-7916a60f65be",
   "metadata": {},
   "outputs": [
    {
     "name": "stdout",
     "output_type": "stream",
     "text": [
      "0.244\n",
      "1.3259999999999998\n",
      "2.0260000000000002\n"
     ]
    }
   ],
   "source": [
    "#petal width\n",
    "print(np.mean(iris_setosa['PW']))\n",
    "print(np.mean(iris_versicolor['PW']))\n",
    "print(np.mean(iris_virginca['PW']))"
   ]
  },
  {
   "cell_type": "code",
   "execution_count": 64,
   "id": "3322002a-6a13-468b-814f-a174462c9029",
   "metadata": {},
   "outputs": [
    {
     "name": "stdout",
     "output_type": "stream",
     "text": [
      "1.464\n",
      "4.26\n",
      "5.5520000000000005\n"
     ]
    }
   ],
   "source": [
    "#petal length\n",
    "print(np.mean(iris_setosa['PL']))\n",
    "print(np.mean(iris_versicolor['PL']))\n",
    "print(np.mean(iris_virginca['PL']))"
   ]
  },
  {
   "cell_type": "raw",
   "id": "4892c156-f220-4efa-b4f1-4cf7ff871e22",
   "metadata": {},
   "source": [
    "the problem of outliers"
   ]
  },
  {
   "cell_type": "code",
   "execution_count": 65,
   "id": "4f0e2989-452e-42f0-99f0-5bbb6ef6ce7a",
   "metadata": {},
   "outputs": [
    {
     "data": {
      "text/plain": [
       "(array([ 1.,  1.,  2.,  7., 12., 14.,  7.,  4.,  0.,  2.]),\n",
       " array([1.  , 1.09, 1.18, 1.27, 1.36, 1.45, 1.54, 1.63, 1.72, 1.81, 1.9 ]),\n",
       " <BarContainer object of 10 artists>)"
      ]
     },
     "execution_count": 65,
     "metadata": {},
     "output_type": "execute_result"
    },
    {
     "data": {
      "image/png": "[encoded data removed]",
      "text/plain": [
       "<Figure size 640x480 with 1 Axes>"
      ]
     },
     "metadata": {},
     "output_type": "display_data"
    }
   ],
   "source": [
    "#rangle of setosa petal width is between 1 to 2\n",
    "plt.hist(iris_setosa['PL'])"
   ]
  },
  {
   "cell_type": "code",
   "execution_count": 66,
   "id": "e78c1ed6-d57d-42f6-8fa6-f6d5b7fe16af",
   "metadata": {},
   "outputs": [
    {
     "data": {
      "text/plain": [
       "2.4156862745098038"
      ]
     },
     "execution_count": 66,
     "metadata": {},
     "output_type": "execute_result"
    }
   ],
   "source": [
    "#if we add outlier of 50 at the end\n",
    "np.mean(np.append(iris_setosa['PL'],50))"
   ]
  },
  {
   "cell_type": "raw",
   "id": "dd2bfed0-1188-4b66-a7f9-e82b2bbf035f",
   "metadata": {},
   "source": [
    "2. median"
   ]
  },
  {
   "cell_type": "code",
   "execution_count": 67,
   "id": "00be425c-07f6-4ca7-87ca-ca3150fbb678",
   "metadata": {},
   "outputs": [
    {
     "name": "stdout",
     "output_type": "stream",
     "text": [
      "1.5\n",
      "4.35\n",
      "5.55\n"
     ]
    }
   ],
   "source": [
    "#petal length\n",
    "print(np.median(iris_setosa['PL']))\n",
    "print(np.median(iris_versicolor['PL']))\n",
    "print(np.median(iris_virginca['PL']))"
   ]
  },
  {
   "cell_type": "raw",
   "id": "f71f4730-6bf5-4803-9b11-25c3e003ed69",
   "metadata": {},
   "source": [
    "the good thing about median"
   ]
  },
  {
   "cell_type": "code",
   "execution_count": 68,
   "id": "b9584444-3795-40af-949e-22be55694d26",
   "metadata": {},
   "outputs": [
    {
     "data": {
      "text/plain": [
       "1.5"
      ]
     },
     "execution_count": 68,
     "metadata": {},
     "output_type": "execute_result"
    }
   ],
   "source": [
    "np.median(np.append(iris_setosa['PL'],50))"
   ]
  },
  {
   "cell_type": "code",
   "execution_count": 69,
   "id": "714f8f9f-3a27-416f-89d9-7f49d4518a2a",
   "metadata": {},
   "outputs": [
    {
     "data": {
      "text/plain": [
       "4.0"
      ]
     },
     "execution_count": 69,
     "metadata": {},
     "output_type": "execute_result"
    }
   ],
   "source": [
    "arr=np.array([1,2,4,6,2,678,467])\n",
    "np.median(arr)"
   ]
  },
  {
   "cell_type": "raw",
   "id": "71b7647b-9b01-4460-b85d-3ea2b0b857ac",
   "metadata": {},
   "source": [
    "mode"
   ]
  },
  {
   "cell_type": "code",
   "execution_count": 70,
   "id": "5774c02e-b3a4-4427-87ef-6267b6fe4cc4",
   "metadata": {},
   "outputs": [],
   "source": [
    "from scipy import stats"
   ]
  },
  {
   "cell_type": "code",
   "execution_count": 73,
   "id": "478bf3e2-98ee-4bbd-97b6-d58fc78439c0",
   "metadata": {},
   "outputs": [
    {
     "name": "stdout",
     "output_type": "stream",
     "text": [
      "ModeResult(mode=1.5, count=14)\n",
      "ModeResult(mode=4.5, count=7)\n",
      "ModeResult(mode=5.1, count=7)\n"
     ]
    }
   ],
   "source": [
    "print(stats.mode(iris_setosa['PL']))\n",
    "print(stats.mode(iris_versicolor['PL']))\n",
    "print(stats.mode(iris_virginca['PL']))"
   ]
  },
  {
   "cell_type": "raw",
   "id": "716a908a-9bf9-4a2d-ba3a-b01a7c170c67",
   "metadata": {},
   "source": [
    "Measure of spread\n",
    "1. range\n",
    "2. interquartile range(IQR)\n",
    "3. variance\n",
    "4. standard deviation"
   ]
  },
  {
   "cell_type": "raw",
   "id": "feff082a-7c88-456e-b764-27c9c30a2562",
   "metadata": {},
   "source": [
    "1. range"
   ]
  },
  {
   "cell_type": "code",
   "execution_count": 74,
   "id": "36b934ff-aeb8-43cc-bf83-42d9c0341bb9",
   "metadata": {},
   "outputs": [
    {
     "name": "stdout",
     "output_type": "stream",
     "text": [
      "the range is 0.8999999999999999\n"
     ]
    }
   ],
   "source": [
    "r=np.max(iris_setosa['PL'])-np.min(iris_setosa['PL'])\n",
    "print('the range is',r)"
   ]
  },
  {
   "cell_type": "raw",
   "id": "9cbaf3bc-e1a9-4cf0-bfe0-b391607b6823",
   "metadata": {},
   "source": [
    "2. percentiles"
   ]
  },
  {
   "cell_type": "code",
   "execution_count": 79,
   "id": "7ed390bd-6e4f-4c30-bb14-75019e2452ee",
   "metadata": {},
   "outputs": [
    {
     "name": "stdout",
     "output_type": "stream",
     "text": [
      "3.0\n",
      "8.2\n"
     ]
    }
   ],
   "source": [
    "mylist=[1,2,3,4,5,6,7,8,9]\n",
    "print(np.percentile(mylist,25))\n",
    "print(np.percentile(mylist,90))"
   ]
  },
  {
   "cell_type": "code",
   "execution_count": 78,
   "id": "74e41fb5-da90-4bde-bdaf-df96ce3d3b4d",
   "metadata": {},
   "outputs": [
    {
     "data": {
      "text/plain": [
       "1.7"
      ]
     },
     "execution_count": 78,
     "metadata": {},
     "output_type": "execute_result"
    }
   ],
   "source": [
    "np.percentile(iris_setosa['PL'],95)"
   ]
  },
  {
   "cell_type": "raw",
   "id": "9541d4a6-b2c2-4810-a123-362f32c03d29",
   "metadata": {},
   "source": [
    "3. quartiles"
   ]
  },
  {
   "cell_type": "code",
   "execution_count": 84,
   "id": "873ba698-139f-4fed-a9ef-c64f9ac46407",
   "metadata": {},
   "outputs": [
    {
     "name": "stdout",
     "output_type": "stream",
     "text": [
      "1.4\n",
      "1.5\n",
      "1.5750000000000002\n",
      "1.9\n"
     ]
    }
   ],
   "source": [
    "print(np.percentile(iris_setosa['PL'],25))\n",
    "print(np.percentile(iris_setosa['PL'],50))\n",
    "print(np.percentile(iris_setosa['PL'],75))\n",
    "print(np.percentile(iris_setosa['PL'],100))"
   ]
  },
  {
   "cell_type": "raw",
   "id": "0a3dfc6c-7b0c-498d-a783-fb838f25ab5b",
   "metadata": {},
   "source": [
    "4. interquartile range"
   ]
  },
  {
   "cell_type": "code",
   "execution_count": 87,
   "id": "5842055a-9328-44f4-8427-85b5a1b3b84f",
   "metadata": {},
   "outputs": [
    {
     "name": "stdout",
     "output_type": "stream",
     "text": [
      "the inter quartile range is 0.17500000000000027\n"
     ]
    }
   ],
   "source": [
    "iqr=np.percentile(iris_setosa['PL'],75)-np.percentile(iris_setosa['PL'],25)\n",
    "print('the inter quartile range is',iqr)"
   ]
  },
  {
   "cell_type": "raw",
   "id": "dcd514aa-9a1f-44f4-a9e0-788e7725de7b",
   "metadata": {},
   "source": [
    "5. mean absolute deviation"
   ]
  },
  {
   "cell_type": "code",
   "execution_count": 88,
   "id": "0b9ed6d7-5bb3-46a4-bd9d-ed90d7f8c8c8",
   "metadata": {},
   "outputs": [
    {
     "data": {
      "text/plain": [
       "0.02950400000000001"
      ]
     },
     "execution_count": 88,
     "metadata": {},
     "output_type": "execute_result"
    }
   ],
   "source": [
    "np.var(iris_setosa['PL'])"
   ]
  },
  {
   "cell_type": "raw",
   "id": "313c98a0-48c1-4a05-9109-d4e123338c35",
   "metadata": {},
   "source": [
    "8. standard deviation"
   ]
  },
  {
   "cell_type": "code",
   "execution_count": 89,
   "id": "96b06c62-d2bb-459b-8fbe-c8ace8ad10a2",
   "metadata": {},
   "outputs": [
    {
     "data": {
      "text/plain": [
       "0.17176728442867115"
      ]
     },
     "execution_count": 89,
     "metadata": {},
     "output_type": "execute_result"
    }
   ],
   "source": [
    "np.std(iris_setosa['PL'])"
   ]
  },
  {
   "cell_type": "raw",
   "id": "7a5a3c81-6991-4855-8dd2-13e5a7a11367",
   "metadata": {},
   "source": [
    "9. median absolute deviation"
   ]
  },
  {
   "cell_type": "code",
   "execution_count": null,
   "id": "cf763ccc-8221-4183-bd78-c0aa9e8fb473",
   "metadata": {},
   "outputs": [],
   "source": []
  },
  {
   "cell_type": "code",
   "execution_count": null,
   "id": "aade00d3-16bf-4a52-86b9-280e7d55fded",
   "metadata": {},
   "outputs": [],
   "source": []
  },
  {
   "cell_type": "code",
   "execution_count": null,
   "id": "6da2bda2-2011-487a-91d1-f206adfa56fb",
   "metadata": {},
   "outputs": [],
   "source": []
  },
  {
   "cell_type": "code",
   "execution_count": null,
   "id": "a7710b90-4cec-4ddf-bb51-f90b6bb5e575",
   "metadata": {},
   "outputs": [],
   "source": []
  },
  {
   "cell_type": "code",
   "execution_count": null,
   "id": "db5573d5-f495-408e-bde5-74d0a152ae06",
   "metadata": {},
   "outputs": [],
   "source": []
  }
 ],
 "metadata": {
  "kernelspec": {
   "display_name": "Python 3 (ipykernel)",
   "language": "python",
   "name": "python3"
  },
  "language_info": {
   "codemirror_mode": {
    "name": "ipython",
    "version": 3
   },
   "file_extension": ".py",
   "mimetype": "text/x-python",
   "name": "python",
   "nbconvert_exporter": "python",
   "pygments_lexer": "ipython3",
   "version": "3.11.7"
  }
 },
 "nbformat": 4,
 "nbformat_minor": 5
}
