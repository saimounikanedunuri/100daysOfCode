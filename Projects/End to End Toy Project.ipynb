{
 "cells": [
  {
   "cell_type": "code",
   "execution_count": 1,
   "id": "dc8db5ba-a4d9-4dfc-a606-2f2e11f85d7b",
   "metadata": {},
   "outputs": [],
   "source": [
    "import numpy as np\n",
    "import pandas as pd"
   ]
  },
  {
   "cell_type": "code",
   "execution_count": 2,
   "id": "fad81334-584b-45cc-8ba9-1ed808b56d39",
   "metadata": {},
   "outputs": [],
   "source": [
    "df = pd.read_csv('placement.csv')"
   ]
  },
  {
   "cell_type": "code",
   "execution_count": 3,
   "id": "9ebdf8a5-8e15-4f0d-b736-74beec17e964",
   "metadata": {},
   "outputs": [
    {
     "data": {
      "text/html": [
       "<div>\n",
       "<style scoped>\n",
       "    .dataframe tbody tr th:only-of-type {\n",
       "        vertical-align: middle;\n",
       "    }\n",
       "\n",
       "    .dataframe tbody tr th {\n",
       "        vertical-align: top;\n",
       "    }\n",
       "\n",
       "    .dataframe thead th {\n",
       "        text-align: right;\n",
       "    }\n",
       "</style>\n",
       "<table border=\"1\" class=\"dataframe\">\n",
       "  <thead>\n",
       "    <tr style=\"text-align: right;\">\n",
       "      <th></th>\n",
       "      <th>Unnamed: 0</th>\n",
       "      <th>cgpa</th>\n",
       "      <th>iq</th>\n",
       "      <th>placement</th>\n",
       "    </tr>\n",
       "  </thead>\n",
       "  <tbody>\n",
       "    <tr>\n",
       "      <th>0</th>\n",
       "      <td>0</td>\n",
       "      <td>6.8</td>\n",
       "      <td>123.0</td>\n",
       "      <td>1</td>\n",
       "    </tr>\n",
       "    <tr>\n",
       "      <th>1</th>\n",
       "      <td>1</td>\n",
       "      <td>5.9</td>\n",
       "      <td>106.0</td>\n",
       "      <td>0</td>\n",
       "    </tr>\n",
       "    <tr>\n",
       "      <th>2</th>\n",
       "      <td>2</td>\n",
       "      <td>5.3</td>\n",
       "      <td>121.0</td>\n",
       "      <td>0</td>\n",
       "    </tr>\n",
       "    <tr>\n",
       "      <th>3</th>\n",
       "      <td>3</td>\n",
       "      <td>7.4</td>\n",
       "      <td>132.0</td>\n",
       "      <td>1</td>\n",
       "    </tr>\n",
       "    <tr>\n",
       "      <th>4</th>\n",
       "      <td>4</td>\n",
       "      <td>5.8</td>\n",
       "      <td>142.0</td>\n",
       "      <td>0</td>\n",
       "    </tr>\n",
       "  </tbody>\n",
       "</table>\n",
       "</div>"
      ],
      "text/plain": [
       "   Unnamed: 0  cgpa     iq  placement\n",
       "0           0   6.8  123.0          1\n",
       "1           1   5.9  106.0          0\n",
       "2           2   5.3  121.0          0\n",
       "3           3   7.4  132.0          1\n",
       "4           4   5.8  142.0          0"
      ]
     },
     "execution_count": 3,
     "metadata": {},
     "output_type": "execute_result"
    }
   ],
   "source": [
    "df.head()"
   ]
  },
  {
   "cell_type": "markdown",
   "id": "723c2a3a-eadc-457d-ad61-49ba1da8d854",
   "metadata": {},
   "source": [
    "Steps\n",
    "0. preprocess + EDA + feature selection\n",
    "1. extract input and output cols\n",
    "2. scale values\n",
    "3. train test split\n",
    "4. train the model\n",
    "5. evaluate the model/model selection\n",
    "6. deploy the model"
   ]
  },
  {
   "cell_type": "code",
   "execution_count": 4,
   "id": "0303fe38-0c75-4a9a-b631-cf067e81c5a7",
   "metadata": {},
   "outputs": [
    {
     "name": "stdout",
     "output_type": "stream",
     "text": [
      "<class 'pandas.core.frame.DataFrame'>\n",
      "RangeIndex: 100 entries, 0 to 99\n",
      "Data columns (total 4 columns):\n",
      " #   Column      Non-Null Count  Dtype  \n",
      "---  ------      --------------  -----  \n",
      " 0   Unnamed: 0  100 non-null    int64  \n",
      " 1   cgpa        100 non-null    float64\n",
      " 2   iq          100 non-null    float64\n",
      " 3   placement   100 non-null    int64  \n",
      "dtypes: float64(2), int64(2)\n",
      "memory usage: 3.3 KB\n"
     ]
    }
   ],
   "source": [
    "df.info()"
   ]
  },
  {
   "cell_type": "code",
   "execution_count": 5,
   "id": "9ea45ac9-a814-43a1-afa5-66242e020956",
   "metadata": {},
   "outputs": [
    {
     "data": {
      "text/plain": [
       "(100, 4)"
      ]
     },
     "execution_count": 5,
     "metadata": {},
     "output_type": "execute_result"
    }
   ],
   "source": [
    "df.shape"
   ]
  },
  {
   "cell_type": "code",
   "execution_count": 6,
   "id": "ce19e334-6ddb-4402-92a0-938af4284b3b",
   "metadata": {},
   "outputs": [],
   "source": [
    "df=df.iloc[:,1:]"
   ]
  },
  {
   "cell_type": "code",
   "execution_count": 7,
   "id": "fa7cdda4-61c2-41ba-bf99-28f6717c3fd0",
   "metadata": {},
   "outputs": [
    {
     "data": {
      "text/html": [
       "<div>\n",
       "<style scoped>\n",
       "    .dataframe tbody tr th:only-of-type {\n",
       "        vertical-align: middle;\n",
       "    }\n",
       "\n",
       "    .dataframe tbody tr th {\n",
       "        vertical-align: top;\n",
       "    }\n",
       "\n",
       "    .dataframe thead th {\n",
       "        text-align: right;\n",
       "    }\n",
       "</style>\n",
       "<table border=\"1\" class=\"dataframe\">\n",
       "  <thead>\n",
       "    <tr style=\"text-align: right;\">\n",
       "      <th></th>\n",
       "      <th>cgpa</th>\n",
       "      <th>iq</th>\n",
       "      <th>placement</th>\n",
       "    </tr>\n",
       "  </thead>\n",
       "  <tbody>\n",
       "    <tr>\n",
       "      <th>0</th>\n",
       "      <td>6.8</td>\n",
       "      <td>123.0</td>\n",
       "      <td>1</td>\n",
       "    </tr>\n",
       "    <tr>\n",
       "      <th>1</th>\n",
       "      <td>5.9</td>\n",
       "      <td>106.0</td>\n",
       "      <td>0</td>\n",
       "    </tr>\n",
       "    <tr>\n",
       "      <th>2</th>\n",
       "      <td>5.3</td>\n",
       "      <td>121.0</td>\n",
       "      <td>0</td>\n",
       "    </tr>\n",
       "    <tr>\n",
       "      <th>3</th>\n",
       "      <td>7.4</td>\n",
       "      <td>132.0</td>\n",
       "      <td>1</td>\n",
       "    </tr>\n",
       "    <tr>\n",
       "      <th>4</th>\n",
       "      <td>5.8</td>\n",
       "      <td>142.0</td>\n",
       "      <td>0</td>\n",
       "    </tr>\n",
       "  </tbody>\n",
       "</table>\n",
       "</div>"
      ],
      "text/plain": [
       "   cgpa     iq  placement\n",
       "0   6.8  123.0          1\n",
       "1   5.9  106.0          0\n",
       "2   5.3  121.0          0\n",
       "3   7.4  132.0          1\n",
       "4   5.8  142.0          0"
      ]
     },
     "execution_count": 7,
     "metadata": {},
     "output_type": "execute_result"
    }
   ],
   "source": [
    "df.head()"
   ]
  },
  {
   "cell_type": "code",
   "execution_count": 8,
   "id": "e54e4707-17a1-441c-a95d-173cdf6b8adb",
   "metadata": {},
   "outputs": [
    {
     "ename": "ImportError",
     "evalue": "cannot import name 'pyplot' from partially initialized module 'matplotlib' (most likely due to a circular import) (C:\\Users\\nedun\\Documents\\Mona\\ML\\matplotlib.py)",
     "output_type": "error",
     "traceback": [
      "\u001b[1;31m---------------------------------------------------------------------------\u001b[0m",
      "\u001b[1;31mImportError\u001b[0m                               Traceback (most recent call last)",
      "Cell \u001b[1;32mIn[8], line 1\u001b[0m\n\u001b[1;32m----> 1\u001b[0m \u001b[38;5;28;01mimport\u001b[39;00m \u001b[38;5;21;01mmatplotlib\u001b[39;00m\u001b[38;5;21;01m.\u001b[39;00m\u001b[38;5;21;01mpyplot\u001b[39;00m \u001b[38;5;28;01mas\u001b[39;00m \u001b[38;5;21;01mplt\u001b[39;00m\n",
      "File \u001b[1;32m~\\Documents\\Mona\\ML\\matplotlib.py:1\u001b[0m\n\u001b[1;32m----> 1\u001b[0m \u001b[38;5;28;01mfrom\u001b[39;00m \u001b[38;5;21;01mmatplotlib\u001b[39;00m \u001b[38;5;28;01mimport\u001b[39;00m pyplot \u001b[38;5;28;01mas\u001b[39;00m plt\n\u001b[0;32m      3\u001b[0m \u001b[38;5;66;03m#creating list\u001b[39;00m\n\u001b[0;32m      4\u001b[0m ages_x\u001b[38;5;241m=\u001b[39m[\u001b[38;5;241m25\u001b[39m,\u001b[38;5;241m26\u001b[39m,\u001b[38;5;241m27\u001b[39m,\u001b[38;5;241m28\u001b[39m,\u001b[38;5;241m29\u001b[39m,\u001b[38;5;241m30\u001b[39m,\u001b[38;5;241m31\u001b[39m,\u001b[38;5;241m32\u001b[39m,\u001b[38;5;241m33\u001b[39m,\u001b[38;5;241m34\u001b[39m,\u001b[38;5;241m35\u001b[39m]\n",
      "\u001b[1;31mImportError\u001b[0m: cannot import name 'pyplot' from partially initialized module 'matplotlib' (most likely due to a circular import) (C:\\Users\\nedun\\Documents\\Mona\\ML\\matplotlib.py)"
     ]
    }
   ],
   "source": [
    "import matplotlib.pyplot as plt"
   ]
  },
  {
   "cell_type": "code",
   "execution_count": null,
   "id": "8d0aa4c9-d5c8-41d1-9086-aadd3284c67c",
   "metadata": {},
   "outputs": [],
   "source": [
    "pip list | grep matplotlib"
   ]
  },
  {
   "cell_type": "code",
   "execution_count": 13,
   "id": "d38a0d75-a7f8-4dfb-b215-8fbd9e7ecc11",
   "metadata": {},
   "outputs": [
    {
     "name": "stdout",
     "output_type": "stream",
     "text": [
      "matplotlib                        3.8.0\n",
      "matplotlib-inline                 0.1.6\n",
      "Note: you may need to restart the kernel to use updated packages.\n"
     ]
    }
   ],
   "source": [
    "pip list | findstr matplotlib"
   ]
  },
  {
   "cell_type": "code",
   "execution_count": 14,
   "id": "3c49db66-ac97-402b-b3cb-86cb22ef3c71",
   "metadata": {},
   "outputs": [
    {
     "name": "stdout",
     "output_type": "stream",
     "text": [
      "Requirement already satisfied: matplotlib in c:\\users\\nedun\\anaconda\\lib\\site-packages (3.8.0)\n",
      "Collecting matplotlib\n",
      "  Downloading matplotlib-3.8.4-cp311-cp311-win_amd64.whl.metadata (5.9 kB)\n",
      "Requirement already satisfied: contourpy>=1.0.1 in c:\\users\\nedun\\anaconda\\lib\\site-packages (from matplotlib) (1.2.0)\n",
      "Requirement already satisfied: cycler>=0.10 in c:\\users\\nedun\\anaconda\\lib\\site-packages (from matplotlib) (0.11.0)\n",
      "Requirement already satisfied: fonttools>=4.22.0 in c:\\users\\nedun\\anaconda\\lib\\site-packages (from matplotlib) (4.25.0)\n",
      "Requirement already satisfied: kiwisolver>=1.3.1 in c:\\users\\nedun\\anaconda\\lib\\site-packages (from matplotlib) (1.4.4)\n",
      "Requirement already satisfied: numpy>=1.21 in c:\\users\\nedun\\anaconda\\lib\\site-packages (from matplotlib) (1.26.4)\n",
      "Requirement already satisfied: packaging>=20.0 in c:\\users\\nedun\\anaconda\\lib\\site-packages (from matplotlib) (23.1)\n",
      "Requirement already satisfied: pillow>=8 in c:\\users\\nedun\\anaconda\\lib\\site-packages (from matplotlib) (10.2.0)\n",
      "Requirement already satisfied: pyparsing>=2.3.1 in c:\\users\\nedun\\anaconda\\lib\\site-packages (from matplotlib) (3.0.9)\n",
      "Requirement already satisfied: python-dateutil>=2.7 in c:\\users\\nedun\\anaconda\\lib\\site-packages (from matplotlib) (2.8.2)\n",
      "Requirement already satisfied: six>=1.5 in c:\\users\\nedun\\anaconda\\lib\\site-packages (from python-dateutil>=2.7->matplotlib) (1.16.0)\n",
      "Downloading matplotlib-3.8.4-cp311-cp311-win_amd64.whl (7.7 MB)\n",
      "   ---------------------------------------- 0.0/7.7 MB ? eta -:--:--\n",
      "   ---------------------------------------- 0.0/7.7 MB ? eta -:--:--\n",
      "   ---------------------------------------- 0.0/7.7 MB 640.0 kB/s eta 0:00:12\n",
      "   ---------------------------------------- 0.0/7.7 MB 388.9 kB/s eta 0:00:20\n",
      "   ---------------------------------------- 0.1/7.7 MB 508.4 kB/s eta 0:00:15\n",
      "    --------------------------------------- 0.1/7.7 MB 652.5 kB/s eta 0:00:12\n",
      "   - -------------------------------------- 0.3/7.7 MB 1.2 MB/s eta 0:00:06\n",
      "   -- ------------------------------------- 0.6/7.7 MB 1.8 MB/s eta 0:00:05\n",
      "   --- ------------------------------------ 0.7/7.7 MB 1.8 MB/s eta 0:00:04\n",
      "   ---- ----------------------------------- 0.8/7.7 MB 2.0 MB/s eta 0:00:04\n",
      "   ----- ---------------------------------- 1.1/7.7 MB 2.3 MB/s eta 0:00:03\n",
      "   ------ --------------------------------- 1.3/7.7 MB 2.4 MB/s eta 0:00:03\n",
      "   ------- -------------------------------- 1.5/7.7 MB 2.7 MB/s eta 0:00:03\n",
      "   --------- ------------------------------ 1.7/7.7 MB 2.8 MB/s eta 0:00:03\n",
      "   ---------- ----------------------------- 2.0/7.7 MB 2.9 MB/s eta 0:00:02\n",
      "   ----------- ---------------------------- 2.2/7.7 MB 3.1 MB/s eta 0:00:02\n",
      "   ------------ --------------------------- 2.5/7.7 MB 3.2 MB/s eta 0:00:02\n",
      "   ------------- -------------------------- 2.6/7.7 MB 3.2 MB/s eta 0:00:02\n",
      "   -------------- ------------------------- 2.8/7.7 MB 3.3 MB/s eta 0:00:02\n",
      "   --------------- ------------------------ 3.0/7.7 MB 3.3 MB/s eta 0:00:02\n",
      "   ---------------- ----------------------- 3.2/7.7 MB 3.3 MB/s eta 0:00:02\n",
      "   ----------------- ---------------------- 3.4/7.7 MB 3.4 MB/s eta 0:00:02\n",
      "   ------------------ --------------------- 3.6/7.7 MB 3.4 MB/s eta 0:00:02\n",
      "   ------------------- -------------------- 3.8/7.7 MB 3.4 MB/s eta 0:00:02\n",
      "   -------------------- ------------------- 4.0/7.7 MB 3.4 MB/s eta 0:00:02\n",
      "   ---------------------- ----------------- 4.2/7.7 MB 3.5 MB/s eta 0:00:01\n",
      "   ----------------------- ---------------- 4.5/7.7 MB 3.5 MB/s eta 0:00:01\n",
      "   ------------------------ --------------- 4.7/7.7 MB 3.6 MB/s eta 0:00:01\n",
      "   ------------------------- -------------- 4.8/7.7 MB 3.6 MB/s eta 0:00:01\n",
      "   -------------------------- ------------- 5.0/7.7 MB 3.5 MB/s eta 0:00:01\n",
      "   --------------------------- ------------ 5.3/7.7 MB 3.6 MB/s eta 0:00:01\n",
      "   ---------------------------- ----------- 5.5/7.7 MB 3.6 MB/s eta 0:00:01\n",
      "   ----------------------------- ---------- 5.7/7.7 MB 3.6 MB/s eta 0:00:01\n",
      "   ------------------------------- -------- 6.0/7.7 MB 3.7 MB/s eta 0:00:01\n",
      "   -------------------------------- ------- 6.2/7.7 MB 3.7 MB/s eta 0:00:01\n",
      "   --------------------------------- ------ 6.4/7.7 MB 3.7 MB/s eta 0:00:01\n",
      "   ---------------------------------- ----- 6.6/7.7 MB 3.8 MB/s eta 0:00:01\n",
      "   ----------------------------------- ---- 6.9/7.7 MB 3.8 MB/s eta 0:00:01\n",
      "   ------------------------------------- -- 7.1/7.7 MB 3.8 MB/s eta 0:00:01\n",
      "   -------------------------------------- - 7.3/7.7 MB 3.9 MB/s eta 0:00:01\n",
      "   ---------------------------------------  7.5/7.7 MB 3.9 MB/s eta 0:00:01\n",
      "   ---------------------------------------  7.6/7.7 MB 3.8 MB/s eta 0:00:01\n",
      "   ---------------------------------------- 7.7/7.7 MB 3.8 MB/s eta 0:00:00\n",
      "Installing collected packages: matplotlib\n",
      "  Attempting uninstall: matplotlib\n",
      "    Found existing installation: matplotlib 3.8.0\n",
      "    Uninstalling matplotlib-3.8.0:\n",
      "      Successfully uninstalled matplotlib-3.8.0\n",
      "Successfully installed matplotlib-3.8.4\n",
      "Note: you may need to restart the kernel to use updated packages.\n"
     ]
    },
    {
     "name": "stderr",
     "output_type": "stream",
     "text": [
      "ERROR: pip's dependency resolver does not currently take into account all the packages that are installed. This behaviour is the source of the following dependency conflicts.\n",
      "pandas-profiling 3.2.0 requires visions[type_image_path]==0.7.4, but you have visions 0.7.6 which is incompatible.\n"
     ]
    }
   ],
   "source": [
    "pip install --upgrade matplotlib"
   ]
  },
  {
   "cell_type": "code",
   "execution_count": 9,
   "id": "b405d344-0aea-426b-8d3a-95a79a03d683",
   "metadata": {},
   "outputs": [
    {
     "ename": "ImportError",
     "evalue": "cannot import name 'pyplot' from partially initialized module 'matplotlib' (most likely due to a circular import) (C:\\Users\\nedun\\Documents\\Mona\\ML\\matplotlib.py)",
     "output_type": "error",
     "traceback": [
      "\u001b[1;31m---------------------------------------------------------------------------\u001b[0m",
      "\u001b[1;31mImportError\u001b[0m                               Traceback (most recent call last)",
      "Cell \u001b[1;32mIn[9], line 1\u001b[0m\n\u001b[1;32m----> 1\u001b[0m \u001b[38;5;28;01mimport\u001b[39;00m \u001b[38;5;21;01mmatplotlib\u001b[39;00m\u001b[38;5;21;01m.\u001b[39;00m\u001b[38;5;21;01mpyplot\u001b[39;00m \u001b[38;5;28;01mas\u001b[39;00m \u001b[38;5;21;01mplt\u001b[39;00m\n",
      "File \u001b[1;32m~\\Documents\\Mona\\ML\\matplotlib.py:1\u001b[0m\n\u001b[1;32m----> 1\u001b[0m \u001b[38;5;28;01mfrom\u001b[39;00m \u001b[38;5;21;01mmatplotlib\u001b[39;00m \u001b[38;5;28;01mimport\u001b[39;00m pyplot \u001b[38;5;28;01mas\u001b[39;00m plt\n\u001b[0;32m      3\u001b[0m \u001b[38;5;66;03m#creating list\u001b[39;00m\n\u001b[0;32m      4\u001b[0m ages_x\u001b[38;5;241m=\u001b[39m[\u001b[38;5;241m25\u001b[39m,\u001b[38;5;241m26\u001b[39m,\u001b[38;5;241m27\u001b[39m,\u001b[38;5;241m28\u001b[39m,\u001b[38;5;241m29\u001b[39m,\u001b[38;5;241m30\u001b[39m,\u001b[38;5;241m31\u001b[39m,\u001b[38;5;241m32\u001b[39m,\u001b[38;5;241m33\u001b[39m,\u001b[38;5;241m34\u001b[39m,\u001b[38;5;241m35\u001b[39m]\n",
      "\u001b[1;31mImportError\u001b[0m: cannot import name 'pyplot' from partially initialized module 'matplotlib' (most likely due to a circular import) (C:\\Users\\nedun\\Documents\\Mona\\ML\\matplotlib.py)"
     ]
    }
   ],
   "source": [
    "import matplotlib.pyplot as plt"
   ]
  },
  {
   "cell_type": "code",
   "execution_count": null,
   "id": "8236cbe8-9fe2-46bc-859d-b8bb20bfdcc7",
   "metadata": {},
   "outputs": [],
   "source": []
  }
 ],
 "metadata": {
  "kernelspec": {
   "display_name": "Python 3 (ipykernel)",
   "language": "python",
   "name": "python3"
  },
  "language_info": {
   "codemirror_mode": {
    "name": "ipython",
    "version": 3
   },
   "file_extension": ".py",
   "mimetype": "text/x-python",
   "name": "python",
   "nbconvert_exporter": "python",
   "pygments_lexer": "ipython3",
   "version": "3.11.7"
  }
 },
 "nbformat": 4,
 "nbformat_minor": 5
}
