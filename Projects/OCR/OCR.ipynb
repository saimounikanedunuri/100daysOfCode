{
 "cells": [
  {
   "cell_type": "code",
   "execution_count": 16,
   "id": "75b085e1",
   "metadata": {},
   "outputs": [
    {
     "name": "stdout",
     "output_type": "stream",
     "text": [
      "Requirement already satisfied: pytesseract in c:\\users\\nedun\\anaconda3\\lib\\site-packages (0.3.10)\n",
      "Requirement already satisfied: packaging>=21.3 in c:\\users\\nedun\\anaconda3\\lib\\site-packages (from pytesseract) (23.2)\n",
      "Requirement already satisfied: Pillow>=8.0.0 in c:\\users\\nedun\\anaconda3\\lib\\site-packages (from pytesseract) (9.5.0)\n",
      "Note: you may need to restart the kernel to use updated packages.\n"
     ]
    }
   ],
   "source": [
    "pip install pytesseract"
   ]
  },
  {
   "cell_type": "code",
   "execution_count": 24,
   "id": "4128469e",
   "metadata": {},
   "outputs": [],
   "source": [
    "from PIL import Image\n",
    "import pytesseract\n",
    "import numpy as np"
   ]
  },
  {
   "cell_type": "code",
   "execution_count": 25,
   "id": "d76946ca",
   "metadata": {},
   "outputs": [],
   "source": [
    "filename = r'C:\\Users\\nedun\\Documents\\Mona\\Computer Vision\\test1.jpg'\n",
    "img1 = np.array(Image.open(filename))"
   ]
  },
  {
   "cell_type": "code",
   "execution_count": 26,
   "id": "95dd7e86",
   "metadata": {},
   "outputs": [
    {
     "name": "stdout",
     "output_type": "stream",
     "text": [
      "“Just the knowledge that a good\n",
      "book is awaiting one at the end\n",
      "of a long day makes that day\n",
      "\n",
      "happier.” — Kathleen Norris.\n",
      "\n",
      "\n"
     ]
    }
   ],
   "source": [
    "import pytesseract\n",
    "from PIL import Image\n",
    "\n",
    "pytesseract.pytesseract.tesseract_cmd=r\"C:\\Program Files\\Tesseract-OCR\\tesseract.exe\"\n",
    "im=Image.open(r\"C:\\Users\\nedun\\Documents\\Mona\\Computer Vision\\test1.jpg\")\n",
    "print(pytesseract.image_to_string(im,lang='eng'))"
   ]
  },
  {
   "cell_type": "code",
   "execution_count": 13,
   "id": "20a4031e",
   "metadata": {},
   "outputs": [
    {
     "name": "stdout",
     "output_type": "stream",
     "text": [
      "\n"
     ]
    }
   ],
   "source": [
    "filename = r'C:\\Users\\nedun\\Documents\\Mona\\Computer Vision\\3_python-ocr.jpg'\n",
    "img2 = np.array(Image.open(filename))\n",
    "text = pytesseract.image_to_string(img2)\n",
    "print(text)"
   ]
  },
  {
   "cell_type": "code",
   "execution_count": 22,
   "id": "4eedcf3b",
   "metadata": {},
   "outputs": [],
   "source": [
    "import cv2\n",
    "import numpy as np\n",
    "\n",
    "# load image\n",
    "img = cv2.imread(r\"C:\\Users\\nedun\\Documents\\Mona\\Computer Vision\\3_python-ocr.jpg\")\n",
    "\n",
    "# convert to grayscale\n",
    "gray = cv2.cvtColor(img, cv2.COLOR_BGR2GRAY)\n",
    "\n",
    "# blur\n",
    "blur = cv2.GaussianBlur(gray, (0,0), sigmaX=33, sigmaY=33)\n",
    "\n",
    "# divide\n",
    "divide = cv2.divide(gray, blur, scale=255)\n",
    "\n",
    "# otsu threshold\n",
    "thresh = cv2.threshold(divide, 0, 255, cv2.THRESH_BINARY+cv2.THRESH_OTSU)[1]\n",
    "\n",
    "# apply morphology\n",
    "kernel = cv2.getStructuringElement(cv2.MORPH_RECT, (3,3))\n",
    "morph = cv2.morphologyEx(thresh, cv2.MORPH_CLOSE, kernel)\n",
    "\n",
    "# write result to disk\n",
    "cv2.imwrite(\"hebrew_text_division.jpg\", divide)\n",
    "cv2.imwrite(\"hebrew_text_division_threshold.jpg\", thresh)\n",
    "cv2.imwrite(\"hebrew_text_division_morph.jpg\", morph)\n",
    "\n",
    "# display it\n",
    "cv2.imshow(\"gray\", gray)\n",
    "cv2.imshow(\"divide\", divide)\n",
    "cv2.imshow(\"thresh\", thresh)\n",
    "cv2.imshow(\"morph\", morph)\n",
    "cv2.waitKey(0)\n",
    "cv2.destroyAllWindows()"
   ]
  },
  {
   "cell_type": "code",
   "execution_count": null,
   "id": "f1c7d84b",
   "metadata": {},
   "outputs": [],
   "source": []
  }
 ],
 "metadata": {
  "kernelspec": {
   "display_name": "Python 3 (ipykernel)",
   "language": "python",
   "name": "python3"
  },
  "language_info": {
   "codemirror_mode": {
    "name": "ipython",
    "version": 3
   },
   "file_extension": ".py",
   "mimetype": "text/x-python",
   "name": "python",
   "nbconvert_exporter": "python",
   "pygments_lexer": "ipython3",
   "version": "3.9.7"
  }
 },
 "nbformat": 4,
 "nbformat_minor": 5
}
