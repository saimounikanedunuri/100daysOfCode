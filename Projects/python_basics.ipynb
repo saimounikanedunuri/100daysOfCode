{
 "cells": [
  {
   "cell_type": "raw",
   "id": "c7472d22",
   "metadata": {},
   "source": [
    "Notes:\n",
    "Python nonlocal keyword is used to reference a variable in the nearest scope. \n",
    "The nonlocal keyword won’t work on local or global variables and \n",
    "therefore must be used to reference variables in another scope except the global and local one. \n",
    "The nonlocal keyword is used in nested functions to reference a variable in the parent function. "
   ]
  },
  {
   "cell_type": "code",
   "execution_count": 1,
   "id": "5b7d6b54",
   "metadata": {},
   "outputs": [
    {
     "name": "stdout",
     "output_type": "stream",
     "text": [
      "GeeksForGeeks\n",
      "GeeksForGeeks\n"
     ]
    }
   ],
   "source": [
    "def foo():\n",
    "\tname = \"geek\" # Our local variable\n",
    "\n",
    "\tdef bar():\n",
    "\t\tnonlocal name\t\t # Reference name in the upper scope\n",
    "\t\tname = 'GeeksForGeeks' # Overwrite this variable\n",
    "\t\tprint(name)\n",
    "\t\t\n",
    "\t# Calling inner function\n",
    "\tbar()\n",
    "\t\n",
    "\t# Printing local variable\n",
    "\tprint(name)\n",
    "\n",
    "foo()\n"
   ]
  },
  {
   "cell_type": "code",
   "execution_count": 2,
   "id": "f3c52401",
   "metadata": {},
   "outputs": [
    {
     "ename": "SyntaxError",
     "evalue": "no binding for nonlocal 'global_name' found (Temp/ipykernel_19564/657407525.py, line 11)",
     "output_type": "error",
     "traceback": [
      "\u001b[1;36m  File \u001b[1;32m\"C:\\Users\\nedun\\AppData\\Local\\Temp/ipykernel_19564/657407525.py\"\u001b[1;36m, line \u001b[1;32m11\u001b[0m\n\u001b[1;33m    nonlocal global_name\t # Try to reference global variable\u001b[0m\n\u001b[1;37m    ^\u001b[0m\n\u001b[1;31mSyntaxError\u001b[0m\u001b[1;31m:\u001b[0m no binding for nonlocal 'global_name' found\n"
     ]
    }
   ],
   "source": [
    "# Declaring a global variable\n",
    "global_name = 'geeksforgeeks'\n",
    "\n",
    "\n",
    "def foo():\n",
    "\n",
    "\t# Defining inner function\n",
    "\tdef bar():\n",
    "\t\n",
    "\t\t# Declaring nonlocal variable\n",
    "\t\tnonlocal global_name\t # Try to reference global variable\n",
    "\t\tglobal_name = 'GeeksForGeeks'# Try to overwrite it\n",
    "\t\tprint(global_name)\n",
    "\t\t\n",
    "\t# Calling inner function\n",
    "\tbar()\n",
    "\t\n",
    "foo()\n"
   ]
  },
  {
   "cell_type": "code",
   "execution_count": 3,
   "id": "3ff4328f",
   "metadata": {},
   "outputs": [
    {
     "name": "stdout",
     "output_type": "stream",
     "text": [
      "Geek\n",
      "GEEK\n",
      "geek\n"
     ]
    }
   ],
   "source": [
    "def foo():\n",
    "\n",
    "\t# Local variable of foo()\n",
    "\tname = \"geek\"\n",
    "\n",
    "\t# First inner function\n",
    "\tdef bar():\n",
    "\t\tname = \"Geek\"\n",
    "\n",
    "\t\t# Second inner function\n",
    "\t\tdef ack():\n",
    "\t\t\tnonlocal name # Reference to the next upper variable with this name\n",
    "\t\t\tprint(name) # Print the value of the referenced variable\n",
    "\t\t\tname = 'GEEK' # Overwrite the referenced variable\n",
    "\t\t\tprint(name)\n",
    "\n",
    "\t\tack() # Calling second inner function\n",
    "\t\n",
    "\tbar() # Calling first inner function\n",
    "\tprint(name) # Printing local variable of bar()\n",
    "\n",
    "foo()\n"
   ]
  },
  {
   "cell_type": "raw",
   "id": "693c4cd7",
   "metadata": {},
   "source": [
    "Escape sequence"
   ]
  },
  {
   "cell_type": "code",
   "execution_count": 4,
   "id": "b90f937d",
   "metadata": {},
   "outputs": [
    {
     "name": "stdout",
     "output_type": "stream",
     "text": [
      "We are the so-called \"Vikings\" from the north.\n"
     ]
    }
   ],
   "source": [
    "txt = \"We are the so-called \\\"Vikings\\\" from the north.\"\n",
    "print(txt) "
   ]
  },
  {
   "cell_type": "code",
   "execution_count": 5,
   "id": "55478361",
   "metadata": {},
   "outputs": [
    {
     "name": "stdout",
     "output_type": "stream",
     "text": [
      "It's alright.\n"
     ]
    }
   ],
   "source": [
    "txt = 'It\\'s alright.'\n",
    "print(txt) "
   ]
  },
  {
   "cell_type": "code",
   "execution_count": 6,
   "id": "7ed9c782",
   "metadata": {},
   "outputs": [
    {
     "name": "stdout",
     "output_type": "stream",
     "text": [
      "This will insert one \\ (backslash).\n"
     ]
    }
   ],
   "source": [
    "txt = \"This will insert one \\\\ (backslash).\"\n",
    "print(txt) "
   ]
  },
  {
   "cell_type": "code",
   "execution_count": 7,
   "id": "9c911c5b",
   "metadata": {},
   "outputs": [
    {
     "name": "stdout",
     "output_type": "stream",
     "text": [
      "Hello\n",
      "World!\n"
     ]
    }
   ],
   "source": [
    "txt = \"Hello\\nWorld!\"\n",
    "print(txt) "
   ]
  },
  {
   "cell_type": "code",
   "execution_count": 9,
   "id": "cc1f5b39",
   "metadata": {},
   "outputs": [
    {
     "name": "stdout",
     "output_type": "stream",
     "text": [
      " \r",
      "World!\n"
     ]
    }
   ],
   "source": [
    "txt = \"Hello\\rWorld!\"\n",
    "print(txt) "
   ]
  },
  {
   "cell_type": "code",
   "execution_count": 10,
   "id": "816ee3e2",
   "metadata": {},
   "outputs": [
    {
     "name": "stdout",
     "output_type": "stream",
     "text": [
      "Hello\tWorld!\n"
     ]
    }
   ],
   "source": [
    "txt = \"Hello\\tWorld!\"\n",
    "print(txt) "
   ]
  },
  {
   "cell_type": "code",
   "execution_count": 11,
   "id": "4be3f6a6",
   "metadata": {},
   "outputs": [
    {
     "name": "stdout",
     "output_type": "stream",
     "text": [
      "Hello \bWorld!\n"
     ]
    }
   ],
   "source": [
    "#This example erases one character (backspace):\n",
    "txt = \"Hello \\bWorld!\"\n",
    "print(txt) "
   ]
  },
  {
   "cell_type": "code",
   "execution_count": 12,
   "id": "9bfe2661",
   "metadata": {},
   "outputs": [
    {
     "name": "stdout",
     "output_type": "stream",
     "text": [
      "Hello\n"
     ]
    }
   ],
   "source": [
    "#A backslash followed by three integers will result in a octal value:\n",
    "txt = \"\\110\\145\\154\\154\\157\"\n",
    "print(txt) "
   ]
  },
  {
   "cell_type": "code",
   "execution_count": 13,
   "id": "cbcdbde5",
   "metadata": {},
   "outputs": [
    {
     "name": "stdout",
     "output_type": "stream",
     "text": [
      "Hello\n"
     ]
    }
   ],
   "source": [
    "#A backslash followed by an 'x' and a hex number represents a hex value:\n",
    "txt = \"\\x48\\x65\\x6c\\x6c\\x6f\"\n",
    "print(txt) "
   ]
  },
  {
   "cell_type": "raw",
   "id": "79e7ad4e",
   "metadata": {},
   "source": [
    "Common string methods"
   ]
  },
  {
   "cell_type": "code",
   "execution_count": 14,
   "id": "017cb6a5",
   "metadata": {},
   "outputs": [
    {
     "name": "stdout",
     "output_type": "stream",
     "text": [
      "\n",
      "Converted String:\n",
      "GEEKS FOR GEEKS\n",
      "\n",
      "Converted String:\n",
      "geeks for geeks\n",
      "\n",
      "Converted String:\n",
      "Geeks For Geeks\n",
      "\n",
      "Converted String:\n",
      "GEEkS fOR GEeKs\n",
      "\n",
      "Converted String:\n",
      "Geeks for geeks\n",
      "\n",
      "Original String\n",
      "geeKs For geEkS\n"
     ]
    }
   ],
   "source": [
    "# Python3 program to show the \n",
    "# working of upper() function \n",
    "text = 'geeKs For geEkS'\n",
    "\n",
    "# upper() function to convert \n",
    "# string to upper case \n",
    "print(\"\\nConverted String:\") \n",
    "print(text.upper()) \n",
    "\n",
    "# lower() function to convert \n",
    "# string to lower case \n",
    "print(\"\\nConverted String:\") \n",
    "print(text.lower()) \n",
    "\n",
    "# converts the first character to \n",
    "# upper case and rest to lower case \n",
    "print(\"\\nConverted String:\") \n",
    "print(text.title()) \n",
    "\n",
    "#swaps the case of all characters in the string \n",
    "# upper case character to lowercase and viceversa \n",
    "print(\"\\nConverted String:\") \n",
    "print(text.swapcase()) \n",
    "\n",
    "# convert the first character of a string to uppercase \n",
    "print(\"\\nConverted String:\") \n",
    "print(text.capitalize()) \n",
    "\n",
    "# original string never changes \n",
    "print(\"\\nOriginal String\") \n",
    "print(text)"
   ]
  },
  {
   "cell_type": "raw",
   "id": "f39634f8",
   "metadata": {},
   "source": [
    "repr() function:\n",
    "Python repr() Function returns a printable representation of an object in Python. In other words, we can say that the Python repr() function returns a printable representation of the object by converting that object to a string."
   ]
  },
  {
   "cell_type": "code",
   "execution_count": 17,
   "id": "cbe41f14",
   "metadata": {},
   "outputs": [
    {
     "name": "stdout",
     "output_type": "stream",
     "text": [
      "'geeksforgeeks'\n"
     ]
    }
   ],
   "source": [
    "strObj = 'geeksforgeeks'\n",
    "\n",
    "print(repr(strObj))"
   ]
  },
  {
   "cell_type": "code",
   "execution_count": 20,
   "id": "1fedb215",
   "metadata": {},
   "outputs": [
    {
     "name": "stdout",
     "output_type": "stream",
     "text": [
      "['a', 'b', 'c']\n"
     ]
    }
   ],
   "source": [
    "print(repr(['a', 'b', 'c']))"
   ]
  },
  {
   "cell_type": "code",
   "execution_count": 21,
   "id": "02888c1a",
   "metadata": {},
   "outputs": [
    {
     "name": "stdout",
     "output_type": "stream",
     "text": [
      "['a', 'b', 'c']\n"
     ]
    }
   ],
   "source": [
    "print((['a', 'b', 'c']))\n"
   ]
  },
  {
   "cell_type": "code",
   "execution_count": 22,
   "id": "a72d7c94",
   "metadata": {},
   "outputs": [
    {
     "name": "stdout",
     "output_type": "stream",
     "text": [
      "<class 'str'>\n"
     ]
    }
   ],
   "source": [
    "x = 10\n",
    "print(type(repr(x)))"
   ]
  },
  {
   "cell_type": "code",
   "execution_count": 23,
   "id": "bde90d36",
   "metadata": {},
   "outputs": [
    {
     "name": "stdout",
     "output_type": "stream",
     "text": [
      "<class 'int'>\n"
     ]
    }
   ],
   "source": [
    "x = 10\n",
    "print(type((x)))\n"
   ]
  },
  {
   "cell_type": "code",
   "execution_count": 24,
   "id": "9fea079c",
   "metadata": {},
   "outputs": [
    {
     "name": "stdout",
     "output_type": "stream",
     "text": [
      "'Hello, Geeks.'\n",
      "0.18181818181818182\n"
     ]
    }
   ],
   "source": [
    "s = 'Hello, Geeks.'\n",
    "print (repr(s))\n",
    "print (repr(2.0/11.0))\n"
   ]
  },
  {
   "cell_type": "code",
   "execution_count": 25,
   "id": "a8fc1d8d",
   "metadata": {},
   "outputs": [
    {
     "name": "stdout",
     "output_type": "stream",
     "text": [
      "Hello, Geeks.\n",
      "0.18181818181818182\n"
     ]
    }
   ],
   "source": [
    "s = 'Hello, Geeks.'\n",
    "print ((s))\n",
    "print ((2.0/11.0))\n"
   ]
  },
  {
   "cell_type": "code",
   "execution_count": 26,
   "id": "5d6aa6b8",
   "metadata": {},
   "outputs": [
    {
     "name": "stdout",
     "output_type": "stream",
     "text": [
      "{1, 2, 3, 4, 5}\n"
     ]
    }
   ],
   "source": [
    "num = {1, 2, 3, 4, 5}\n",
    "\n",
    "# printable representation of the set\n",
    "printable_num = repr(num)\n",
    "print(printable_num)\n"
   ]
  },
  {
   "cell_type": "code",
   "execution_count": 27,
   "id": "1a890fcc",
   "metadata": {},
   "outputs": [
    {
     "name": "stdout",
     "output_type": "stream",
     "text": [
      "{1, 2, 3, 4, 5}\n"
     ]
    }
   ],
   "source": [
    "num = {1, 2, 3, 4, 5}\n",
    "\n",
    "# printable representation of the set\n",
    "printable_num = (num)\n",
    "print(printable_num)\n"
   ]
  },
  {
   "cell_type": "code",
   "execution_count": 28,
   "id": "1bb04f22",
   "metadata": {},
   "outputs": [
    {
     "name": "stdout",
     "output_type": "stream",
     "text": [
      "Person(name='John', age=25)\n"
     ]
    }
   ],
   "source": [
    "class Person:\n",
    "\tdef __init__(self, name, age):\n",
    "\t\tself.name = name\n",
    "\t\tself.age = age\n",
    "\n",
    "\tdef __repr__(self):\n",
    "\t\treturn f\"Person(name='{self.name}', age={self.age})\"\n",
    "\n",
    "person = Person(\"John\", 25)\n",
    "print(repr(person))\n"
   ]
  },
  {
   "cell_type": "code",
   "execution_count": null,
   "id": "66d296ee",
   "metadata": {},
   "outputs": [],
   "source": []
  }
 ],
 "metadata": {
  "kernelspec": {
   "display_name": "Python 3 (ipykernel)",
   "language": "python",
   "name": "python3"
  },
  "language_info": {
   "codemirror_mode": {
    "name": "ipython",
    "version": 3
   },
   "file_extension": ".py",
   "mimetype": "text/x-python",
   "name": "python",
   "nbconvert_exporter": "python",
   "pygments_lexer": "ipython3",
   "version": "3.9.7"
  }
 },
 "nbformat": 4,
 "nbformat_minor": 5
}
