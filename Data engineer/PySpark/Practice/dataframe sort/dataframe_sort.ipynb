{
 "cells": [
  {
   "cell_type": "code",
   "execution_count": 3,
   "id": "22df3f11-20da-4f4f-b821-1e041375f500",
   "metadata": {},
   "outputs": [],
   "source": [
    "import pyspark\n",
    "from pyspark.sql import SparkSession\n",
    "spark=SparkSession.builder.getOrCreate()"
   ]
  },
  {
   "cell_type": "code",
   "execution_count": 6,
   "id": "ca0ac59d-6e15-4cd6-8be1-14490dbadc48",
   "metadata": {},
   "outputs": [
    {
     "name": "stdout",
     "output_type": "stream",
     "text": [
      "+-----+---------+-------+\n",
      "|db_id|  db_name|db_type|\n",
      "+-----+---------+-------+\n",
      "|   12| Teradata|  RDBMS|\n",
      "|   14|Snowflake|CloudDB|\n",
      "|   15|  Vertica|  RDBMS|\n",
      "|   12| Teradata|  RDBMS|\n",
      "|   22|    Mysql|   null|\n",
      "|   50|Snowflake|  RDBMS|\n",
      "|   51|     null|CloudDB|\n",
      "+-----+---------+-------+\n",
      "\n"
     ]
    }
   ],
   "source": [
    "df=spark.read.csv(\"C:/Users/nedun/Documents/Mona/DE/dataframe sort/csv_with_duplicates_and_nulls.csv\",header=True)\n",
    "df.show()"
   ]
  },
  {
   "cell_type": "code",
   "execution_count": 7,
   "id": "f0bdd0b3-5237-41cc-bdc0-0691f6e05849",
   "metadata": {},
   "outputs": [
    {
     "name": "stdout",
     "output_type": "stream",
     "text": [
      "+-----+---------+-------+\n",
      "|db_id|  db_name|db_type|\n",
      "+-----+---------+-------+\n",
      "|   12| Teradata|  RDBMS|\n",
      "|   12| Teradata|  RDBMS|\n",
      "|   14|Snowflake|CloudDB|\n",
      "|   15|  Vertica|  RDBMS|\n",
      "|   22|    Mysql|   null|\n",
      "|   50|Snowflake|  RDBMS|\n",
      "|   51|     null|CloudDB|\n",
      "+-----+---------+-------+\n",
      "\n"
     ]
    }
   ],
   "source": [
    "df_update=df.sort(\"db_id\")\n",
    "df_update.show()"
   ]
  },
  {
   "cell_type": "code",
   "execution_count": 8,
   "id": "2aef172a-9ab1-4217-9128-75336e32e9df",
   "metadata": {},
   "outputs": [
    {
     "name": "stdout",
     "output_type": "stream",
     "text": [
      "+-----+---------+-------+\n",
      "|db_id|  db_name|db_type|\n",
      "+-----+---------+-------+\n",
      "|   12| Teradata|  RDBMS|\n",
      "|   12| Teradata|  RDBMS|\n",
      "|   14|Snowflake|CloudDB|\n",
      "|   15|  Vertica|  RDBMS|\n",
      "|   22|    Mysql|   null|\n",
      "|   50|Snowflake|  RDBMS|\n",
      "|   51|     null|CloudDB|\n",
      "+-----+---------+-------+\n",
      "\n"
     ]
    }
   ],
   "source": [
    "from pyspark.sql.functions import asc\n",
    "df_update=df.sort(asc(\"db_id\"))\n",
    "df_update.show()"
   ]
  },
  {
   "cell_type": "code",
   "execution_count": 9,
   "id": "17a8cfd4-c898-4b3c-928f-a664dbab2785",
   "metadata": {},
   "outputs": [
    {
     "name": "stdout",
     "output_type": "stream",
     "text": [
      "+-----+---------+-------+\n",
      "|db_id|  db_name|db_type|\n",
      "+-----+---------+-------+\n",
      "|   12| Teradata|  RDBMS|\n",
      "|   12| Teradata|  RDBMS|\n",
      "|   14|Snowflake|CloudDB|\n",
      "|   15|  Vertica|  RDBMS|\n",
      "|   22|    Mysql|   null|\n",
      "|   50|Snowflake|  RDBMS|\n",
      "|   51|     null|CloudDB|\n",
      "+-----+---------+-------+\n",
      "\n"
     ]
    }
   ],
   "source": [
    "from pyspark.sql.functions import col\n",
    "df_update=df.sort(col(\"db_id\").asc())\n",
    "df_update.show()"
   ]
  },
  {
   "cell_type": "code",
   "execution_count": 10,
   "id": "67344ab5-cd14-4c2f-aeec-09482caac8cb",
   "metadata": {},
   "outputs": [
    {
     "name": "stdout",
     "output_type": "stream",
     "text": [
      "+-----+---------+-------+\n",
      "|db_id|  db_name|db_type|\n",
      "+-----+---------+-------+\n",
      "|   51|     null|CloudDB|\n",
      "|   50|Snowflake|  RDBMS|\n",
      "|   22|    Mysql|   null|\n",
      "|   15|  Vertica|  RDBMS|\n",
      "|   14|Snowflake|CloudDB|\n",
      "|   12| Teradata|  RDBMS|\n",
      "|   12| Teradata|  RDBMS|\n",
      "+-----+---------+-------+\n",
      "\n"
     ]
    }
   ],
   "source": [
    "df_update=df.sort(\"db_id\",ascending=False)\n",
    "df_update.show()"
   ]
  },
  {
   "cell_type": "code",
   "execution_count": 11,
   "id": "1fd558a4-fe73-4693-8767-854891b36d35",
   "metadata": {},
   "outputs": [
    {
     "name": "stdout",
     "output_type": "stream",
     "text": [
      "+-----+---------+-------+\n",
      "|db_id|  db_name|db_type|\n",
      "+-----+---------+-------+\n",
      "|   51|     null|CloudDB|\n",
      "|   50|Snowflake|  RDBMS|\n",
      "|   22|    Mysql|   null|\n",
      "|   15|  Vertica|  RDBMS|\n",
      "|   14|Snowflake|CloudDB|\n",
      "|   12| Teradata|  RDBMS|\n",
      "|   12| Teradata|  RDBMS|\n",
      "+-----+---------+-------+\n",
      "\n"
     ]
    }
   ],
   "source": [
    "from pyspark.sql.functions import desc\n",
    "df_update=df.sort(desc(\"db_id\"))\n",
    "df_update.show()"
   ]
  },
  {
   "cell_type": "code",
   "execution_count": 12,
   "id": "ef5a03af-22d1-4cac-9e25-0c36c5172a3d",
   "metadata": {},
   "outputs": [
    {
     "name": "stdout",
     "output_type": "stream",
     "text": [
      "+-----+---------+-------+\n",
      "|db_id|  db_name|db_type|\n",
      "+-----+---------+-------+\n",
      "|   51|     null|CloudDB|\n",
      "|   50|Snowflake|  RDBMS|\n",
      "|   22|    Mysql|   null|\n",
      "|   15|  Vertica|  RDBMS|\n",
      "|   14|Snowflake|CloudDB|\n",
      "|   12| Teradata|  RDBMS|\n",
      "|   12| Teradata|  RDBMS|\n",
      "+-----+---------+-------+\n",
      "\n"
     ]
    }
   ],
   "source": [
    "from pyspark.sql.functions import col\n",
    "df_update=df.sort(col(\"db_id\").desc())\n",
    "df_update.show()"
   ]
  },
  {
   "cell_type": "code",
   "execution_count": 14,
   "id": "07224465-f433-403a-ae3b-e7fd22e94c52",
   "metadata": {},
   "outputs": [
    {
     "name": "stdout",
     "output_type": "stream",
     "text": [
      "+-----+---------+-------+\n",
      "|db_id|  db_name|db_type|\n",
      "+-----+---------+-------+\n",
      "|   51|     null|CloudDB|\n",
      "|   22|    Mysql|   null|\n",
      "|   14|Snowflake|CloudDB|\n",
      "|   50|Snowflake|  RDBMS|\n",
      "|   12| Teradata|  RDBMS|\n",
      "|   12| Teradata|  RDBMS|\n",
      "|   15|  Vertica|  RDBMS|\n",
      "+-----+---------+-------+\n",
      "\n"
     ]
    }
   ],
   "source": [
    "from pyspark.sql.functions import col, asc_nulls_first\n",
    "df_update=df.sort(asc_nulls_first(\"db_name\"))\n",
    "df_update.show()"
   ]
  },
  {
   "cell_type": "code",
   "execution_count": 15,
   "id": "eac19e25-ca51-49e8-896c-4dcb4348f281",
   "metadata": {},
   "outputs": [
    {
     "name": "stdout",
     "output_type": "stream",
     "text": [
      "+-----+---------+-------+\n",
      "|db_id|  db_name|db_type|\n",
      "+-----+---------+-------+\n",
      "|   51|     null|CloudDB|\n",
      "|   22|    Mysql|   null|\n",
      "|   14|Snowflake|CloudDB|\n",
      "|   50|Snowflake|  RDBMS|\n",
      "|   12| Teradata|  RDBMS|\n",
      "|   12| Teradata|  RDBMS|\n",
      "|   15|  Vertica|  RDBMS|\n",
      "+-----+---------+-------+\n",
      "\n"
     ]
    }
   ],
   "source": [
    "df_update=df.sort(col(\"db_name\").asc_nulls_first())\n",
    "df_update.show()"
   ]
  },
  {
   "cell_type": "code",
   "execution_count": 19,
   "id": "2d022c00-08f1-4981-b0f7-2069b58f3822",
   "metadata": {},
   "outputs": [
    {
     "name": "stdout",
     "output_type": "stream",
     "text": [
      "+-----+---------+-------+\n",
      "|db_id|  db_name|db_type|\n",
      "+-----+---------+-------+\n",
      "|   22|    Mysql|   null|\n",
      "|   14|Snowflake|CloudDB|\n",
      "|   50|Snowflake|  RDBMS|\n",
      "|   12| Teradata|  RDBMS|\n",
      "|   12| Teradata|  RDBMS|\n",
      "|   15|  Vertica|  RDBMS|\n",
      "|   51|     null|CloudDB|\n",
      "+-----+---------+-------+\n",
      "\n"
     ]
    }
   ],
   "source": [
    "from pyspark.sql.functions import asc_nulls_last\n",
    "df_update=df.sort(col(\"db_name\").asc_nulls_last())\n",
    "df_update.show()"
   ]
  },
  {
   "cell_type": "code",
   "execution_count": 20,
   "id": "10575503-1a4b-4483-b0a4-cd801a26db17",
   "metadata": {},
   "outputs": [
    {
     "name": "stdout",
     "output_type": "stream",
     "text": [
      "+-----+---------+-------+\n",
      "|db_id|  db_name|db_type|\n",
      "+-----+---------+-------+\n",
      "|   22|    Mysql|   null|\n",
      "|   14|Snowflake|CloudDB|\n",
      "|   50|Snowflake|  RDBMS|\n",
      "|   12| Teradata|  RDBMS|\n",
      "|   12| Teradata|  RDBMS|\n",
      "|   15|  Vertica|  RDBMS|\n",
      "|   51|     null|CloudDB|\n",
      "+-----+---------+-------+\n",
      "\n"
     ]
    }
   ],
   "source": [
    "df_update=df.sort(asc_nulls_last(\"db_name\"))\n",
    "df_update.show()"
   ]
  },
  {
   "cell_type": "code",
   "execution_count": 22,
   "id": "8450282a-9faa-4bb7-b118-631f73a2e19f",
   "metadata": {},
   "outputs": [
    {
     "name": "stdout",
     "output_type": "stream",
     "text": [
      "+-----+---------+-------+\n",
      "|db_id|  db_name|db_type|\n",
      "+-----+---------+-------+\n",
      "|   15|  Vertica|  RDBMS|\n",
      "|   12| Teradata|  RDBMS|\n",
      "|   12| Teradata|  RDBMS|\n",
      "|   50|Snowflake|  RDBMS|\n",
      "|   14|Snowflake|CloudDB|\n",
      "|   22|    Mysql|   null|\n",
      "|   51|     null|CloudDB|\n",
      "+-----+---------+-------+\n",
      "\n"
     ]
    }
   ],
   "source": [
    "from pyspark.sql.functions import desc_nulls_last\n",
    "df_update=df.sort(col(\"db_name\").desc_nulls_last())\n",
    "df_update.show()"
   ]
  },
  {
   "cell_type": "code",
   "execution_count": 24,
   "id": "2834eb63-845d-40da-8e14-a14fbf42644e",
   "metadata": {},
   "outputs": [
    {
     "name": "stdout",
     "output_type": "stream",
     "text": [
      "+-----+---------+-------+\n",
      "|db_id|  db_name|db_type|\n",
      "+-----+---------+-------+\n",
      "|   15|  Vertica|  RDBMS|\n",
      "|   12| Teradata|  RDBMS|\n",
      "|   12| Teradata|  RDBMS|\n",
      "|   50|Snowflake|  RDBMS|\n",
      "|   14|Snowflake|CloudDB|\n",
      "|   22|    Mysql|   null|\n",
      "|   51|     null|CloudDB|\n",
      "+-----+---------+-------+\n",
      "\n"
     ]
    }
   ],
   "source": [
    "df_update=df.sort(desc_nulls_last(\"db_name\"))\n",
    "df_update.show()"
   ]
  },
  {
   "cell_type": "code",
   "execution_count": 26,
   "id": "98fc75f6-f944-4151-add5-073046efa3c5",
   "metadata": {},
   "outputs": [
    {
     "name": "stdout",
     "output_type": "stream",
     "text": [
      "+-----+---------+-------+\n",
      "|db_id|  db_name|db_type|\n",
      "+-----+---------+-------+\n",
      "|   51|     null|CloudDB|\n",
      "|   22|    Mysql|   null|\n",
      "|   14|Snowflake|CloudDB|\n",
      "|   50|Snowflake|  RDBMS|\n",
      "|   12| Teradata|  RDBMS|\n",
      "|   12| Teradata|  RDBMS|\n",
      "|   15|  Vertica|  RDBMS|\n",
      "+-----+---------+-------+\n",
      "\n"
     ]
    }
   ],
   "source": [
    "df_update=df.sort(\"db_name\",\"db_id\")\n",
    "df_update.show()"
   ]
  },
  {
   "cell_type": "code",
   "execution_count": 27,
   "id": "2f389996-17bc-4f58-86d7-f050b44cc37e",
   "metadata": {},
   "outputs": [
    {
     "name": "stdout",
     "output_type": "stream",
     "text": [
      "+-----+---------+-------+\n",
      "|db_id|  db_name|db_type|\n",
      "+-----+---------+-------+\n",
      "|   51|     null|CloudDB|\n",
      "|   22|    Mysql|   null|\n",
      "|   14|Snowflake|CloudDB|\n",
      "|   50|Snowflake|  RDBMS|\n",
      "|   12| Teradata|  RDBMS|\n",
      "|   12| Teradata|  RDBMS|\n",
      "|   15|  Vertica|  RDBMS|\n",
      "+-----+---------+-------+\n",
      "\n"
     ]
    }
   ],
   "source": [
    "sort_list=[\"db_name\",\"db_id\"]\n",
    "df_update=df.sort(sort_list)\n",
    "df_update.show()"
   ]
  },
  {
   "cell_type": "code",
   "execution_count": 30,
   "id": "6d6f6cdb-3200-418c-a044-8b859264c878",
   "metadata": {},
   "outputs": [
    {
     "name": "stdout",
     "output_type": "stream",
     "text": [
      "+-----+---------+-------+\n",
      "|db_id|  db_name|db_type|\n",
      "+-----+---------+-------+\n",
      "|   51|     null|CloudDB|\n",
      "|   22|    Mysql|   null|\n",
      "|   14|Snowflake|CloudDB|\n",
      "|   50|Snowflake|  RDBMS|\n",
      "|   12| Teradata|  RDBMS|\n",
      "|   12| Teradata|  RDBMS|\n",
      "|   15|  Vertica|  RDBMS|\n",
      "+-----+---------+-------+\n",
      "\n"
     ]
    }
   ],
   "source": [
    "df_update=df.sort(\"db_name\",\"db_id\",ascending=[1,1])\n",
    "df_update.show()"
   ]
  },
  {
   "cell_type": "code",
   "execution_count": 32,
   "id": "62302327-16b7-430f-b020-a85ef9f25206",
   "metadata": {},
   "outputs": [
    {
     "name": "stdout",
     "output_type": "stream",
     "text": [
      "+-----+---------+-------+\n",
      "|db_id|  db_name|db_type|\n",
      "+-----+---------+-------+\n",
      "|   15|  Vertica|  RDBMS|\n",
      "|   12| Teradata|  RDBMS|\n",
      "|   12| Teradata|  RDBMS|\n",
      "|   50|Snowflake|  RDBMS|\n",
      "|   14|Snowflake|CloudDB|\n",
      "|   22|    Mysql|   null|\n",
      "|   51|     null|CloudDB|\n",
      "+-----+---------+-------+\n",
      "\n"
     ]
    }
   ],
   "source": [
    "df_update=df.sort(desc(\"db_name\"),desc(\"db_id\"))\n",
    "df_update.show()\n"
   ]
  },
  {
   "cell_type": "code",
   "execution_count": 33,
   "id": "4206648f-e716-480f-992b-0fddafea9064",
   "metadata": {},
   "outputs": [
    {
     "name": "stdout",
     "output_type": "stream",
     "text": [
      "+-----+---------+-------+\n",
      "|db_id|  db_name|db_type|\n",
      "+-----+---------+-------+\n",
      "|   15|  Vertica|  RDBMS|\n",
      "|   12| Teradata|  RDBMS|\n",
      "|   12| Teradata|  RDBMS|\n",
      "|   50|Snowflake|  RDBMS|\n",
      "|   14|Snowflake|CloudDB|\n",
      "|   22|    Mysql|   null|\n",
      "|   51|     null|CloudDB|\n",
      "+-----+---------+-------+\n",
      "\n"
     ]
    }
   ],
   "source": [
    "df_update.sort(desc(\"db_name\"),desc(\"db_id\"))\n",
    "df_update.show()"
   ]
  },
  {
   "cell_type": "code",
   "execution_count": 34,
   "id": "2ccc0ebd-0d51-4401-81f8-c2e187ca0143",
   "metadata": {},
   "outputs": [
    {
     "name": "stdout",
     "output_type": "stream",
     "text": [
      "+-----+---------+-------+\n",
      "|db_id|  db_name|db_type|\n",
      "+-----+---------+-------+\n",
      "|   15|  Vertica|  RDBMS|\n",
      "|   12| Teradata|  RDBMS|\n",
      "|   12| Teradata|  RDBMS|\n",
      "|   50|Snowflake|  RDBMS|\n",
      "|   14|Snowflake|CloudDB|\n",
      "|   22|    Mysql|   null|\n",
      "|   51|     null|CloudDB|\n",
      "+-----+---------+-------+\n",
      "\n"
     ]
    }
   ],
   "source": [
    "df_update=df.sort(\"db_name\",\"db_id\",ascending=[0,0])\n",
    "df_update.show()"
   ]
  },
  {
   "cell_type": "code",
   "execution_count": 35,
   "id": "e932eaed-2204-4472-b571-5d188b5bc61a",
   "metadata": {},
   "outputs": [
    {
     "name": "stdout",
     "output_type": "stream",
     "text": [
      "+-----+---------+-------+\n",
      "|db_id|  db_name|db_type|\n",
      "+-----+---------+-------+\n",
      "|   15|  Vertica|  RDBMS|\n",
      "|   12| Teradata|  RDBMS|\n",
      "|   12| Teradata|  RDBMS|\n",
      "|   14|Snowflake|CloudDB|\n",
      "|   50|Snowflake|  RDBMS|\n",
      "|   22|    Mysql|   null|\n",
      "|   51|     null|CloudDB|\n",
      "+-----+---------+-------+\n",
      "\n"
     ]
    }
   ],
   "source": [
    "df_update=df.sort(desc(\"db_name\"),asc(\"db_id\"))\n",
    "df_update.show()"
   ]
  },
  {
   "cell_type": "code",
   "execution_count": 36,
   "id": "cbad89d2-d22e-43d0-b51d-3d418b974f40",
   "metadata": {},
   "outputs": [
    {
     "name": "stdout",
     "output_type": "stream",
     "text": [
      "+-----+---------+-------+\n",
      "|db_id|  db_name|db_type|\n",
      "+-----+---------+-------+\n",
      "|   15|  Vertica|  RDBMS|\n",
      "|   12| Teradata|  RDBMS|\n",
      "|   12| Teradata|  RDBMS|\n",
      "|   14|Snowflake|CloudDB|\n",
      "|   50|Snowflake|  RDBMS|\n",
      "|   22|    Mysql|   null|\n",
      "|   51|     null|CloudDB|\n",
      "+-----+---------+-------+\n",
      "\n"
     ]
    }
   ],
   "source": [
    "df_update=df.sort(\"db_name\",\"db_id\",ascending=[0,1])\n",
    "df_update.show()"
   ]
  },
  {
   "cell_type": "code",
   "execution_count": 37,
   "id": "0acff2ad-244c-40c8-88e5-ae2b998656f3",
   "metadata": {},
   "outputs": [
    {
     "name": "stdout",
     "output_type": "stream",
     "text": [
      "+-----+---------+-------+\n",
      "|db_id|  db_name|db_type|\n",
      "+-----+---------+-------+\n",
      "|   14|Snowflake|CloudDB|\n",
      "|   51|     null|CloudDB|\n",
      "|   15|  Vertica|  RDBMS|\n",
      "|   12| Teradata|  RDBMS|\n",
      "|   12| Teradata|  RDBMS|\n",
      "|   50|Snowflake|  RDBMS|\n",
      "|   22|    Mysql|   null|\n",
      "+-----+---------+-------+\n",
      "\n"
     ]
    }
   ],
   "source": [
    "df_update=df.sort(asc_nulls_last(\"db_type\"),desc_nulls_last(\"db_name\"))\n",
    "df_update.show()"
   ]
  },
  {
   "cell_type": "code",
   "execution_count": 38,
   "id": "8efb6632-a6a7-4316-9d41-56c28ccb5fc5",
   "metadata": {},
   "outputs": [
    {
     "name": "stdout",
     "output_type": "stream",
     "text": [
      "+-----+---------+-------+\n",
      "|db_id|  db_name|db_type|\n",
      "+-----+---------+-------+\n",
      "|   14|Snowflake|CloudDB|\n",
      "|   51|     null|CloudDB|\n",
      "|   15|  Vertica|  RDBMS|\n",
      "|   12| Teradata|  RDBMS|\n",
      "|   12| Teradata|  RDBMS|\n",
      "|   50|Snowflake|  RDBMS|\n",
      "|   22|    Mysql|   null|\n",
      "+-----+---------+-------+\n",
      "\n"
     ]
    }
   ],
   "source": [
    "df_update=df.sort(col(\"db_type\").asc_nulls_last(),col(\"db_name\").desc_nulls_last())\n",
    "df_update.show()"
   ]
  },
  {
   "cell_type": "code",
   "execution_count": 39,
   "id": "0c71df92-78de-4bae-8d7c-72389c21a2d3",
   "metadata": {},
   "outputs": [
    {
     "name": "stdout",
     "output_type": "stream",
     "text": [
      "+-----+---------+-------+\n",
      "|db_id|  db_name|db_type|\n",
      "+-----+---------+-------+\n",
      "|   22|    Mysql|   null|\n",
      "|   14|Snowflake|CloudDB|\n",
      "|   51|     null|CloudDB|\n",
      "|   15|  Vertica|  RDBMS|\n",
      "|   12| Teradata|  RDBMS|\n",
      "|   12| Teradata|  RDBMS|\n",
      "|   50|Snowflake|  RDBMS|\n",
      "+-----+---------+-------+\n",
      "\n"
     ]
    }
   ],
   "source": [
    "df_update=df.sort(col(\"db_type\").asc_nulls_first(),col(\"db_name\").desc_nulls_last())\n",
    "df_update.show()"
   ]
  },
  {
   "cell_type": "code",
   "execution_count": 41,
   "id": "04f30500-96ee-45cb-85df-55aff12804e0",
   "metadata": {},
   "outputs": [
    {
     "name": "stdout",
     "output_type": "stream",
     "text": [
      "+-----+---------+-------+\n",
      "|db_id|  db_name|db_type|\n",
      "+-----+---------+-------+\n",
      "|   50|Snowflake|  RDBMS|\n",
      "|   12| Teradata|  RDBMS|\n",
      "|   12| Teradata|  RDBMS|\n",
      "|   15|  Vertica|  RDBMS|\n",
      "|   51|     null|CloudDB|\n",
      "|   14|Snowflake|CloudDB|\n",
      "|   22|    Mysql|   null|\n",
      "+-----+---------+-------+\n",
      "\n"
     ]
    }
   ],
   "source": [
    "df_update = df.sort(desc_nulls_last(\"db_type\"), asc_nulls_first(\"db_name\"))\n",
    "df_update.show()"
   ]
  },
  {
   "cell_type": "code",
   "execution_count": 44,
   "id": "6163a615-2c37-486a-a76c-359a9aabfad0",
   "metadata": {},
   "outputs": [
    {
     "name": "stdout",
     "output_type": "stream",
     "text": [
      "+-----+---------+-------+\n",
      "|db_id|  db_name|db_type|\n",
      "+-----+---------+-------+\n",
      "|   22|    Mysql|   null|\n",
      "|   50|Snowflake|  RDBMS|\n",
      "|   12| Teradata|  RDBMS|\n",
      "|   12| Teradata|  RDBMS|\n",
      "|   15|  Vertica|  RDBMS|\n",
      "|   14|Snowflake|CloudDB|\n",
      "|   51|     null|CloudDB|\n",
      "+-----+---------+-------+\n",
      "\n"
     ]
    }
   ],
   "source": [
    "from pyspark.sql.functions import col,desc_nulls_first,asc_nulls_first\n",
    "df_update = df.sort(desc_nulls_first(\"db_type\"), asc_nulls_last(\"db_name\"))\n",
    "df_update.show()"
   ]
  },
  {
   "cell_type": "code",
   "execution_count": null,
   "id": "b2f8e12d-157b-41c3-9c2a-4cf61a5b8713",
   "metadata": {},
   "outputs": [],
   "source": []
  },
  {
   "cell_type": "code",
   "execution_count": null,
   "id": "dc5c3226-64c1-40dd-a6d5-a5c0d880e3a5",
   "metadata": {},
   "outputs": [],
   "source": []
  },
  {
   "cell_type": "code",
   "execution_count": null,
   "id": "7c3e881b-3375-474e-a69e-42c6487e16a3",
   "metadata": {},
   "outputs": [],
   "source": []
  },
  {
   "cell_type": "code",
   "execution_count": null,
   "id": "e050953b-c347-46cf-b8b1-777854d3a8db",
   "metadata": {},
   "outputs": [],
   "source": []
  }
 ],
 "metadata": {
  "kernelspec": {
   "display_name": "Python 3 (ipykernel)",
   "language": "python",
   "name": "python3"
  },
  "language_info": {
   "codemirror_mode": {
    "name": "ipython",
    "version": 3
   },
   "file_extension": ".py",
   "mimetype": "text/x-python",
   "name": "python",
   "nbconvert_exporter": "python",
   "pygments_lexer": "ipython3",
   "version": "3.11.7"
  }
 },
 "nbformat": 4,
 "nbformat_minor": 5
}
