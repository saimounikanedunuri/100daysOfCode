{
 "cells": [
  {
   "cell_type": "code",
   "execution_count": 1,
   "id": "c7f23f38-573e-455f-af5c-1109436b13a2",
   "metadata": {},
   "outputs": [],
   "source": [
    "import pyspark\n",
    "from pyspark.sql import SparkSession\n",
    "spark=SparkSession.builder.getOrCreate()"
   ]
  },
  {
   "cell_type": "code",
   "execution_count": 2,
   "id": "7744a9eb-d212-434e-8148-6875b2080d6f",
   "metadata": {},
   "outputs": [
    {
     "name": "stdout",
     "output_type": "stream",
     "text": [
      "+-----+---------+-------+----------+\n",
      "|db_id|  db_name|db_type|partition#|\n",
      "+-----+---------+-------+----------+\n",
      "|   12| Teradata|  RDBMS|         0|\n",
      "|   14|Snowflake|CloudDB|         0|\n",
      "|   12| Teradata|  RDBMS|         0|\n",
      "|   15|  Vertica|  RDBMS|         1|\n",
      "|   22|    Mysql|   null|         1|\n",
      "|   50|Snowflake|  RDBMS|         2|\n",
      "|   51|     null|CloudDB|         2|\n",
      "+-----+---------+-------+----------+\n",
      "\n"
     ]
    }
   ],
   "source": [
    "from pyspark.sql.functions import spark_partition_id\n",
    "df=spark.read.csv(\"C:/Users/nedun/Documents/Mona/DE/sort_partitions/csv_with_duplicates_and_nulls.csv\",header=True).repartitionByRange(3,\"db_id\")\n",
    "df=df.withColumn(\"partition#\",spark_partition_id())\n",
    "df.show()"
   ]
  },
  {
   "cell_type": "code",
   "execution_count": 3,
   "id": "cedb0c55-ea40-4057-ae34-2dc5698bb7ba",
   "metadata": {},
   "outputs": [
    {
     "name": "stdout",
     "output_type": "stream",
     "text": [
      "+-----+---------+-------+----------+\n",
      "|db_id|  db_name|db_type|partition#|\n",
      "+-----+---------+-------+----------+\n",
      "|   12| Teradata|  RDBMS|         0|\n",
      "|   12| Teradata|  RDBMS|         0|\n",
      "|   14|Snowflake|CloudDB|         0|\n",
      "|   15|  Vertica|  RDBMS|         1|\n",
      "|   22|    Mysql|   null|         1|\n",
      "|   50|Snowflake|  RDBMS|         2|\n",
      "|   51|     null|CloudDB|         2|\n",
      "+-----+---------+-------+----------+\n",
      "\n"
     ]
    }
   ],
   "source": [
    "df_update=df.sortWithinPartitions(\"db_id\")\n",
    "df_update.show()"
   ]
  },
  {
   "cell_type": "code",
   "execution_count": 4,
   "id": "dede89e1-b932-4cfd-90cd-99a2531aaca1",
   "metadata": {},
   "outputs": [
    {
     "name": "stdout",
     "output_type": "stream",
     "text": [
      "+-----+---------+-------+----------+\n",
      "|db_id|  db_name|db_type|partition#|\n",
      "+-----+---------+-------+----------+\n",
      "|   12| Teradata|  RDBMS|         0|\n",
      "|   12| Teradata|  RDBMS|         0|\n",
      "|   14|Snowflake|CloudDB|         0|\n",
      "|   15|  Vertica|  RDBMS|         1|\n",
      "|   22|    Mysql|   null|         1|\n",
      "|   50|Snowflake|  RDBMS|         2|\n",
      "|   51|     null|CloudDB|         2|\n",
      "+-----+---------+-------+----------+\n",
      "\n"
     ]
    }
   ],
   "source": [
    "from pyspark.sql.functions import asc\n",
    "df_update=df.sortWithinPartitions(asc(\"db_id\"))\n",
    "df_update.show()"
   ]
  },
  {
   "cell_type": "code",
   "execution_count": 5,
   "id": "60d3ac4c-67c1-4404-9726-4870c7620835",
   "metadata": {},
   "outputs": [
    {
     "name": "stdout",
     "output_type": "stream",
     "text": [
      "+-----+---------+-------+----------+\n",
      "|db_id|  db_name|db_type|partition#|\n",
      "+-----+---------+-------+----------+\n",
      "|   12| Teradata|  RDBMS|         0|\n",
      "|   12| Teradata|  RDBMS|         0|\n",
      "|   14|Snowflake|CloudDB|         0|\n",
      "|   15|  Vertica|  RDBMS|         1|\n",
      "|   22|    Mysql|   null|         1|\n",
      "|   50|Snowflake|  RDBMS|         2|\n",
      "|   51|     null|CloudDB|         2|\n",
      "+-----+---------+-------+----------+\n",
      "\n"
     ]
    }
   ],
   "source": [
    "from pyspark.sql.functions import asc\n",
    "df_update=df.sort(asc(\"db_id\"))\n",
    "df_update.show()"
   ]
  },
  {
   "cell_type": "code",
   "execution_count": 6,
   "id": "0d2868fe-1d35-4fed-816f-46e3d7f65bb9",
   "metadata": {},
   "outputs": [
    {
     "name": "stdout",
     "output_type": "stream",
     "text": [
      "+-----+---------+-------+----------+\n",
      "|db_id|  db_name|db_type|partition#|\n",
      "+-----+---------+-------+----------+\n",
      "|   12| Teradata|  RDBMS|         0|\n",
      "|   12| Teradata|  RDBMS|         0|\n",
      "|   14|Snowflake|CloudDB|         0|\n",
      "|   15|  Vertica|  RDBMS|         1|\n",
      "|   22|    Mysql|   null|         1|\n",
      "|   50|Snowflake|  RDBMS|         2|\n",
      "|   51|     null|CloudDB|         2|\n",
      "+-----+---------+-------+----------+\n",
      "\n"
     ]
    }
   ],
   "source": [
    "from pyspark.sql.functions import col\n",
    "df_update = df.sortWithinPartitions(col(\"db_id\").asc())\n",
    "\n",
    "df_update.show()"
   ]
  },
  {
   "cell_type": "code",
   "execution_count": 9,
   "id": "1c072b30-64a4-4981-a5fa-bf421a1591e9",
   "metadata": {},
   "outputs": [
    {
     "name": "stdout",
     "output_type": "stream",
     "text": [
      "+-----+---------+-------+----------+\n",
      "|db_id|  db_name|db_type|partition#|\n",
      "+-----+---------+-------+----------+\n",
      "|   14|Snowflake|CloudDB|         0|\n",
      "|   12| Teradata|  RDBMS|         0|\n",
      "|   12| Teradata|  RDBMS|         0|\n",
      "|   22|    Mysql|   null|         1|\n",
      "|   15|  Vertica|  RDBMS|         1|\n",
      "|   51|     null|CloudDB|         2|\n",
      "|   50|Snowflake|  RDBMS|         2|\n",
      "+-----+---------+-------+----------+\n",
      "\n"
     ]
    }
   ],
   "source": [
    "df_update=df.sortWithinPartitions(\"db_id\",ascending=False)\n",
    "df_update.show()"
   ]
  },
  {
   "cell_type": "code",
   "execution_count": 12,
   "id": "61ceab2c-354e-43c8-83aa-f8e8f8ad3053",
   "metadata": {},
   "outputs": [
    {
     "name": "stdout",
     "output_type": "stream",
     "text": [
      "+-----+---------+-------+----------+\n",
      "|db_id|  db_name|db_type|partition#|\n",
      "+-----+---------+-------+----------+\n",
      "|   14|Snowflake|CloudDB|         0|\n",
      "|   12| Teradata|  RDBMS|         0|\n",
      "|   12| Teradata|  RDBMS|         0|\n",
      "|   22|    Mysql|   null|         1|\n",
      "|   15|  Vertica|  RDBMS|         1|\n",
      "|   51|     null|CloudDB|         2|\n",
      "|   50|Snowflake|  RDBMS|         2|\n",
      "+-----+---------+-------+----------+\n",
      "\n"
     ]
    }
   ],
   "source": [
    "from pyspark.sql.functions import desc\n",
    "df_update=df.sortWithinPartitions(desc(\"db_id\"))\n",
    "df_update.show()"
   ]
  },
  {
   "cell_type": "code",
   "execution_count": 14,
   "id": "a40a88ff-586f-48ff-853c-8fcb975a3d1d",
   "metadata": {},
   "outputs": [
    {
     "name": "stdout",
     "output_type": "stream",
     "text": [
      "+-----+---------+-------+----------+\n",
      "|db_id|  db_name|db_type|partition#|\n",
      "+-----+---------+-------+----------+\n",
      "|   14|Snowflake|CloudDB|         0|\n",
      "|   12| Teradata|  RDBMS|         0|\n",
      "|   12| Teradata|  RDBMS|         0|\n",
      "|   22|    Mysql|   null|         1|\n",
      "|   15|  Vertica|  RDBMS|         1|\n",
      "|   51|     null|CloudDB|         2|\n",
      "|   50|Snowflake|  RDBMS|         2|\n",
      "+-----+---------+-------+----------+\n",
      "\n"
     ]
    }
   ],
   "source": [
    "df_update=df.sortWithinPartitions(col(\"db_id\").desc())\n",
    "df_update.show()"
   ]
  },
  {
   "cell_type": "code",
   "execution_count": 15,
   "id": "f8c323e3-f40e-4b02-b5ee-f8c859ffdef2",
   "metadata": {},
   "outputs": [
    {
     "name": "stdout",
     "output_type": "stream",
     "text": [
      "+-----+---------+-------+----------+\n",
      "|db_id|  db_name|db_type|partition#|\n",
      "+-----+---------+-------+----------+\n",
      "|   14|Snowflake|CloudDB|         0|\n",
      "|   12| Teradata|  RDBMS|         0|\n",
      "|   12| Teradata|  RDBMS|         0|\n",
      "|   22|    Mysql|   null|         1|\n",
      "|   15|  Vertica|  RDBMS|         1|\n",
      "|   51|     null|CloudDB|         2|\n",
      "|   50|Snowflake|  RDBMS|         2|\n",
      "+-----+---------+-------+----------+\n",
      "\n"
     ]
    }
   ],
   "source": [
    "from pyspark.sql.functions import col,asc_nulls_first\n",
    "df_update=df.sortWithinPartitions(asc_nulls_first(\"db_name\"))\n",
    "df_update.show()"
   ]
  },
  {
   "cell_type": "code",
   "execution_count": 16,
   "id": "ad6c024e-8ca2-4678-b91e-8a9210d596a4",
   "metadata": {},
   "outputs": [
    {
     "name": "stdout",
     "output_type": "stream",
     "text": [
      "+-----+---------+-------+----------+\n",
      "|db_id|  db_name|db_type|partition#|\n",
      "+-----+---------+-------+----------+\n",
      "|   14|Snowflake|CloudDB|         0|\n",
      "|   12| Teradata|  RDBMS|         0|\n",
      "|   12| Teradata|  RDBMS|         0|\n",
      "|   22|    Mysql|   null|         1|\n",
      "|   15|  Vertica|  RDBMS|         1|\n",
      "|   51|     null|CloudDB|         2|\n",
      "|   50|Snowflake|  RDBMS|         2|\n",
      "+-----+---------+-------+----------+\n",
      "\n"
     ]
    }
   ],
   "source": [
    "df_update=df.sortWithinPartitions(col(\"db_name\").asc_nulls_first())\n",
    "df_update.show()"
   ]
  },
  {
   "cell_type": "code",
   "execution_count": 18,
   "id": "60f2e901-c741-4954-ac03-9d6890dc6b07",
   "metadata": {},
   "outputs": [
    {
     "name": "stdout",
     "output_type": "stream",
     "text": [
      "+-----+---------+-------+----------+\n",
      "|db_id|  db_name|db_type|partition#|\n",
      "+-----+---------+-------+----------+\n",
      "|   14|Snowflake|CloudDB|         0|\n",
      "|   12| Teradata|  RDBMS|         0|\n",
      "|   12| Teradata|  RDBMS|         0|\n",
      "|   22|    Mysql|   null|         1|\n",
      "|   15|  Vertica|  RDBMS|         1|\n",
      "|   50|Snowflake|  RDBMS|         2|\n",
      "|   51|     null|CloudDB|         2|\n",
      "+-----+---------+-------+----------+\n",
      "\n"
     ]
    }
   ],
   "source": [
    "from pyspark.sql.functions import col, asc_nulls_last\n",
    "df_update=df.sortWithinPartitions(col(\"db_name\").asc_nulls_last())\n",
    "df_update.show()"
   ]
  },
  {
   "cell_type": "code",
   "execution_count": 20,
   "id": "2f27e551-19ef-40bb-ba13-f6376941f333",
   "metadata": {},
   "outputs": [
    {
     "name": "stdout",
     "output_type": "stream",
     "text": [
      "+-----+---------+-------+----------+\n",
      "|db_id|  db_name|db_type|partition#|\n",
      "+-----+---------+-------+----------+\n",
      "|   12| Teradata|  RDBMS|         0|\n",
      "|   12| Teradata|  RDBMS|         0|\n",
      "|   14|Snowflake|CloudDB|         0|\n",
      "|   15|  Vertica|  RDBMS|         1|\n",
      "|   22|    Mysql|   null|         1|\n",
      "|   51|     null|CloudDB|         2|\n",
      "|   50|Snowflake|  RDBMS|         2|\n",
      "+-----+---------+-------+----------+\n",
      "\n"
     ]
    }
   ],
   "source": [
    "from pyspark.sql.functions import desc_nulls_first\n",
    "df_update=df.sortWithinPartitions(desc_nulls_first(\"db_name\"))\n",
    "df_update.show()"
   ]
  },
  {
   "cell_type": "code",
   "execution_count": 21,
   "id": "529fc23c-1f31-418b-8a86-2a856555f90e",
   "metadata": {},
   "outputs": [
    {
     "name": "stdout",
     "output_type": "stream",
     "text": [
      "+-----+---------+-------+----------+\n",
      "|db_id|  db_name|db_type|partition#|\n",
      "+-----+---------+-------+----------+\n",
      "|   12| Teradata|  RDBMS|         0|\n",
      "|   12| Teradata|  RDBMS|         0|\n",
      "|   14|Snowflake|CloudDB|         0|\n",
      "|   15|  Vertica|  RDBMS|         1|\n",
      "|   22|    Mysql|   null|         1|\n",
      "|   51|     null|CloudDB|         2|\n",
      "|   50|Snowflake|  RDBMS|         2|\n",
      "+-----+---------+-------+----------+\n",
      "\n"
     ]
    }
   ],
   "source": [
    "df_update=df.sortWithinPartitions(col(\"db_name\").desc_nulls_first())\n",
    "df_update.show()"
   ]
  },
  {
   "cell_type": "code",
   "execution_count": 22,
   "id": "1f812a1d-b937-4863-b5a7-95e69678bf83",
   "metadata": {},
   "outputs": [
    {
     "name": "stdout",
     "output_type": "stream",
     "text": [
      "+-----+---------+-------+----------+\n",
      "|db_id|  db_name|db_type|partition#|\n",
      "+-----+---------+-------+----------+\n",
      "|   12| Teradata|  RDBMS|         0|\n",
      "|   12| Teradata|  RDBMS|         0|\n",
      "|   14|Snowflake|CloudDB|         0|\n",
      "|   15|  Vertica|  RDBMS|         1|\n",
      "|   22|    Mysql|   null|         1|\n",
      "|   50|Snowflake|  RDBMS|         2|\n",
      "|   51|     null|CloudDB|         2|\n",
      "+-----+---------+-------+----------+\n",
      "\n"
     ]
    }
   ],
   "source": [
    "from pyspark.sql.functions import desc_nulls_last\n",
    "df_update=df.sortWithinPartitions(desc_nulls_last(\"db_name\"))\n",
    "df_update.show()"
   ]
  },
  {
   "cell_type": "code",
   "execution_count": 23,
   "id": "94b2c4c3-6ee4-474b-bcd5-031b80765b8d",
   "metadata": {},
   "outputs": [
    {
     "name": "stdout",
     "output_type": "stream",
     "text": [
      "+-----+---------+-------+----------+\n",
      "|db_id|  db_name|db_type|partition#|\n",
      "+-----+---------+-------+----------+\n",
      "|   12| Teradata|  RDBMS|         0|\n",
      "|   12| Teradata|  RDBMS|         0|\n",
      "|   14|Snowflake|CloudDB|         0|\n",
      "|   15|  Vertica|  RDBMS|         1|\n",
      "|   22|    Mysql|   null|         1|\n",
      "|   50|Snowflake|  RDBMS|         2|\n",
      "|   51|     null|CloudDB|         2|\n",
      "+-----+---------+-------+----------+\n",
      "\n"
     ]
    }
   ],
   "source": [
    "df_update=df.sortWithinPartitions(col(\"db_name\").desc_nulls_last())\n",
    "df_update.show()"
   ]
  },
  {
   "cell_type": "code",
   "execution_count": 24,
   "id": "0f54dbf7-a637-4427-be75-d531cea84403",
   "metadata": {},
   "outputs": [
    {
     "name": "stdout",
     "output_type": "stream",
     "text": [
      "+-----+---------+-------+----------+\n",
      "|db_id|  db_name|db_type|partition#|\n",
      "+-----+---------+-------+----------+\n",
      "|   14|Snowflake|CloudDB|         0|\n",
      "|   12| Teradata|  RDBMS|         0|\n",
      "|   12| Teradata|  RDBMS|         0|\n",
      "|   22|    Mysql|   null|         1|\n",
      "|   15|  Vertica|  RDBMS|         1|\n",
      "|   51|     null|CloudDB|         2|\n",
      "|   50|Snowflake|  RDBMS|         2|\n",
      "+-----+---------+-------+----------+\n",
      "\n"
     ]
    }
   ],
   "source": [
    "df_update=df.sortWithinPartitions(\"db_name\",\"db_id\")\n",
    "df_update.show()"
   ]
  },
  {
   "cell_type": "code",
   "execution_count": 26,
   "id": "ab344f77-6702-4d22-b09e-3abbbc479115",
   "metadata": {},
   "outputs": [
    {
     "name": "stdout",
     "output_type": "stream",
     "text": [
      "+-----+---------+-------+----------+\n",
      "|db_id|  db_name|db_type|partition#|\n",
      "+-----+---------+-------+----------+\n",
      "|   14|Snowflake|CloudDB|         0|\n",
      "|   12| Teradata|  RDBMS|         0|\n",
      "|   12| Teradata|  RDBMS|         0|\n",
      "|   22|    Mysql|   null|         1|\n",
      "|   15|  Vertica|  RDBMS|         1|\n",
      "|   51|     null|CloudDB|         2|\n",
      "|   50|Snowflake|  RDBMS|         2|\n",
      "+-----+---------+-------+----------+\n",
      "\n"
     ]
    }
   ],
   "source": [
    "sort_list=[\"db_name\",\"db_id\"]\n",
    "df_update=df.sortWithinPartitions(sort_list)\n",
    "df_update.show()"
   ]
  },
  {
   "cell_type": "code",
   "execution_count": 27,
   "id": "afe19a4a-d829-4af9-9d79-3773bb4f5d13",
   "metadata": {},
   "outputs": [
    {
     "name": "stdout",
     "output_type": "stream",
     "text": [
      "+-----+---------+-------+----------+\n",
      "|db_id|  db_name|db_type|partition#|\n",
      "+-----+---------+-------+----------+\n",
      "|   14|Snowflake|CloudDB|         0|\n",
      "|   12| Teradata|  RDBMS|         0|\n",
      "|   12| Teradata|  RDBMS|         0|\n",
      "|   22|    Mysql|   null|         1|\n",
      "|   15|  Vertica|  RDBMS|         1|\n",
      "|   51|     null|CloudDB|         2|\n",
      "|   50|Snowflake|  RDBMS|         2|\n",
      "+-----+---------+-------+----------+\n",
      "\n"
     ]
    }
   ],
   "source": [
    "df_update=df.sortWithinPartitions(\"db_name\",\"db_id\",ascending=[1,1])\n",
    "df_update.show()"
   ]
  },
  {
   "cell_type": "code",
   "execution_count": 28,
   "id": "d6c321ba-0f8c-426a-b26e-bc568ada9035",
   "metadata": {},
   "outputs": [
    {
     "name": "stdout",
     "output_type": "stream",
     "text": [
      "+-----+---------+-------+----------+\n",
      "|db_id|  db_name|db_type|partition#|\n",
      "+-----+---------+-------+----------+\n",
      "|   12| Teradata|  RDBMS|         0|\n",
      "|   12| Teradata|  RDBMS|         0|\n",
      "|   14|Snowflake|CloudDB|         0|\n",
      "|   15|  Vertica|  RDBMS|         1|\n",
      "|   22|    Mysql|   null|         1|\n",
      "|   50|Snowflake|  RDBMS|         2|\n",
      "|   51|     null|CloudDB|         2|\n",
      "+-----+---------+-------+----------+\n",
      "\n"
     ]
    }
   ],
   "source": [
    "df_update=df.sortWithinPartitions(desc(\"db_name\"),desc(\"db_id\"))\n",
    "df_update.show()"
   ]
  },
  {
   "cell_type": "code",
   "execution_count": 29,
   "id": "d3d17333-733b-4cb1-a5c6-83be06e9ea66",
   "metadata": {},
   "outputs": [
    {
     "name": "stdout",
     "output_type": "stream",
     "text": [
      "+-----+---------+-------+----------+\n",
      "|db_id|  db_name|db_type|partition#|\n",
      "+-----+---------+-------+----------+\n",
      "|   12| Teradata|  RDBMS|         0|\n",
      "|   12| Teradata|  RDBMS|         0|\n",
      "|   14|Snowflake|CloudDB|         0|\n",
      "|   15|  Vertica|  RDBMS|         1|\n",
      "|   22|    Mysql|   null|         1|\n",
      "|   50|Snowflake|  RDBMS|         2|\n",
      "|   51|     null|CloudDB|         2|\n",
      "+-----+---------+-------+----------+\n",
      "\n"
     ]
    }
   ],
   "source": [
    "df_update=df.sortWithinPartitions(\"db_name\",\"db_id\",ascending=[0,0])\n",
    "df_update.show()"
   ]
  },
  {
   "cell_type": "code",
   "execution_count": 30,
   "id": "937fb948-b233-4110-8736-f1d7a337487f",
   "metadata": {},
   "outputs": [
    {
     "name": "stdout",
     "output_type": "stream",
     "text": [
      "+-----+---------+-------+----------+\n",
      "|db_id|  db_name|db_type|partition#|\n",
      "+-----+---------+-------+----------+\n",
      "|   12| Teradata|  RDBMS|         0|\n",
      "|   12| Teradata|  RDBMS|         0|\n",
      "|   14|Snowflake|CloudDB|         0|\n",
      "|   15|  Vertica|  RDBMS|         1|\n",
      "|   22|    Mysql|   null|         1|\n",
      "|   50|Snowflake|  RDBMS|         2|\n",
      "|   51|     null|CloudDB|         2|\n",
      "+-----+---------+-------+----------+\n",
      "\n"
     ]
    }
   ],
   "source": [
    "df_update=df.sortWithinPartitions(desc(\"db_name\"),asc(\"db_id\"))\n",
    "df_update.show()"
   ]
  },
  {
   "cell_type": "code",
   "execution_count": 31,
   "id": "f7249427-9241-4950-9853-dd3fe11d7599",
   "metadata": {},
   "outputs": [
    {
     "name": "stdout",
     "output_type": "stream",
     "text": [
      "+-----+---------+-------+----------+\n",
      "|db_id|  db_name|db_type|partition#|\n",
      "+-----+---------+-------+----------+\n",
      "|   12| Teradata|  RDBMS|         0|\n",
      "|   12| Teradata|  RDBMS|         0|\n",
      "|   14|Snowflake|CloudDB|         0|\n",
      "|   15|  Vertica|  RDBMS|         1|\n",
      "|   22|    Mysql|   null|         1|\n",
      "|   50|Snowflake|  RDBMS|         2|\n",
      "|   51|     null|CloudDB|         2|\n",
      "+-----+---------+-------+----------+\n",
      "\n"
     ]
    }
   ],
   "source": [
    "df_update=df.sortWithinPartitions(desc(\"db_name\"),asc(\"db_id\"))\n",
    "df_update.show()"
   ]
  },
  {
   "cell_type": "code",
   "execution_count": 32,
   "id": "44626e47-dcf8-4da5-a1b4-f0c29dc8c875",
   "metadata": {},
   "outputs": [
    {
     "name": "stdout",
     "output_type": "stream",
     "text": [
      "+-----+---------+-------+----------+\n",
      "|db_id|  db_name|db_type|partition#|\n",
      "+-----+---------+-------+----------+\n",
      "|   12| Teradata|  RDBMS|         0|\n",
      "|   12| Teradata|  RDBMS|         0|\n",
      "|   14|Snowflake|CloudDB|         0|\n",
      "|   15|  Vertica|  RDBMS|         1|\n",
      "|   22|    Mysql|   null|         1|\n",
      "|   50|Snowflake|  RDBMS|         2|\n",
      "|   51|     null|CloudDB|         2|\n",
      "+-----+---------+-------+----------+\n",
      "\n"
     ]
    }
   ],
   "source": [
    "df_update=df.sortWithinPartitions(\"db_name\",\"db_id\",ascending=[0,1])\n",
    "df_update.show()"
   ]
  },
  {
   "cell_type": "code",
   "execution_count": 33,
   "id": "6a0bf65e-0bd7-474f-9990-01b3fd5e0d7a",
   "metadata": {},
   "outputs": [
    {
     "name": "stdout",
     "output_type": "stream",
     "text": [
      "+-----+---------+-------+----------+\n",
      "|db_id|  db_name|db_type|partition#|\n",
      "+-----+---------+-------+----------+\n",
      "|   14|Snowflake|CloudDB|         0|\n",
      "|   12| Teradata|  RDBMS|         0|\n",
      "|   12| Teradata|  RDBMS|         0|\n",
      "|   15|  Vertica|  RDBMS|         1|\n",
      "|   22|    Mysql|   null|         1|\n",
      "|   51|     null|CloudDB|         2|\n",
      "|   50|Snowflake|  RDBMS|         2|\n",
      "+-----+---------+-------+----------+\n",
      "\n"
     ]
    }
   ],
   "source": [
    "df_update=df.sortWithinPartitions(asc_nulls_last(\"db_type\"),desc_nulls_last(\"db_name\"))\n",
    "df_update.show()"
   ]
  },
  {
   "cell_type": "code",
   "execution_count": 34,
   "id": "ee5dea1b-3dbb-4306-9018-41d916f1c184",
   "metadata": {},
   "outputs": [
    {
     "name": "stdout",
     "output_type": "stream",
     "text": [
      "+-----+---------+-------+----------+\n",
      "|db_id|  db_name|db_type|partition#|\n",
      "+-----+---------+-------+----------+\n",
      "|   14|Snowflake|CloudDB|         0|\n",
      "|   12| Teradata|  RDBMS|         0|\n",
      "|   12| Teradata|  RDBMS|         0|\n",
      "|   15|  Vertica|  RDBMS|         1|\n",
      "|   22|    Mysql|   null|         1|\n",
      "|   51|     null|CloudDB|         2|\n",
      "|   50|Snowflake|  RDBMS|         2|\n",
      "+-----+---------+-------+----------+\n",
      "\n"
     ]
    }
   ],
   "source": [
    "df_update.sortWithinPartitions(col(\"db_type\").asc_nulls_last(),col(\"db_name\").desc_nulls_last())\n",
    "df_update.show()"
   ]
  },
  {
   "cell_type": "code",
   "execution_count": 35,
   "id": "074223e3-a3b0-47e9-9411-87b4e70ed04b",
   "metadata": {},
   "outputs": [
    {
     "name": "stdout",
     "output_type": "stream",
     "text": [
      "+-----+---------+-------+----------+\n",
      "|db_id|  db_name|db_type|partition#|\n",
      "+-----+---------+-------+----------+\n",
      "|   14|Snowflake|CloudDB|         0|\n",
      "|   12| Teradata|  RDBMS|         0|\n",
      "|   12| Teradata|  RDBMS|         0|\n",
      "|   22|    Mysql|   null|         1|\n",
      "|   15|  Vertica|  RDBMS|         1|\n",
      "|   51|     null|CloudDB|         2|\n",
      "|   50|Snowflake|  RDBMS|         2|\n",
      "+-----+---------+-------+----------+\n",
      "\n"
     ]
    }
   ],
   "source": [
    "df_update=df.sortWithinPartitions(asc_nulls_first(\"db_type\"),desc_nulls_last(\"db_name\"))\n",
    "df_update.show()"
   ]
  },
  {
   "cell_type": "code",
   "execution_count": 36,
   "id": "b7e91ce9-a080-4a4e-b064-1642b875a378",
   "metadata": {},
   "outputs": [
    {
     "name": "stdout",
     "output_type": "stream",
     "text": [
      "+-----+---------+-------+----------+\n",
      "|db_id|  db_name|db_type|partition#|\n",
      "+-----+---------+-------+----------+\n",
      "|   12| Teradata|  RDBMS|         0|\n",
      "|   12| Teradata|  RDBMS|         0|\n",
      "|   14|Snowflake|CloudDB|         0|\n",
      "|   15|  Vertica|  RDBMS|         1|\n",
      "|   22|    Mysql|   null|         1|\n",
      "|   50|Snowflake|  RDBMS|         2|\n",
      "|   51|     null|CloudDB|         2|\n",
      "+-----+---------+-------+----------+\n",
      "\n"
     ]
    }
   ],
   "source": [
    "df_update=df.sortWithinPartitions(desc_nulls_last(\"db_type\"),asc_nulls_first(\"db_name\"))\n",
    "df_update.show()"
   ]
  },
  {
   "cell_type": "code",
   "execution_count": 37,
   "id": "fb2ed202-2712-4660-baa6-3fc60c5fb0d5",
   "metadata": {},
   "outputs": [
    {
     "name": "stdout",
     "output_type": "stream",
     "text": [
      "+-----+---------+-------+----------+\n",
      "|db_id|  db_name|db_type|partition#|\n",
      "+-----+---------+-------+----------+\n",
      "|   12| Teradata|  RDBMS|         0|\n",
      "|   12| Teradata|  RDBMS|         0|\n",
      "|   14|Snowflake|CloudDB|         0|\n",
      "|   22|    Mysql|   null|         1|\n",
      "|   15|  Vertica|  RDBMS|         1|\n",
      "|   50|Snowflake|  RDBMS|         2|\n",
      "|   51|     null|CloudDB|         2|\n",
      "+-----+---------+-------+----------+\n",
      "\n"
     ]
    }
   ],
   "source": [
    "df_update=df.sortWithinPartitions(desc_nulls_first(\"db_type\"),asc_nulls_last(\"db_name\"))\n",
    "df_update.show()"
   ]
  },
  {
   "cell_type": "code",
   "execution_count": null,
   "id": "a329fec5-8706-4bfb-88ff-0a95e763509e",
   "metadata": {},
   "outputs": [],
   "source": []
  },
  {
   "cell_type": "code",
   "execution_count": null,
   "id": "250ad49e-6e9f-4fcd-a583-c0378be5e2b1",
   "metadata": {},
   "outputs": [],
   "source": []
  },
  {
   "cell_type": "code",
   "execution_count": null,
   "id": "9935e4bd-7444-4460-b313-2d87e27ae924",
   "metadata": {},
   "outputs": [],
   "source": []
  },
  {
   "cell_type": "code",
   "execution_count": null,
   "id": "6a8c2516-98bf-4b45-9070-235aede7f6cb",
   "metadata": {},
   "outputs": [],
   "source": []
  },
  {
   "cell_type": "code",
   "execution_count": null,
   "id": "d2a827b3-2018-4cde-9987-a292765bd599",
   "metadata": {},
   "outputs": [],
   "source": []
  },
  {
   "cell_type": "code",
   "execution_count": null,
   "id": "21b1910e-65b9-42e6-80a0-8af48df64864",
   "metadata": {},
   "outputs": [],
   "source": []
  }
 ],
 "metadata": {
  "kernelspec": {
   "display_name": "Python 3 (ipykernel)",
   "language": "python",
   "name": "python3"
  },
  "language_info": {
   "codemirror_mode": {
    "name": "ipython",
    "version": 3
   },
   "file_extension": ".py",
   "mimetype": "text/x-python",
   "name": "python",
   "nbconvert_exporter": "python",
   "pygments_lexer": "ipython3",
   "version": "3.11.7"
  }
 },
 "nbformat": 4,
 "nbformat_minor": 5
}
