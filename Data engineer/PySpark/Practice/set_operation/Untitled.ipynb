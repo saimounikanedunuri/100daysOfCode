{
 "cells": [
  {
   "cell_type": "markdown",
   "id": "f420f546-246d-4f72-985b-12a3849d4f8c",
   "metadata": {},
   "source": [
    "# below are functions to perform set operations\n",
    "intersect\n",
    "intersectAll\n",
    "subtract\n",
    "exceptAll\n",
    "union / unionAll\n",
    "UnionByName\n",
    "Union Vs UnionByName"
   ]
  },
  {
   "cell_type": "code",
   "execution_count": 1,
   "id": "c971e814-2dab-4722-8571-8af42c586afa",
   "metadata": {},
   "outputs": [],
   "source": [
    "from pyspark.sql import SparkSession\n",
    "spark=SparkSession.builder.getOrCreate()"
   ]
  },
  {
   "cell_type": "code",
   "execution_count": 5,
   "id": "9a5f81d0-8731-4988-84af-6e79179bc9bf",
   "metadata": {},
   "outputs": [
    {
     "name": "stdout",
     "output_type": "stream",
     "text": [
      "+-----+---------+-------+\n",
      "|db_id|  db_name|db_type|\n",
      "+-----+---------+-------+\n",
      "|   12| Teradata|  RDBMS|\n",
      "|   14|Snowflake|CloudDB|\n",
      "|   15|  Vertica|  RDBMS|\n",
      "|   17|   Oracle|  RDBMS|\n",
      "|   17|   Oracle|  RDBMS|\n",
      "|   19|  MongoDB|  NOSQL|\n",
      "|   19|  MongoDB|  NOSQL|\n",
      "+-----+---------+-------+\n",
      "\n"
     ]
    }
   ],
   "source": [
    "df1=spark.read.option(\"header\",True).csv(\"C:/Users/nedun/Documents/Mona/DE/set_operation/set_example_file_1.csv\")\n",
    "df1.show()"
   ]
  },
  {
   "cell_type": "code",
   "execution_count": 6,
   "id": "e85bb90e-a2ee-4646-ae4e-8c12206d4194",
   "metadata": {},
   "outputs": [
    {
     "name": "stdout",
     "output_type": "stream",
     "text": [
      "+-----+-----------+-------+\n",
      "|db_id|    db_name|db_type|\n",
      "+-----+-----------+-------+\n",
      "|   17|     Oracle|  RDBMS|\n",
      "|   19|    MongoDB|  NOSQL|\n",
      "|   21|SingleStore|  RDBMS|\n",
      "|   22|      Mysql|  RDBMS|\n",
      "|   14|  Snowflake|  RDBMS|\n",
      "|   17|     Oracle|  RDBMS|\n",
      "+-----+-----------+-------+\n",
      "\n"
     ]
    }
   ],
   "source": [
    "df2=spark.read.option(\"header\",True).csv(\"C:/Users/nedun/Documents/Mona/DE/set_operation/set_example_file_2.csv\")\n",
    "df2.show()"
   ]
  },
  {
   "cell_type": "code",
   "execution_count": 7,
   "id": "37976d6d-0611-4a9b-a083-8e658aedf948",
   "metadata": {},
   "outputs": [
    {
     "name": "stdout",
     "output_type": "stream",
     "text": [
      "+-----+-------+-------+\n",
      "|db_id|db_name|db_type|\n",
      "+-----+-------+-------+\n",
      "|   17| Oracle|  RDBMS|\n",
      "|   19|MongoDB|  NOSQL|\n",
      "+-----+-------+-------+\n",
      "\n"
     ]
    }
   ],
   "source": [
    "#intersection - to get common rows from 2 dataframes\n",
    "df1.intersect(df2).show()"
   ]
  },
  {
   "cell_type": "code",
   "execution_count": 9,
   "id": "d47b951c-5e9f-4f00-a35e-11d1700f8e32",
   "metadata": {},
   "outputs": [
    {
     "name": "stdout",
     "output_type": "stream",
     "text": [
      "+-----+-------+-------+\n",
      "|db_id|db_name|db_type|\n",
      "+-----+-------+-------+\n",
      "|   17| Oracle|  RDBMS|\n",
      "|   19|MongoDB|  NOSQL|\n",
      "+-----+-------+-------+\n",
      "\n"
     ]
    }
   ],
   "source": [
    "#changing position of dataframe will not change the output\n",
    "df2.intersect(df1).show()"
   ]
  },
  {
   "cell_type": "code",
   "execution_count": 11,
   "id": "4df7608c-9d81-4804-b1cc-c6a2ea4d40ed",
   "metadata": {},
   "outputs": [
    {
     "name": "stdout",
     "output_type": "stream",
     "text": [
      "+-----+-------+-------+\n",
      "|db_id|db_name|db_type|\n",
      "+-----+-------+-------+\n",
      "|   17| Oracle|  RDBMS|\n",
      "|   17| Oracle|  RDBMS|\n",
      "|   19|MongoDB|  NOSQL|\n",
      "+-----+-------+-------+\n",
      "\n"
     ]
    }
   ],
   "source": [
    "#irrespective of dataframe position, intersectAll is used to get common rows from 2 dataframes duplicates\n",
    "df1.intersectAll(df2).show()"
   ]
  },
  {
   "cell_type": "code",
   "execution_count": 12,
   "id": "bc64d239-7583-4ba4-8d5f-44987e4946dd",
   "metadata": {},
   "outputs": [
    {
     "name": "stdout",
     "output_type": "stream",
     "text": [
      "+-----+---------+-------+\n",
      "|db_id|  db_name|db_type|\n",
      "+-----+---------+-------+\n",
      "|   15|  Vertica|  RDBMS|\n",
      "|   12| Teradata|  RDBMS|\n",
      "|   14|Snowflake|CloudDB|\n",
      "+-----+---------+-------+\n",
      "\n"
     ]
    }
   ],
   "source": [
    "#subract used to get rows which are in 1st df but not in 2nd df. returns unique rows\n",
    "df1.subtract(df2).show()"
   ]
  },
  {
   "cell_type": "code",
   "execution_count": 13,
   "id": "6315d355-5f17-44b6-b3dd-c1b48c3dd873",
   "metadata": {},
   "outputs": [
    {
     "name": "stdout",
     "output_type": "stream",
     "text": [
      "+-----+-----------+-------+\n",
      "|db_id|    db_name|db_type|\n",
      "+-----+-----------+-------+\n",
      "|   14|  Snowflake|  RDBMS|\n",
      "|   22|      Mysql|  RDBMS|\n",
      "|   21|SingleStore|  RDBMS|\n",
      "+-----+-----------+-------+\n",
      "\n"
     ]
    }
   ],
   "source": [
    "#changing position of df will change the output\n",
    "df2.subtract(df1).show()"
   ]
  },
  {
   "cell_type": "code",
   "execution_count": 14,
   "id": "0433340b-cde6-4139-88c3-736b6f315412",
   "metadata": {},
   "outputs": [
    {
     "name": "stdout",
     "output_type": "stream",
     "text": [
      "+-----+---------+-------+\n",
      "|db_id|  db_name|db_type|\n",
      "+-----+---------+-------+\n",
      "|   15|  Vertica|  RDBMS|\n",
      "|   12| Teradata|  RDBMS|\n",
      "|   19|  MongoDB|  NOSQL|\n",
      "|   14|Snowflake|CloudDB|\n",
      "+-----+---------+-------+\n",
      "\n"
     ]
    }
   ],
   "source": [
    "#exceptAll gets 1st df but not in 2nd df rows. returns duplicates if 1st df has more duplicates than 2nd df\n",
    "df1.exceptAll(df2).show()"
   ]
  },
  {
   "cell_type": "code",
   "execution_count": 15,
   "id": "77b752ea-3414-496b-aaea-677423922903",
   "metadata": {},
   "outputs": [
    {
     "name": "stdout",
     "output_type": "stream",
     "text": [
      "+-----+-----------+-------+\n",
      "|db_id|    db_name|db_type|\n",
      "+-----+-----------+-------+\n",
      "|   14|  Snowflake|  RDBMS|\n",
      "|   22|      Mysql|  RDBMS|\n",
      "|   21|SingleStore|  RDBMS|\n",
      "+-----+-----------+-------+\n",
      "\n"
     ]
    }
   ],
   "source": [
    "df2.exceptAll(df1).show()"
   ]
  },
  {
   "cell_type": "code",
   "execution_count": null,
   "id": "67fd0531-f83c-4ae8-9c88-64a77c0d3b46",
   "metadata": {},
   "outputs": [],
   "source": [
    "#union, unionAll - unionALl is alias of union. combines 2 df's with duplicates"
   ]
  },
  {
   "cell_type": "code",
   "execution_count": 16,
   "id": "1fa8402b-2823-4c1e-b0d7-f366e4409161",
   "metadata": {},
   "outputs": [
    {
     "name": "stdout",
     "output_type": "stream",
     "text": [
      "+-----+-----------+-------+\n",
      "|db_id|    db_name|db_type|\n",
      "+-----+-----------+-------+\n",
      "|   12|   Teradata|  RDBMS|\n",
      "|   14|  Snowflake|CloudDB|\n",
      "|   15|    Vertica|  RDBMS|\n",
      "|   17|     Oracle|  RDBMS|\n",
      "|   17|     Oracle|  RDBMS|\n",
      "|   19|    MongoDB|  NOSQL|\n",
      "|   19|    MongoDB|  NOSQL|\n",
      "|   17|     Oracle|  RDBMS|\n",
      "|   19|    MongoDB|  NOSQL|\n",
      "|   21|SingleStore|  RDBMS|\n",
      "|   22|      Mysql|  RDBMS|\n",
      "|   14|  Snowflake|  RDBMS|\n",
      "|   17|     Oracle|  RDBMS|\n",
      "+-----+-----------+-------+\n",
      "\n"
     ]
    }
   ],
   "source": [
    "df1.union(df2).show()"
   ]
  },
  {
   "cell_type": "code",
   "execution_count": 17,
   "id": "f87640a3-0343-4450-bee1-fa4c5af8d622",
   "metadata": {},
   "outputs": [
    {
     "name": "stdout",
     "output_type": "stream",
     "text": [
      "+-----+-----------+-------+\n",
      "|db_id|    db_name|db_type|\n",
      "+-----+-----------+-------+\n",
      "|   12|   Teradata|  RDBMS|\n",
      "|   14|  Snowflake|CloudDB|\n",
      "|   15|    Vertica|  RDBMS|\n",
      "|   17|     Oracle|  RDBMS|\n",
      "|   17|     Oracle|  RDBMS|\n",
      "|   19|    MongoDB|  NOSQL|\n",
      "|   19|    MongoDB|  NOSQL|\n",
      "|   17|     Oracle|  RDBMS|\n",
      "|   19|    MongoDB|  NOSQL|\n",
      "|   21|SingleStore|  RDBMS|\n",
      "|   22|      Mysql|  RDBMS|\n",
      "|   14|  Snowflake|  RDBMS|\n",
      "|   17|     Oracle|  RDBMS|\n",
      "+-----+-----------+-------+\n",
      "\n"
     ]
    }
   ],
   "source": [
    "df1.unionAll(df2).show()"
   ]
  },
  {
   "cell_type": "code",
   "execution_count": null,
   "id": "d187e58b-9bd6-45ad-a6bd-2b0d9613c409",
   "metadata": {},
   "outputs": [],
   "source": []
  },
  {
   "cell_type": "code",
   "execution_count": null,
   "id": "17486e2d-3881-4437-8a68-28c7a78481ee",
   "metadata": {},
   "outputs": [],
   "source": []
  },
  {
   "cell_type": "code",
   "execution_count": null,
   "id": "45ee0a03-1b42-4c4b-8c21-621a71204183",
   "metadata": {},
   "outputs": [],
   "source": []
  },
  {
   "cell_type": "code",
   "execution_count": null,
   "id": "bea5f802-59cb-446e-a14e-c5b994d96c9c",
   "metadata": {},
   "outputs": [],
   "source": []
  },
  {
   "cell_type": "code",
   "execution_count": null,
   "id": "30cd9f4b-b153-40e0-bdaa-9c696a45fda0",
   "metadata": {},
   "outputs": [],
   "source": []
  },
  {
   "cell_type": "code",
   "execution_count": null,
   "id": "9a8a9645-92c1-4a0f-8e86-6a3a44b073e6",
   "metadata": {},
   "outputs": [],
   "source": []
  },
  {
   "cell_type": "code",
   "execution_count": null,
   "id": "b0f1bc02-84ed-42ea-8944-26a01c1c1179",
   "metadata": {},
   "outputs": [],
   "source": []
  },
  {
   "cell_type": "code",
   "execution_count": null,
   "id": "b31c4826-818a-4403-941d-9acee42b9043",
   "metadata": {},
   "outputs": [],
   "source": []
  },
  {
   "cell_type": "code",
   "execution_count": null,
   "id": "2a11fc58-43da-4b1d-8cd8-f3f3d9ac05c5",
   "metadata": {},
   "outputs": [],
   "source": []
  }
 ],
 "metadata": {
  "kernelspec": {
   "display_name": "Python 3 (ipykernel)",
   "language": "python",
   "name": "python3"
  },
  "language_info": {
   "codemirror_mode": {
    "name": "ipython",
    "version": 3
   },
   "file_extension": ".py",
   "mimetype": "text/x-python",
   "name": "python",
   "nbconvert_exporter": "python",
   "pygments_lexer": "ipython3",
   "version": "3.11.7"
  }
 },
 "nbformat": 4,
 "nbformat_minor": 5
}
