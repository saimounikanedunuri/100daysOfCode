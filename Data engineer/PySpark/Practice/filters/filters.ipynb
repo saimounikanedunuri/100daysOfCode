{
 "cells": [
  {
   "cell_type": "code",
   "execution_count": 6,
   "id": "936dd8e9-66d1-4dd7-9c82-fee3185d6bc0",
   "metadata": {},
   "outputs": [],
   "source": [
    "import pyspark\n",
    "from pyspark.sql import SparkSession\n",
    "spark=SparkSession.builder.getOrCreate()"
   ]
  },
  {
   "cell_type": "code",
   "execution_count": 7,
   "id": "b2ba2e51-e6de-42f1-8615-37fb65ad9c8a",
   "metadata": {},
   "outputs": [],
   "source": [
    "from pyspark.sql.functions import col\n",
    "\n",
    "empdf=spark.read.parquet(\"C:/Users/nedun/Documents/Mona/DE/filters/employee.parquet\")\n",
    "deptdf=spark.read.parquet(\"C:/Users/nedun/Documents/Mona/DE/filters/department.parquet\")"
   ]
  },
  {
   "cell_type": "code",
   "execution_count": 8,
   "id": "8d095cc5-1744-4175-b5ad-76f2a898065c",
   "metadata": {},
   "outputs": [
    {
     "name": "stdout",
     "output_type": "stream",
     "text": [
      "+-------+--------+-------+----------+-------+\n",
      "| emp_no|emp_name| salary|manager_id|dept_no|\n",
      "+-------+--------+-------+----------+-------+\n",
      "|1000288|   SCOTT|3000.00|   1000276|    200|\n",
      "+-------+--------+-------+----------+-------+\n",
      "\n"
     ]
    }
   ],
   "source": [
    "from pyspark.sql.functions import col\n",
    "\n",
    "empdf.filter(col(\"emp_name\")==\"SCOTT\").show()"
   ]
  },
  {
   "cell_type": "code",
   "execution_count": 9,
   "id": "fc381e07-7699-497b-8958-a6aa3240e444",
   "metadata": {},
   "outputs": [
    {
     "name": "stdout",
     "output_type": "stream",
     "text": [
      "+-------+--------+-------+----------+-------+\n",
      "| emp_no|emp_name| salary|manager_id|dept_no|\n",
      "+-------+--------+-------+----------+-------+\n",
      "|1000288|   SCOTT|3000.00|   1000276|    200|\n",
      "+-------+--------+-------+----------+-------+\n",
      "\n"
     ]
    }
   ],
   "source": [
    "empdf.filter(\"emp_name=='SCOTT'\").show()"
   ]
  },
  {
   "cell_type": "code",
   "execution_count": 10,
   "id": "64623b00-1090-4c9c-8003-97106a426aba",
   "metadata": {},
   "outputs": [
    {
     "name": "stdout",
     "output_type": "stream",
     "text": [
      "+-------+--------+-------+----------+-------+\n",
      "| emp_no|emp_name| salary|manager_id|dept_no|\n",
      "+-------+--------+-------+----------+-------+\n",
      "|1000299|   ALLEN|1600.00|   1000258|    300|\n",
      "+-------+--------+-------+----------+-------+\n",
      "\n"
     ]
    }
   ],
   "source": [
    "empdf.filter(col(\"emp_no\")%10==9).show()"
   ]
  },
  {
   "cell_type": "code",
   "execution_count": 11,
   "id": "015d1002-4334-43d5-826b-4066c3cf282f",
   "metadata": {},
   "outputs": [
    {
     "name": "stdout",
     "output_type": "stream",
     "text": [
      "+-------+--------+-------+----------+-------+\n",
      "| emp_no|emp_name| salary|manager_id|dept_no|\n",
      "+-------+--------+-------+----------+-------+\n",
      "|1000258|   BLAKE|2850.00|   1000245|    300|\n",
      "|1000262|   CLARK|2450.00|   1000245|    100|\n",
      "|1000276|   JONES|2975.00|   1000245|    200|\n",
      "|1000288|   SCOTT|3000.00|   1000276|    200|\n",
      "|1000292|    FORD|3000.00|   1000276|    200|\n",
      "|1000294|   SMITH| 800.00|   1000292|    200|\n",
      "|1000326|   ADAMS|1100.00|   1000288|    200|\n",
      "|1000346|  MILLER|1300.00|   1000262|    100|\n",
      "|1000347|   DAVID|1400.00|   1000245|    500|\n",
      "+-------+--------+-------+----------+-------+\n",
      "\n"
     ]
    }
   ],
   "source": [
    "empdf.filter(col(\"manager_id\")!=1000258).show()"
   ]
  },
  {
   "cell_type": "code",
   "execution_count": 13,
   "id": "db0539a5-953c-4385-872c-51e7dfbb9d55",
   "metadata": {},
   "outputs": [
    {
     "name": "stdout",
     "output_type": "stream",
     "text": [
      "+-------+--------+-------+----------+-------+\n",
      "| emp_no|emp_name| salary|manager_id|dept_no|\n",
      "+-------+--------+-------+----------+-------+\n",
      "|1000294|   SMITH| 800.00|   1000292|    200|\n",
      "|1000310|    WARD|1250.00|   1000258|    300|\n",
      "|1000312|  MARTIN|1250.00|   1000258|    300|\n",
      "|1000326|   ADAMS|1100.00|   1000288|    200|\n",
      "|1000336|   JAMES| 950.00|   1000258|    300|\n",
      "|1000346|  MILLER|1300.00|   1000262|    100|\n",
      "+-------+--------+-------+----------+-------+\n",
      "\n"
     ]
    }
   ],
   "source": [
    "empdf.filter(col(\"salary\")<1400).show()"
   ]
  },
  {
   "cell_type": "code",
   "execution_count": 14,
   "id": "b97ccbd4-d8e2-4052-8db0-abc1ec11d68a",
   "metadata": {},
   "outputs": [
    {
     "name": "stdout",
     "output_type": "stream",
     "text": [
      "+-------+--------+-------+----------+-------+\n",
      "| emp_no|emp_name| salary|manager_id|dept_no|\n",
      "+-------+--------+-------+----------+-------+\n",
      "|1000262|   CLARK|2450.00|   1000245|    100|\n",
      "|1000276|   JONES|2975.00|   1000245|    200|\n",
      "|1000310|    WARD|1250.00|   1000258|    300|\n",
      "+-------+--------+-------+----------+-------+\n",
      "\n"
     ]
    }
   ],
   "source": [
    "empdf.filter((col(\"emp_no\").isin(1000262,1000276,1000310))).show()"
   ]
  },
  {
   "cell_type": "code",
   "execution_count": 15,
   "id": "72c2c6fa-cadf-4c11-83b0-e7791b7d98b6",
   "metadata": {},
   "outputs": [
    {
     "name": "stdout",
     "output_type": "stream",
     "text": [
      "+-------+--------+-------+----------+-------+\n",
      "| emp_no|emp_name| salary|manager_id|dept_no|\n",
      "+-------+--------+-------+----------+-------+\n",
      "|1000288|   SCOTT|3000.00|   1000276|    200|\n",
      "|1000294|   SMITH| 800.00|   1000292|    200|\n",
      "|1000346|  MILLER|1300.00|   1000262|    100|\n",
      "+-------+--------+-------+----------+-------+\n",
      "\n"
     ]
    }
   ],
   "source": [
    "li=[1000346,1000288,1000294]\n",
    "empdf.filter((col(\"emp_no\").isin(li))).show()"
   ]
  },
  {
   "cell_type": "code",
   "execution_count": 16,
   "id": "ee33748c-82d2-468c-82be-fb31597e31d9",
   "metadata": {},
   "outputs": [
    {
     "name": "stdout",
     "output_type": "stream",
     "text": [
      "+-------+--------+-------+----------+-------+\n",
      "| emp_no|emp_name| salary|manager_id|dept_no|\n",
      "+-------+--------+-------+----------+-------+\n",
      "|1000245| PRADEEP|5000.00|      null|    100|\n",
      "|1000258|   BLAKE|2850.00|   1000245|    300|\n",
      "|1000288|   SCOTT|3000.00|   1000276|    200|\n",
      "|1000292|    FORD|3000.00|   1000276|    200|\n",
      "|1000294|   SMITH| 800.00|   1000292|    200|\n",
      "|1000299|   ALLEN|1600.00|   1000258|    300|\n",
      "|1000312|  MARTIN|1250.00|   1000258|    300|\n",
      "|1000315|  TURNER|1500.00|   1000258|    300|\n",
      "|1000326|   ADAMS|1100.00|   1000288|    200|\n",
      "|1000336|   JAMES| 950.00|   1000258|    300|\n",
      "|1000346|  MILLER|1300.00|   1000262|    100|\n",
      "|1000347|   DAVID|1400.00|   1000245|    500|\n",
      "+-------+--------+-------+----------+-------+\n",
      "\n"
     ]
    }
   ],
   "source": [
    "empdf.filter(~(col(\"emp_no\").isin(1000262,1000276,1000310))).show()"
   ]
  },
  {
   "cell_type": "code",
   "execution_count": 17,
   "id": "e7e50968-64d2-414c-bc6c-1283e66f9e09",
   "metadata": {},
   "outputs": [
    {
     "name": "stdout",
     "output_type": "stream",
     "text": [
      "+-------+--------+-------+----------+-------+\n",
      "| emp_no|emp_name| salary|manager_id|dept_no|\n",
      "+-------+--------+-------+----------+-------+\n",
      "|1000262|   CLARK|2450.00|   1000245|    100|\n",
      "|1000276|   JONES|2975.00|   1000245|    200|\n",
      "|1000310|    WARD|1250.00|   1000258|    300|\n",
      "+-------+--------+-------+----------+-------+\n",
      "\n"
     ]
    }
   ],
   "source": [
    "empdf.filter((col(\"emp_no\").isin(1000262,1000276,1000310))).show()"
   ]
  },
  {
   "cell_type": "code",
   "execution_count": 18,
   "id": "dffd81af-c96d-4ace-a3fd-604954120214",
   "metadata": {},
   "outputs": [
    {
     "name": "stdout",
     "output_type": "stream",
     "text": [
      "+-------+--------+-------+----------+-------+\n",
      "| emp_no|emp_name| salary|manager_id|dept_no|\n",
      "+-------+--------+-------+----------+-------+\n",
      "|1000245| PRADEEP|5000.00|      null|    100|\n",
      "|1000258|   BLAKE|2850.00|   1000245|    300|\n",
      "|1000262|   CLARK|2450.00|   1000245|    100|\n",
      "|1000276|   JONES|2975.00|   1000245|    200|\n",
      "|1000292|    FORD|3000.00|   1000276|    200|\n",
      "|1000299|   ALLEN|1600.00|   1000258|    300|\n",
      "|1000310|    WARD|1250.00|   1000258|    300|\n",
      "|1000312|  MARTIN|1250.00|   1000258|    300|\n",
      "|1000315|  TURNER|1500.00|   1000258|    300|\n",
      "|1000326|   ADAMS|1100.00|   1000288|    200|\n",
      "|1000336|   JAMES| 950.00|   1000258|    300|\n",
      "|1000347|   DAVID|1400.00|   1000245|    500|\n",
      "+-------+--------+-------+----------+-------+\n",
      "\n"
     ]
    }
   ],
   "source": [
    "li=[1000346,1000288,1000294]\n",
    "empdf.filter(~(col(\"emp_no\").isin(li))).show()"
   ]
  },
  {
   "cell_type": "code",
   "execution_count": 20,
   "id": "dc257001-e737-413f-bf2e-781bf110b805",
   "metadata": {},
   "outputs": [
    {
     "name": "stdout",
     "output_type": "stream",
     "text": [
      "+-------+--------+-------+----------+-------+\n",
      "| emp_no|emp_name| salary|manager_id|dept_no|\n",
      "+-------+--------+-------+----------+-------+\n",
      "|1000288|   SCOTT|3000.00|   1000276|    200|\n",
      "|1000294|   SMITH| 800.00|   1000292|    200|\n",
      "|1000346|  MILLER|1300.00|   1000262|    100|\n",
      "+-------+--------+-------+----------+-------+\n",
      "\n"
     ]
    }
   ],
   "source": [
    "li=[1000346,1000288,1000294]\n",
    "empdf.filter((col(\"emp_no\").isin(li))).show()"
   ]
  },
  {
   "cell_type": "code",
   "execution_count": 21,
   "id": "2771b027-f0a9-4acc-a9f8-6f456bb7c9ee",
   "metadata": {},
   "outputs": [
    {
     "name": "stdout",
     "output_type": "stream",
     "text": [
      "+-------+--------+-------+----------+-------+\n",
      "| emp_no|emp_name| salary|manager_id|dept_no|\n",
      "+-------+--------+-------+----------+-------+\n",
      "|1000245| PRADEEP|5000.00|      null|    100|\n",
      "+-------+--------+-------+----------+-------+\n",
      "\n"
     ]
    }
   ],
   "source": [
    "empdf.filter(col(\"manager_id\").isNull()).show()"
   ]
  },
  {
   "cell_type": "code",
   "execution_count": 22,
   "id": "38d6ff09-2f09-4be2-98e4-52ee2890d41a",
   "metadata": {},
   "outputs": [
    {
     "name": "stdout",
     "output_type": "stream",
     "text": [
      "+-------+--------+-------+----------+-------+\n",
      "| emp_no|emp_name| salary|manager_id|dept_no|\n",
      "+-------+--------+-------+----------+-------+\n",
      "|1000258|   BLAKE|2850.00|   1000245|    300|\n",
      "|1000262|   CLARK|2450.00|   1000245|    100|\n",
      "|1000276|   JONES|2975.00|   1000245|    200|\n",
      "|1000288|   SCOTT|3000.00|   1000276|    200|\n",
      "|1000292|    FORD|3000.00|   1000276|    200|\n",
      "|1000294|   SMITH| 800.00|   1000292|    200|\n",
      "|1000299|   ALLEN|1600.00|   1000258|    300|\n",
      "|1000310|    WARD|1250.00|   1000258|    300|\n",
      "|1000312|  MARTIN|1250.00|   1000258|    300|\n",
      "|1000315|  TURNER|1500.00|   1000258|    300|\n",
      "|1000326|   ADAMS|1100.00|   1000288|    200|\n",
      "|1000336|   JAMES| 950.00|   1000258|    300|\n",
      "|1000346|  MILLER|1300.00|   1000262|    100|\n",
      "|1000347|   DAVID|1400.00|   1000245|    500|\n",
      "+-------+--------+-------+----------+-------+\n",
      "\n"
     ]
    }
   ],
   "source": [
    "empdf.filter(col(\"manager_id\").isNotNull()).show()"
   ]
  },
  {
   "cell_type": "code",
   "execution_count": 29,
   "id": "1e3cbfa3-94ac-4b96-9bb1-b3f2ceb5276d",
   "metadata": {},
   "outputs": [
    {
     "name": "stdout",
     "output_type": "stream",
     "text": [
      "+-------+--------+-------+----------+-------+\n",
      "| emp_no|emp_name| salary|manager_id|dept_no|\n",
      "+-------+--------+-------+----------+-------+\n",
      "|1000299|   ALLEN|1600.00|   1000258|    300|\n",
      "+-------+--------+-------+----------+-------+\n",
      "\n"
     ]
    }
   ],
   "source": [
    "empdf.filter(col(\"emp_name\").like(\"%EN%\")).show()"
   ]
  },
  {
   "cell_type": "code",
   "execution_count": 30,
   "id": "e379cf0e-1681-4cbc-9e79-bcd4597e70a5",
   "metadata": {},
   "outputs": [
    {
     "name": "stdout",
     "output_type": "stream",
     "text": [
      "+-------+--------+-------+----------+-------+\n",
      "| emp_no|emp_name| salary|manager_id|dept_no|\n",
      "+-------+--------+-------+----------+-------+\n",
      "|1000276|   JONES|2975.00|   1000245|    200|\n",
      "|1000326|   ADAMS|1100.00|   1000288|    200|\n",
      "|1000336|   JAMES| 950.00|   1000258|    300|\n",
      "+-------+--------+-------+----------+-------+\n",
      "\n"
     ]
    }
   ],
   "source": [
    "empdf.filter(col(\"emp_name\").like(\"%S\")).show()"
   ]
  },
  {
   "cell_type": "code",
   "execution_count": 31,
   "id": "18925fdb-3e12-4801-ad24-ff1623739a59",
   "metadata": {},
   "outputs": [
    {
     "name": "stdout",
     "output_type": "stream",
     "text": [
      "+-------+--------+-------+----------+-------+\n",
      "| emp_no|emp_name| salary|manager_id|dept_no|\n",
      "+-------+--------+-------+----------+-------+\n",
      "|1000288|   SCOTT|3000.00|   1000276|    200|\n",
      "|1000294|   SMITH| 800.00|   1000292|    200|\n",
      "+-------+--------+-------+----------+-------+\n",
      "\n"
     ]
    }
   ],
   "source": [
    "empdf.filter(col(\"emp_name\").like(\"S%\")).show()"
   ]
  },
  {
   "cell_type": "code",
   "execution_count": 34,
   "id": "f57fb982-1a83-43dd-85f4-466f7115b869",
   "metadata": {},
   "outputs": [
    {
     "name": "stdout",
     "output_type": "stream",
     "text": [
      "+-------+--------+-------+----------+-------+\n",
      "| emp_no|emp_name| salary|manager_id|dept_no|\n",
      "+-------+--------+-------+----------+-------+\n",
      "|1000310|    WARD|1250.00|   1000258|    300|\n",
      "|1000347|   DAVID|1400.00|   1000245|    500|\n",
      "+-------+--------+-------+----------+-------+\n",
      "\n"
     ]
    }
   ],
   "source": [
    "empdf.filter(col(\"emp_name\").like(\"%A%D\")).show()"
   ]
  },
  {
   "cell_type": "code",
   "execution_count": 36,
   "id": "fbb86bdb-ee4d-4a12-89b9-38917ee060c6",
   "metadata": {},
   "outputs": [
    {
     "name": "stdout",
     "output_type": "stream",
     "text": [
      "+-------+--------+-------+----------+-------+\n",
      "| emp_no|emp_name| salary|manager_id|dept_no|\n",
      "+-------+--------+-------+----------+-------+\n",
      "|1000245| PRADEEP|5000.00|      null|    100|\n",
      "|1000258|   BLAKE|2850.00|   1000245|    300|\n",
      "|1000262|   CLARK|2450.00|   1000245|    100|\n",
      "|1000288|   SCOTT|3000.00|   1000276|    200|\n",
      "|1000292|    FORD|3000.00|   1000276|    200|\n",
      "|1000294|   SMITH| 800.00|   1000292|    200|\n",
      "|1000299|   ALLEN|1600.00|   1000258|    300|\n",
      "|1000310|    WARD|1250.00|   1000258|    300|\n",
      "|1000312|  MARTIN|1250.00|   1000258|    300|\n",
      "|1000315|  TURNER|1500.00|   1000258|    300|\n",
      "|1000326|   ADAMS|1100.00|   1000288|    200|\n",
      "|1000346|  MILLER|1300.00|   1000262|    100|\n",
      "|1000347|   DAVID|1400.00|   1000245|    500|\n",
      "+-------+--------+-------+----------+-------+\n",
      "\n"
     ]
    }
   ],
   "source": [
    "empdf.filter(~col(\"emp_name\").like(\"%ES%\")).show()"
   ]
  },
  {
   "cell_type": "code",
   "execution_count": 38,
   "id": "77d0dcec-44c3-4bcc-a53b-499c1dfdaaf8",
   "metadata": {},
   "outputs": [
    {
     "name": "stdout",
     "output_type": "stream",
     "text": [
      "+-------+--------+-------+----------+-------+\n",
      "| emp_no|emp_name| salary|manager_id|dept_no|\n",
      "+-------+--------+-------+----------+-------+\n",
      "|1000245| PRADEEP|5000.00|      null|    100|\n",
      "|1000258|   BLAKE|2850.00|   1000245|    300|\n",
      "|1000262|   CLARK|2450.00|   1000245|    100|\n",
      "|1000288|   SCOTT|3000.00|   1000276|    200|\n",
      "|1000292|    FORD|3000.00|   1000276|    200|\n",
      "|1000294|   SMITH| 800.00|   1000292|    200|\n",
      "|1000299|   ALLEN|1600.00|   1000258|    300|\n",
      "|1000310|    WARD|1250.00|   1000258|    300|\n",
      "|1000312|  MARTIN|1250.00|   1000258|    300|\n",
      "|1000315|  TURNER|1500.00|   1000258|    300|\n",
      "|1000346|  MILLER|1300.00|   1000262|    100|\n",
      "|1000347|   DAVID|1400.00|   1000245|    500|\n",
      "+-------+--------+-------+----------+-------+\n",
      "\n"
     ]
    }
   ],
   "source": [
    "empdf.filter(~col(\"emp_name\").like(\"%S\")).show()"
   ]
  },
  {
   "cell_type": "code",
   "execution_count": 40,
   "id": "64ee2179-38f4-4b71-8a3f-f39795f32fb8",
   "metadata": {},
   "outputs": [
    {
     "name": "stdout",
     "output_type": "stream",
     "text": [
      "+-------+--------+-------+----------+-------+\n",
      "| emp_no|emp_name| salary|manager_id|dept_no|\n",
      "+-------+--------+-------+----------+-------+\n",
      "|1000276|   JONES|2975.00|   1000245|    200|\n",
      "|1000288|   SCOTT|3000.00|   1000276|    200|\n",
      "|1000294|   SMITH| 800.00|   1000292|    200|\n",
      "|1000326|   ADAMS|1100.00|   1000288|    200|\n",
      "|1000336|   JAMES| 950.00|   1000258|    300|\n",
      "+-------+--------+-------+----------+-------+\n",
      "\n"
     ]
    }
   ],
   "source": [
    "empdf.filter(col(\"emp_name\").contains(\"S\")).show()"
   ]
  },
  {
   "cell_type": "code",
   "execution_count": 42,
   "id": "fb0485f7-0299-4cb9-a88b-c9b1eea8b6fe",
   "metadata": {},
   "outputs": [
    {
     "name": "stdout",
     "output_type": "stream",
     "text": [
      "+-------+--------+-------+----------+-------+\n",
      "| emp_no|emp_name| salary|manager_id|dept_no|\n",
      "+-------+--------+-------+----------+-------+\n",
      "|1000258|   BLAKE|2850.00|   1000245|    300|\n",
      "|1000276|   JONES|2975.00|   1000245|    200|\n",
      "|1000288|   SCOTT|3000.00|   1000276|    200|\n",
      "|1000292|    FORD|3000.00|   1000276|    200|\n",
      "+-------+--------+-------+----------+-------+\n",
      "\n"
     ]
    }
   ],
   "source": [
    "empdf.filter(col(\"salary\").between(2500,4500)).show()"
   ]
  },
  {
   "cell_type": "code",
   "execution_count": 43,
   "id": "8e1cd72c-f5f0-4369-9724-293a3fbed059",
   "metadata": {},
   "outputs": [
    {
     "name": "stdout",
     "output_type": "stream",
     "text": [
      "+-------+--------+-------+----------+-------+\n",
      "| emp_no|emp_name| salary|manager_id|dept_no|\n",
      "+-------+--------+-------+----------+-------+\n",
      "|1000292|    FORD|3000.00|   1000276|    200|\n",
      "|1000299|   ALLEN|1600.00|   1000258|    300|\n",
      "+-------+--------+-------+----------+-------+\n",
      "\n"
     ]
    }
   ],
   "source": [
    "empdf.filter((col(\"emp_name\")==\"FORD\")|(col(\"emp_name\")==\"ALLEN\")).show()"
   ]
  },
  {
   "cell_type": "code",
   "execution_count": 46,
   "id": "14beba43-2b64-4611-8180-71871772f06a",
   "metadata": {},
   "outputs": [
    {
     "name": "stdout",
     "output_type": "stream",
     "text": [
      "+-------+--------+-------+----------+-------+\n",
      "| emp_no|emp_name| salary|manager_id|dept_no|\n",
      "+-------+--------+-------+----------+-------+\n",
      "|1000292|    FORD|3000.00|   1000276|    200|\n",
      "|1000299|   ALLEN|1600.00|   1000258|    300|\n",
      "+-------+--------+-------+----------+-------+\n",
      "\n"
     ]
    }
   ],
   "source": [
    "empdf.filter((col(\"emp_name\")==\"FORD\")|(col(\"emp_name\")==\"ALLEN\")).show()"
   ]
  },
  {
   "cell_type": "code",
   "execution_count": 47,
   "id": "60e2922f-988f-4bd5-9665-116f1f1d87fc",
   "metadata": {},
   "outputs": [
    {
     "name": "stdout",
     "output_type": "stream",
     "text": [
      "+-------+--------+-------+----------+-------+\n",
      "| emp_no|emp_name| salary|manager_id|dept_no|\n",
      "+-------+--------+-------+----------+-------+\n",
      "|1000292|    FORD|3000.00|   1000276|    200|\n",
      "+-------+--------+-------+----------+-------+\n",
      "\n"
     ]
    }
   ],
   "source": [
    "empdf.filter((col(\"emp_name\")=='FORD')|(col(\"emp_name\")==\"ALIEN\")).show()"
   ]
  },
  {
   "cell_type": "code",
   "execution_count": 48,
   "id": "5db25024-2849-4617-920a-f5a46241c13e",
   "metadata": {},
   "outputs": [
    {
     "name": "stdout",
     "output_type": "stream",
     "text": [
      "+-------+--------+-------+----------+-------+\n",
      "| emp_no|emp_name| salary|manager_id|dept_no|\n",
      "+-------+--------+-------+----------+-------+\n",
      "|1000245| PRADEEP|5000.00|      null|    100|\n",
      "|1000258|   BLAKE|2850.00|   1000245|    300|\n",
      "|1000262|   CLARK|2450.00|   1000245|    100|\n",
      "|1000276|   JONES|2975.00|   1000245|    200|\n",
      "|1000288|   SCOTT|3000.00|   1000276|    200|\n",
      "|1000292|    FORD|3000.00|   1000276|    200|\n",
      "+-------+--------+-------+----------+-------+\n",
      "\n"
     ]
    }
   ],
   "source": [
    "empdf.filter((col(\"emp_name\")=='FORD')|(col(\"salary\")>2000)).show()"
   ]
  },
  {
   "cell_type": "code",
   "execution_count": 49,
   "id": "f6ca6eca-b582-4834-93db-c3b95fdf5a97",
   "metadata": {},
   "outputs": [
    {
     "name": "stdout",
     "output_type": "stream",
     "text": [
      "+-------+--------+-------+----------+-------+\n",
      "| emp_no|emp_name| salary|manager_id|dept_no|\n",
      "+-------+--------+-------+----------+-------+\n",
      "|1000276|   JONES|2975.00|   1000245|    200|\n",
      "|1000288|   SCOTT|3000.00|   1000276|    200|\n",
      "|1000292|    FORD|3000.00|   1000276|    200|\n",
      "+-------+--------+-------+----------+-------+\n",
      "\n"
     ]
    }
   ],
   "source": [
    "empdf.filter((col(\"dept_no\")==200)&(col(\"salary\")>2000)).show()"
   ]
  },
  {
   "cell_type": "code",
   "execution_count": 52,
   "id": "eb4b4abc-fa98-47f0-9ca2-309906d5b24f",
   "metadata": {},
   "outputs": [
    {
     "name": "stdout",
     "output_type": "stream",
     "text": [
      "+-------+--------+-------+----------+-------+\n",
      "| emp_no|emp_name| salary|manager_id|dept_no|\n",
      "+-------+--------+-------+----------+-------+\n",
      "|1000276|   JONES|2975.00|   1000245|    200|\n",
      "|1000288|   SCOTT|3000.00|   1000276|    200|\n",
      "|1000292|    FORD|3000.00|   1000276|    200|\n",
      "|1000336|   JAMES| 950.00|   1000258|    300|\n",
      "+-------+--------+-------+----------+-------+\n",
      "\n"
     ]
    }
   ],
   "source": [
    "empdf.filter(((col(\"dept_no\")==200)&(col(\"salary\")>2000))|(col(\"emp_name\")=='JAMES')).show()"
   ]
  },
  {
   "cell_type": "code",
   "execution_count": null,
   "id": "51382d7d-904d-4506-8d10-3caec522ba2f",
   "metadata": {},
   "outputs": [],
   "source": []
  },
  {
   "cell_type": "code",
   "execution_count": null,
   "id": "b7765b09-d9af-4a39-ad42-968700aadb43",
   "metadata": {},
   "outputs": [],
   "source": []
  },
  {
   "cell_type": "code",
   "execution_count": null,
   "id": "c0407d44-7582-4598-958a-cb6f5415c681",
   "metadata": {},
   "outputs": [],
   "source": []
  },
  {
   "cell_type": "code",
   "execution_count": null,
   "id": "f237733f-ae69-4308-9e75-a4e175e6f3b6",
   "metadata": {},
   "outputs": [],
   "source": []
  },
  {
   "cell_type": "code",
   "execution_count": null,
   "id": "6d363a24-b287-43d5-af2a-491c0c6d190f",
   "metadata": {},
   "outputs": [],
   "source": []
  },
  {
   "cell_type": "code",
   "execution_count": null,
   "id": "98272640-e431-4d88-b01c-c0da42f0a64e",
   "metadata": {},
   "outputs": [],
   "source": []
  },
  {
   "cell_type": "code",
   "execution_count": null,
   "id": "5b369ad7-9c21-4b4b-809f-b5a24ce27097",
   "metadata": {},
   "outputs": [],
   "source": []
  }
 ],
 "metadata": {
  "kernelspec": {
   "display_name": "Python 3 (ipykernel)",
   "language": "python",
   "name": "python3"
  },
  "language_info": {
   "codemirror_mode": {
    "name": "ipython",
    "version": 3
   },
   "file_extension": ".py",
   "mimetype": "text/x-python",
   "name": "python",
   "nbconvert_exporter": "python",
   "pygments_lexer": "ipython3",
   "version": "3.11.7"
  }
 },
 "nbformat": 4,
 "nbformat_minor": 5
}
