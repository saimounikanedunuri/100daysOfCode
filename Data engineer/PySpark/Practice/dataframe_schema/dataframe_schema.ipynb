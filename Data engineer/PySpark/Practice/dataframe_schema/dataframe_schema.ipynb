{
 "cells": [
  {
   "cell_type": "code",
   "execution_count": 1,
   "id": "74f30cc1-57d6-4100-8597-5a1a996cf5b7",
   "metadata": {},
   "outputs": [],
   "source": [
    "import pyspark # only run after findspark.init()\n",
    "from pyspark.sql import SparkSession\n",
    "spark = SparkSession.builder.getOrCreate()"
   ]
  },
  {
   "cell_type": "code",
   "execution_count": 2,
   "id": "17656548-7779-4f27-9e8c-77046be9f8f9",
   "metadata": {},
   "outputs": [],
   "source": [
    "df=spark.read.csv(\"C:/Users/nedun/Documents/Mona/DE/dataframe_schema/csv_file_with_duplicates.csv\",header=True)"
   ]
  },
  {
   "cell_type": "code",
   "execution_count": 4,
   "id": "bdf4eda0-5b64-43fd-8044-ffee9df7edc5",
   "metadata": {},
   "outputs": [
    {
     "name": "stdout",
     "output_type": "stream",
     "text": [
      "+-----+---------+-------+\n",
      "|db_id|  db_name|db_type|\n",
      "+-----+---------+-------+\n",
      "|   12| Teradata|  RDBMS|\n",
      "|   14|Snowflake|CloudDB|\n",
      "|   15|  Vertica|  RDBMS|\n",
      "|   12| Teradata|  RDBMS|\n",
      "|   22|    Mysql|  RDBMS|\n",
      "+-----+---------+-------+\n",
      "\n"
     ]
    }
   ],
   "source": [
    "df.show()"
   ]
  },
  {
   "cell_type": "code",
   "execution_count": 5,
   "id": "61ea8e9e-c317-4a9e-a23c-d5f4018e5da3",
   "metadata": {},
   "outputs": [
    {
     "name": "stdout",
     "output_type": "stream",
     "text": [
      "root\n",
      " |-- db_id: string (nullable = true)\n",
      " |-- db_name: string (nullable = true)\n",
      " |-- db_type: string (nullable = true)\n",
      "\n"
     ]
    }
   ],
   "source": [
    "df.printSchema()"
   ]
  },
  {
   "cell_type": "code",
   "execution_count": 6,
   "id": "de0a86d3-7ace-42d5-a59d-2bde0ba56fab",
   "metadata": {},
   "outputs": [
    {
     "data": {
      "text/plain": [
       "['db_id', 'db_name', 'db_type']"
      ]
     },
     "execution_count": 6,
     "metadata": {},
     "output_type": "execute_result"
    }
   ],
   "source": [
    "df.columns"
   ]
  },
  {
   "cell_type": "code",
   "execution_count": 7,
   "id": "7b801e96-8e63-4278-9765-407bfeca803c",
   "metadata": {},
   "outputs": [
    {
     "name": "stdout",
     "output_type": "stream",
     "text": [
      "+-----+---------+\n",
      "|db_id|  db_name|\n",
      "+-----+---------+\n",
      "|   12| Teradata|\n",
      "|   14|Snowflake|\n",
      "|   15|  Vertica|\n",
      "|   12| Teradata|\n",
      "|   22|    Mysql|\n",
      "+-----+---------+\n",
      "\n"
     ]
    }
   ],
   "source": [
    "col_name_list=df.columns\n",
    "col_name_list.remove('db_type')\n",
    "df.select(col_name_list).show()"
   ]
  },
  {
   "cell_type": "code",
   "execution_count": 8,
   "id": "4fcd5456-4702-4d94-813d-19ad2804d8a4",
   "metadata": {},
   "outputs": [
    {
     "data": {
      "text/plain": [
       "[('db_id', 'string'), ('db_name', 'string'), ('db_type', 'string')]"
      ]
     },
     "execution_count": 8,
     "metadata": {},
     "output_type": "execute_result"
    }
   ],
   "source": [
    "df.dtypes"
   ]
  },
  {
   "cell_type": "code",
   "execution_count": 9,
   "id": "6c115468-2b02-43c8-b323-c7fa30d0a7c0",
   "metadata": {},
   "outputs": [
    {
     "data": {
      "text/plain": [
       "StructType([StructField('db_id', StringType(), True), StructField('db_name', StringType(), True), StructField('db_type', StringType(), True)])"
      ]
     },
     "execution_count": 9,
     "metadata": {},
     "output_type": "execute_result"
    }
   ],
   "source": [
    "df.schema"
   ]
  },
  {
   "cell_type": "code",
   "execution_count": 10,
   "id": "9171e2c9-6b82-4b4a-b98e-405c79c80820",
   "metadata": {},
   "outputs": [
    {
     "data": {
      "text/plain": [
       "[StructField('db_id', StringType(), True),\n",
       " StructField('db_name', StringType(), True),\n",
       " StructField('db_type', StringType(), True)]"
      ]
     },
     "execution_count": 10,
     "metadata": {},
     "output_type": "execute_result"
    }
   ],
   "source": [
    "df.schema.fields"
   ]
  },
  {
   "cell_type": "code",
   "execution_count": 11,
   "id": "e49d7327-9c5d-46b2-9b20-45a3987fba2c",
   "metadata": {},
   "outputs": [
    {
     "data": {
      "text/plain": [
       "['db_id', 'db_name', 'db_type']"
      ]
     },
     "execution_count": 11,
     "metadata": {},
     "output_type": "execute_result"
    }
   ],
   "source": [
    "df.schema.names"
   ]
  },
  {
   "cell_type": "code",
   "execution_count": 12,
   "id": "92057a4e-163d-48ef-a4f1-5da0e6579925",
   "metadata": {},
   "outputs": [
    {
     "data": {
      "text/plain": [
       "['db_id', 'db_name', 'db_type']"
      ]
     },
     "execution_count": 12,
     "metadata": {},
     "output_type": "execute_result"
    }
   ],
   "source": [
    "df.schema.fieldNames()"
   ]
  },
  {
   "cell_type": "code",
   "execution_count": 13,
   "id": "c71cba17-920f-44ea-a2d8-bfa93f497686",
   "metadata": {},
   "outputs": [
    {
     "data": {
      "text/plain": [
       "{'type': 'struct',\n",
       " 'fields': [{'name': 'db_id',\n",
       "   'type': 'string',\n",
       "   'nullable': True,\n",
       "   'metadata': {}},\n",
       "  {'name': 'db_name', 'type': 'string', 'nullable': True, 'metadata': {}},\n",
       "  {'name': 'db_type', 'type': 'string', 'nullable': True, 'metadata': {}}]}"
      ]
     },
     "execution_count": 13,
     "metadata": {},
     "output_type": "execute_result"
    }
   ],
   "source": [
    "df.schema.jsonValue()"
   ]
  },
  {
   "cell_type": "code",
   "execution_count": 14,
   "id": "2ad6fd7d-5402-4ae7-a7f4-c240609b106d",
   "metadata": {},
   "outputs": [
    {
     "data": {
      "text/plain": [
       "'{\"fields\":[{\"metadata\":{},\"name\":\"db_id\",\"nullable\":true,\"type\":\"string\"},{\"metadata\":{},\"name\":\"db_name\",\"nullable\":true,\"type\":\"string\"},{\"metadata\":{},\"name\":\"db_type\",\"nullable\":true,\"type\":\"string\"}],\"type\":\"struct\"}'"
      ]
     },
     "execution_count": 14,
     "metadata": {},
     "output_type": "execute_result"
    }
   ],
   "source": [
    "df.schema.json()"
   ]
  },
  {
   "cell_type": "code",
   "execution_count": 18,
   "id": "4cf90217-7187-4b7b-9f47-d357fd9bcdc3",
   "metadata": {},
   "outputs": [
    {
     "name": "stdout",
     "output_type": "stream",
     "text": [
      "StructType([StructField('db_id', IntegerType(), True), StructField('db_name', StringType(), True), StructField('df_type_cd', StringType(), True)])\n"
     ]
    }
   ],
   "source": [
    "from pyspark.sql.types import StructType\n",
    "\n",
    "schema_def=StructType()\n",
    "schema_def.add(\"db_id\",\"integer\",True)\n",
    "schema_def.add(\"db_name\",\"string\",True)\n",
    "schema_def.add(\"df_type_cd\",\"string\",True)\n",
    "print(schema_def)"
   ]
  },
  {
   "cell_type": "code",
   "execution_count": 19,
   "id": "aecb934c-5924-4733-af27-34d6ff52ee6f",
   "metadata": {},
   "outputs": [
    {
     "name": "stdout",
     "output_type": "stream",
     "text": [
      "root\n",
      " |-- db_id: integer (nullable = true)\n",
      " |-- db_name: string (nullable = true)\n",
      " |-- db_type_cd: string (nullable = true)\n",
      "\n"
     ]
    }
   ],
   "source": [
    "from pyspark.sql.types import StructType\n",
    "\n",
    "schema_def=StructType()\n",
    "schema_def.add(\"db_id\",\"integer\",True)\n",
    "schema_def.add(\"db_name\",\"string\",True)\n",
    "schema_def.add(\"db_type_cd\",\"string\",True)\n",
    "\n",
    "df_with_schema=spark.read.csv(\"C:/Users/nedun/Documents/Mona/DE/csv_file_with_duplicates.csv\",schema=schema_def,header=True)\n",
    "df_with_schema.printSchema()"
   ]
  },
  {
   "cell_type": "code",
   "execution_count": null,
   "id": "dd8b6e49-e3dc-48a0-ade2-78a06b14e0a4",
   "metadata": {},
   "outputs": [],
   "source": []
  },
  {
   "cell_type": "code",
   "execution_count": null,
   "id": "10225863-674e-4e4c-bdd1-ffb8745761bb",
   "metadata": {},
   "outputs": [],
   "source": []
  },
  {
   "cell_type": "code",
   "execution_count": null,
   "id": "785d345a-11c7-482a-ab39-0354aef1f476",
   "metadata": {},
   "outputs": [],
   "source": []
  },
  {
   "cell_type": "code",
   "execution_count": null,
   "id": "9e76b30f-8bb5-4f2b-baa4-7bcdb1b4851c",
   "metadata": {},
   "outputs": [],
   "source": []
  },
  {
   "cell_type": "code",
   "execution_count": null,
   "id": "60257281-68fb-4a14-9bcd-7243d373278d",
   "metadata": {},
   "outputs": [],
   "source": []
  },
  {
   "cell_type": "code",
   "execution_count": null,
   "id": "21165dee-482e-40af-9eef-fe4c20e944a6",
   "metadata": {},
   "outputs": [],
   "source": []
  },
  {
   "cell_type": "code",
   "execution_count": null,
   "id": "59d7836d-b0c2-4fe9-b0e1-b4323ba0fa92",
   "metadata": {},
   "outputs": [],
   "source": []
  },
  {
   "cell_type": "code",
   "execution_count": null,
   "id": "12067224-925d-4865-a290-70374eeda07b",
   "metadata": {},
   "outputs": [],
   "source": []
  },
  {
   "cell_type": "code",
   "execution_count": null,
   "id": "8af3f55e-46e9-4aeb-badd-bf6443587402",
   "metadata": {},
   "outputs": [],
   "source": []
  }
 ],
 "metadata": {
  "kernelspec": {
   "display_name": "Python 3 (ipykernel)",
   "language": "python",
   "name": "python3"
  },
  "language_info": {
   "codemirror_mode": {
    "name": "ipython",
    "version": 3
   },
   "file_extension": ".py",
   "mimetype": "text/x-python",
   "name": "python",
   "nbconvert_exporter": "python",
   "pygments_lexer": "ipython3",
   "version": "3.11.7"
  }
 },
 "nbformat": 4,
 "nbformat_minor": 5
}
