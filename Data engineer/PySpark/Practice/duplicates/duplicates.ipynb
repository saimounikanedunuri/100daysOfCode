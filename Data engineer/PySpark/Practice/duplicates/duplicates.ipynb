{
 "cells": [
  {
   "cell_type": "code",
   "execution_count": 1,
   "id": "cbc19ae4-dc96-4cea-84f7-070dff3f94e6",
   "metadata": {},
   "outputs": [],
   "source": [
    "from pyspark.sql import SparkSession\n",
    "spark=SparkSession.builder.getOrCreate()"
   ]
  },
  {
   "cell_type": "code",
   "execution_count": 8,
   "id": "6eca8ed3-9862-4b42-bd45-6712c7940fd6",
   "metadata": {},
   "outputs": [
    {
     "name": "stdout",
     "output_type": "stream",
     "text": [
      "+-----+---------+-------+\n",
      "|db_id|  db_name|db_type|\n",
      "+-----+---------+-------+\n",
      "|   12| Teradata|  RDBMS|\n",
      "|   14|Snowflake|CloudDB|\n",
      "|   15|  Vertica|  RDBMS|\n",
      "|   12| Teradata|  RDBMS|\n",
      "|   22|    Mysql|  RDBMS|\n",
      "|   50|Snowflake|  RDBMS|\n",
      "+-----+---------+-------+\n",
      "\n"
     ]
    }
   ],
   "source": [
    "df=spark.read.csv(\"C:/Users/nedun/Documents/Mona/DE/duplicates/csv_file_with_duplicates_v1.csv\",header=True)\n",
    "df.show()"
   ]
  },
  {
   "cell_type": "code",
   "execution_count": 9,
   "id": "4603825c-2235-4735-b4a8-7faa2d2a633c",
   "metadata": {},
   "outputs": [
    {
     "name": "stdout",
     "output_type": "stream",
     "text": [
      "+-----+---------+-------+\n",
      "|db_id|  db_name|db_type|\n",
      "+-----+---------+-------+\n",
      "|   15|  Vertica|  RDBMS|\n",
      "|   12| Teradata|  RDBMS|\n",
      "|   22|    Mysql|  RDBMS|\n",
      "|   14|Snowflake|CloudDB|\n",
      "|   50|Snowflake|  RDBMS|\n",
      "+-----+---------+-------+\n",
      "\n"
     ]
    }
   ],
   "source": [
    "df_updated=df.distinct()\n",
    "df_updated.show()"
   ]
  },
  {
   "cell_type": "code",
   "execution_count": 11,
   "id": "f19d213e-c210-4b7e-9285-a9d98223ef13",
   "metadata": {},
   "outputs": [
    {
     "name": "stdout",
     "output_type": "stream",
     "text": [
      "+-----+---------+-------+\n",
      "|db_id|  db_name|db_type|\n",
      "+-----+---------+-------+\n",
      "|   15|  Vertica|  RDBMS|\n",
      "|   12| Teradata|  RDBMS|\n",
      "|   22|    Mysql|  RDBMS|\n",
      "|   14|Snowflake|CloudDB|\n",
      "|   50|Snowflake|  RDBMS|\n",
      "+-----+---------+-------+\n",
      "\n"
     ]
    }
   ],
   "source": [
    "df_updated=df.dropDuplicates()\n",
    "df_updated.show()"
   ]
  },
  {
   "cell_type": "code",
   "execution_count": 13,
   "id": "3fb0425f-ff88-43b7-a87e-b20a1a010fe1",
   "metadata": {},
   "outputs": [
    {
     "name": "stdout",
     "output_type": "stream",
     "text": [
      "+-----+---------+-------+\n",
      "|db_id|  db_name|db_type|\n",
      "+-----+---------+-------+\n",
      "|   22|    Mysql|  RDBMS|\n",
      "|   14|Snowflake|CloudDB|\n",
      "|   12| Teradata|  RDBMS|\n",
      "|   15|  Vertica|  RDBMS|\n",
      "+-----+---------+-------+\n",
      "\n"
     ]
    }
   ],
   "source": [
    "df_updated=df.dropDuplicates([\"db_name\"])\n",
    "df_updated.show()"
   ]
  },
  {
   "cell_type": "code",
   "execution_count": 14,
   "id": "3c7c65c3-e14f-4b3f-97a8-135b2d026018",
   "metadata": {},
   "outputs": [
    {
     "name": "stdout",
     "output_type": "stream",
     "text": [
      "+-----+---------+-------+\n",
      "|db_id|  db_name|db_type|\n",
      "+-----+---------+-------+\n",
      "|   12| Teradata|  RDBMS|\n",
      "|   14|Snowflake|CloudDB|\n",
      "|   15|  Vertica|  RDBMS|\n",
      "|   22|    Mysql|  RDBMS|\n",
      "|   50|Snowflake|  RDBMS|\n",
      "+-----+---------+-------+\n",
      "\n"
     ]
    }
   ],
   "source": [
    "df_updated=df.dropDuplicates([\"db_id\",\"db_type\"])\n",
    "df_updated.show()"
   ]
  },
  {
   "cell_type": "code",
   "execution_count": 15,
   "id": "212ea960-c221-40f9-a02b-2ffdf6f41032",
   "metadata": {},
   "outputs": [
    {
     "name": "stdout",
     "output_type": "stream",
     "text": [
      "+-----+---------+-------+\n",
      "|db_id|  db_name|db_type|\n",
      "+-----+---------+-------+\n",
      "|   15|  Vertica|  RDBMS|\n",
      "|   12| Teradata|  RDBMS|\n",
      "|   22|    Mysql|  RDBMS|\n",
      "|   14|Snowflake|CloudDB|\n",
      "|   50|Snowflake|  RDBMS|\n",
      "+-----+---------+-------+\n",
      "\n"
     ]
    }
   ],
   "source": [
    "\n",
    "df_updated=df.groupBy(df.columns).count().select(df.columns)\n",
    "df_updated.show()"
   ]
  },
  {
   "cell_type": "code",
   "execution_count": 18,
   "id": "0188cddb-73e7-4fcc-81b7-b6229ca242a2",
   "metadata": {},
   "outputs": [
    {
     "name": "stdout",
     "output_type": "stream",
     "text": [
      "+-----+--------+-------+-----+\n",
      "|db_id| db_name|db_type|count|\n",
      "+-----+--------+-------+-----+\n",
      "|   12|Teradata|  RDBMS|    2|\n",
      "+-----+--------+-------+-----+\n",
      "\n"
     ]
    }
   ],
   "source": [
    "#Find complete row duplicates\n",
    "from pyspark.sql.functions import col\n",
    "df_duplicates=df.groupby(df.columns).count().filter(col(\"count\")>1)\n",
    "df_duplicates.show()"
   ]
  },
  {
   "cell_type": "code",
   "execution_count": 19,
   "id": "099397cd-d9b8-40a2-b29d-ac6158773d32",
   "metadata": {},
   "outputs": [
    {
     "name": "stdout",
     "output_type": "stream",
     "text": [
      "+---------+-----+\n",
      "|  db_name|count|\n",
      "+---------+-----+\n",
      "|Snowflake|    2|\n",
      "| Teradata|    2|\n",
      "+---------+-----+\n",
      "\n"
     ]
    }
   ],
   "source": [
    "#Find column level duplicates\n",
    "df_duplicates=df.groupby(\"db_name\").count().filter(col(\"count\")>1)\n",
    "df_duplicates.show()"
   ]
  },
  {
   "cell_type": "code",
   "execution_count": null,
   "id": "b5906e43-d2b7-4515-b60a-38f30bd136fe",
   "metadata": {},
   "outputs": [],
   "source": []
  }
 ],
 "metadata": {
  "kernelspec": {
   "display_name": "Python 3 (ipykernel)",
   "language": "python",
   "name": "python3"
  },
  "language_info": {
   "codemirror_mode": {
    "name": "ipython",
    "version": 3
   },
   "file_extension": ".py",
   "mimetype": "text/x-python",
   "name": "python",
   "nbconvert_exporter": "python",
   "pygments_lexer": "ipython3",
   "version": "3.11.7"
  }
 },
 "nbformat": 4,
 "nbformat_minor": 5
}
